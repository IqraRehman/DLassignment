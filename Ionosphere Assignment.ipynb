{
 "cells": [
  {
   "cell_type": "markdown",
   "metadata": {},
   "source": [
    "# Assignment: Ionosphere Data Problem\n",
    "\n",
    "### Dataset Description: \n",
    "\n",
    "This radar data was collected by a system in Goose Bay, Labrador. This system consists of a phased array of 16 high-frequency antennas with a total transmitted power on the order of 6.4 kilowatts. See the paper for more details. The targets were free electrons in the ionosphere. \"Good\" radar returns are those showing evidence of some type of structure in the ionosphere. \"Bad\" returns are those that do not; their signals pass through the ionosphere.\n",
    "\n",
    "Received signals were processed using an autocorrelation function whose arguments are the time of a pulse and the pulse number. There were 17 pulse numbers for the Goose Bay system. Instances in this databse are described by 2 attributes per pulse number, corresponding to the complex values returned by the function resulting from the complex electromagnetic signal.\n",
    "\n",
    "### Attribute Information:\n",
    "\n",
    "- All 34 are continuous\n",
    "- The 35th attribute is either \"good\" or \"bad\" according to the definition summarized above. This is a binary classification task.\n",
    "\n",
    " <br><br>\n",
    "\n",
    "<table border=\"1\"  cellpadding=\"6\">\n",
    "\t<tbody>\n",
    "        <tr>\n",
    "\t\t<td bgcolor=\"#DDEEFF\"><p class=\"normal\"><b>Data Set Characteristics:&nbsp;&nbsp;</b></p></td>\n",
    "\t\t<td><p class=\"normal\">Multivariate</p></td>\n",
    "\t\t<td bgcolor=\"#DDEEFF\"><p class=\"normal\"><b>Number of Instances:</b></p></td>\n",
    "\t\t<td><p class=\"normal\">351</p></td>\n",
    "\t\t<td bgcolor=\"#DDEEFF\"><p class=\"normal\"><b>Area:</b></p></td>\n",
    "\t\t<td><p class=\"normal\">Physical</p></td>\n",
    "        </tr>\n",
    "     </tbody>\n",
    "    </table>\n",
    "<table border=\"1\" cellpadding=\"6\">\n",
    "    <tbody>\n",
    "        <tr>\n",
    "            <td bgcolor=\"#DDEEFF\"><p class=\"normal\"><b>Attribute Characteristics:</b></p></td>\n",
    "            <td><p class=\"normal\">Integer,Real</p></td>\n",
    "            <td bgcolor=\"#DDEEFF\"><p class=\"normal\"><b>Number of Attributes:</b></p></td>\n",
    "            <td><p class=\"normal\">34</p></td>\n",
    "            <td bgcolor=\"#DDEEFF\"><p class=\"normal\"><b>Date Donated</b></p></td>\n",
    "            <td><p class=\"normal\">N/A</p></td>\n",
    "        </tr>\n",
    "     </tbody>\n",
    "    </table>\n",
    "<table border=\"1\" cellpadding=\"6\">\t\n",
    "    <tbody>\n",
    "    <tr>\n",
    "\t\t<td bgcolor=\"#DDEEFF\"><p class=\"normal\"><b>Associated Tasks:</b></p></td>\n",
    "\t\t<td><p class=\"normal\">Classification</p></td>\n",
    "\t\t<td bgcolor=\"#DDEEFF\"><p class=\"normal\"><b>Missing Values?</b></p></td>\n",
    "\t\t<td><p class=\"normal\">N/A</p></td>\n",
    "\t\t<td bgcolor=\"#DDEEFF\"><p class=\"normal\"><b>Number of Web Hits:</b></p></td>\n",
    "\t\t<td><p class=\"normal\">N/A</p></td>\n",
    "\t</tr>\n",
    "    </tbody>\n",
    "    </table>"
   ]
  },
  {
   "cell_type": "markdown",
   "metadata": {},
   "source": [
    "### WORKFLOW :\n",
    "- Load Data\n",
    "- Check Missing Values ( If Exist ; Fill each record with mean of its feature ) or any usless column.\n",
    "- Shuffle the data if needed.\n",
    "- Standardized the Input Variables. **Hint**: Centeralized the data\n",
    "- Split into 60 and 40 ratio.\n",
    "- Encode labels.\n",
    "- Model : 1 hidden layers including 16 unit.\n",
    "- Compilation Step (Note : Its a Binary problem , select loss , metrics according to it)\n",
    "- Train the Model with Epochs (100).\n",
    "- If the model gets overfit tune your model by changing the units , No. of layers , epochs , add dropout layer or add Regularizer according to the need .\n",
    "- Prediction should be > **92%**\n",
    "- Evaluation Step\n",
    "- Prediction\n"
   ]
  },
  {
   "cell_type": "markdown",
   "metadata": {},
   "source": [
    "# Load Data:\n",
    "[Click Here to Download DataSet](https://github.com/ramsha275/ML_Datasets/blob/main/ionosphere_data.csv)"
   ]
  },
  {
   "cell_type": "code",
   "execution_count": 54,
   "metadata": {},
   "outputs": [],
   "source": [
    "import pandas as pd\n",
    "import numpy as np\n",
    "from tensorflow.keras import models,layers"
   ]
  },
  {
   "cell_type": "code",
   "execution_count": 55,
   "metadata": {},
   "outputs": [
    {
     "output_type": "execute_result",
     "data": {
      "text/plain": [
       "   feature1  feature2  feature3  feature4  feature5  feature6  feature7  \\\n",
       "0         1         0   0.99539  -0.05889   0.85243   0.02306   0.83398   \n",
       "1         1         0   1.00000  -0.18829   0.93035  -0.36156  -0.10868   \n",
       "2         1         0   1.00000  -0.03365   1.00000   0.00485   1.00000   \n",
       "3         1         0   1.00000  -0.45161   1.00000   1.00000   0.71216   \n",
       "4         1         0   1.00000  -0.02401   0.94140   0.06531   0.92106   \n",
       "\n",
       "   feature8  feature9  feature10  ...  feature26  feature27  feature28  \\\n",
       "0  -0.37708   1.00000    0.03760  ...   -0.51171    0.41078   -0.46168   \n",
       "1  -0.93597   1.00000   -0.04549  ...   -0.26569   -0.20468   -0.18401   \n",
       "2  -0.12062   0.88965    0.01198  ...   -0.40220    0.58984   -0.22145   \n",
       "3  -1.00000   0.00000    0.00000  ...    0.90695    0.51613    1.00000   \n",
       "4  -0.23255   0.77152   -0.16399  ...   -0.65158    0.13290   -0.53206   \n",
       "\n",
       "   feature29  feature30  feature31  feature32  feature33  feature34  label  \n",
       "0    0.21266   -0.34090    0.42267   -0.54487    0.18641   -0.45300      g  \n",
       "1   -0.19040   -0.11593   -0.16626   -0.06288   -0.13738   -0.02447      b  \n",
       "2    0.43100   -0.17365    0.60436   -0.24180    0.56045   -0.38238      g  \n",
       "3    1.00000   -0.20099    0.25682    1.00000   -0.32382    1.00000      b  \n",
       "4    0.02431   -0.62197   -0.05707   -0.59573   -0.04608   -0.65697      g  \n",
       "\n",
       "[5 rows x 35 columns]"
      ],
      "text/html": "<div>\n<style scoped>\n    .dataframe tbody tr th:only-of-type {\n        vertical-align: middle;\n    }\n\n    .dataframe tbody tr th {\n        vertical-align: top;\n    }\n\n    .dataframe thead th {\n        text-align: right;\n    }\n</style>\n<table border=\"1\" class=\"dataframe\">\n  <thead>\n    <tr style=\"text-align: right;\">\n      <th></th>\n      <th>feature1</th>\n      <th>feature2</th>\n      <th>feature3</th>\n      <th>feature4</th>\n      <th>feature5</th>\n      <th>feature6</th>\n      <th>feature7</th>\n      <th>feature8</th>\n      <th>feature9</th>\n      <th>feature10</th>\n      <th>...</th>\n      <th>feature26</th>\n      <th>feature27</th>\n      <th>feature28</th>\n      <th>feature29</th>\n      <th>feature30</th>\n      <th>feature31</th>\n      <th>feature32</th>\n      <th>feature33</th>\n      <th>feature34</th>\n      <th>label</th>\n    </tr>\n  </thead>\n  <tbody>\n    <tr>\n      <th>0</th>\n      <td>1</td>\n      <td>0</td>\n      <td>0.99539</td>\n      <td>-0.05889</td>\n      <td>0.85243</td>\n      <td>0.02306</td>\n      <td>0.83398</td>\n      <td>-0.37708</td>\n      <td>1.00000</td>\n      <td>0.03760</td>\n      <td>...</td>\n      <td>-0.51171</td>\n      <td>0.41078</td>\n      <td>-0.46168</td>\n      <td>0.21266</td>\n      <td>-0.34090</td>\n      <td>0.42267</td>\n      <td>-0.54487</td>\n      <td>0.18641</td>\n      <td>-0.45300</td>\n      <td>g</td>\n    </tr>\n    <tr>\n      <th>1</th>\n      <td>1</td>\n      <td>0</td>\n      <td>1.00000</td>\n      <td>-0.18829</td>\n      <td>0.93035</td>\n      <td>-0.36156</td>\n      <td>-0.10868</td>\n      <td>-0.93597</td>\n      <td>1.00000</td>\n      <td>-0.04549</td>\n      <td>...</td>\n      <td>-0.26569</td>\n      <td>-0.20468</td>\n      <td>-0.18401</td>\n      <td>-0.19040</td>\n      <td>-0.11593</td>\n      <td>-0.16626</td>\n      <td>-0.06288</td>\n      <td>-0.13738</td>\n      <td>-0.02447</td>\n      <td>b</td>\n    </tr>\n    <tr>\n      <th>2</th>\n      <td>1</td>\n      <td>0</td>\n      <td>1.00000</td>\n      <td>-0.03365</td>\n      <td>1.00000</td>\n      <td>0.00485</td>\n      <td>1.00000</td>\n      <td>-0.12062</td>\n      <td>0.88965</td>\n      <td>0.01198</td>\n      <td>...</td>\n      <td>-0.40220</td>\n      <td>0.58984</td>\n      <td>-0.22145</td>\n      <td>0.43100</td>\n      <td>-0.17365</td>\n      <td>0.60436</td>\n      <td>-0.24180</td>\n      <td>0.56045</td>\n      <td>-0.38238</td>\n      <td>g</td>\n    </tr>\n    <tr>\n      <th>3</th>\n      <td>1</td>\n      <td>0</td>\n      <td>1.00000</td>\n      <td>-0.45161</td>\n      <td>1.00000</td>\n      <td>1.00000</td>\n      <td>0.71216</td>\n      <td>-1.00000</td>\n      <td>0.00000</td>\n      <td>0.00000</td>\n      <td>...</td>\n      <td>0.90695</td>\n      <td>0.51613</td>\n      <td>1.00000</td>\n      <td>1.00000</td>\n      <td>-0.20099</td>\n      <td>0.25682</td>\n      <td>1.00000</td>\n      <td>-0.32382</td>\n      <td>1.00000</td>\n      <td>b</td>\n    </tr>\n    <tr>\n      <th>4</th>\n      <td>1</td>\n      <td>0</td>\n      <td>1.00000</td>\n      <td>-0.02401</td>\n      <td>0.94140</td>\n      <td>0.06531</td>\n      <td>0.92106</td>\n      <td>-0.23255</td>\n      <td>0.77152</td>\n      <td>-0.16399</td>\n      <td>...</td>\n      <td>-0.65158</td>\n      <td>0.13290</td>\n      <td>-0.53206</td>\n      <td>0.02431</td>\n      <td>-0.62197</td>\n      <td>-0.05707</td>\n      <td>-0.59573</td>\n      <td>-0.04608</td>\n      <td>-0.65697</td>\n      <td>g</td>\n    </tr>\n  </tbody>\n</table>\n<p>5 rows × 35 columns</p>\n</div>"
     },
     "metadata": {},
     "execution_count": 55
    }
   ],
   "source": [
    "dataset = pd.read_csv('ML_Datasets/ionosphere_data.csv')\n",
    "dataset.head()"
   ]
  },
  {
   "cell_type": "code",
   "execution_count": 56,
   "metadata": {},
   "outputs": [
    {
     "output_type": "execute_result",
     "data": {
      "text/plain": [
       "     feature1  feature2  feature3  feature4  feature5  feature6  feature7  \\\n",
       "230         0         0   0.00000   0.00000   0.00000   0.00000   0.00000   \n",
       "167         1         0   0.44444   0.44444   0.53695   0.90763  -0.22222   \n",
       "341         1         0   0.98002   0.00075   1.00000   0.00000   0.98982   \n",
       "202         1         0   0.00000   0.00000   0.00000   0.00000   0.00000   \n",
       "16          1         0   0.99645   0.06468   1.00000  -0.01236   0.97811   \n",
       "..        ...       ...       ...       ...       ...       ...       ...   \n",
       "283         1         0   0.89835   0.35157   0.67333   0.62233   0.43898   \n",
       "227         1         0   0.88804   0.38138   0.65926   0.69431   0.29148   \n",
       "133         1         0   0.34694   0.20408   0.46939   0.24490   0.40816   \n",
       "7           0         0   0.00000   0.00000   0.00000   0.00000   1.00000   \n",
       "31          1         0   1.00000  -1.00000   1.00000   1.00000   1.00000   \n",
       "\n",
       "     feature8  feature9  feature10  ...  feature26  feature27  feature28  \\\n",
       "230   0.00000   0.00000    0.00000  ...    0.00000    1.00000    1.00000   \n",
       "167   1.00000  -0.33333    0.88889  ...    0.00000    0.92120    0.45019   \n",
       "341  -0.00075   0.94721    0.02394  ...    0.08107    0.96709    0.07255   \n",
       "202   0.00000  -0.85000   -1.00000  ...    1.00000   -1.00000   -0.20000   \n",
       "16    0.02498   0.96112    0.02312  ...    0.13412    0.79476    0.13638   \n",
       "..        ...       ...        ...  ...        ...        ...        ...   \n",
       "283   0.94353  -0.03643    0.80510  ...   -0.53620    0.07158   -0.51925   \n",
       "227   0.87892  -0.06726    0.90135  ...   -0.61055    0.30406   -0.48392   \n",
       "133   0.20408   0.46939    0.44898  ...    0.22449   -0.46579    0.14895   \n",
       "7    -1.00000   0.00000    0.00000  ...    1.00000    1.00000    1.00000   \n",
       "31   -1.00000   1.00000   -1.00000  ...    0.00000    1.00000    1.00000   \n",
       "\n",
       "     feature29  feature30  feature31  feature32  feature33  feature34  label  \n",
       "230    0.00000    0.00000    0.00000    0.00000    0.00000    0.00000      b  \n",
       "167    0.57454    0.84353    0.22222    1.00000   -0.55556    1.00000      g  \n",
       "341    0.95701    0.08088    0.98190    0.08126    0.97247    0.08616      g  \n",
       "202    1.00000   -1.00000    0.00000    1.00000    0.00000    0.00000      b  \n",
       "16     0.79110    0.15379    0.77122    0.15930    0.70941    0.12015      g  \n",
       "..         ...        ...        ...        ...        ...        ...    ...  \n",
       "283    0.24321   -0.43478    0.36586   -0.30057    0.42805    0.13297      g  \n",
       "227    0.43227   -0.29838    0.47029   -0.09461    0.42152    0.12556      g  \n",
       "133   -0.59184    0.18367   -0.34694    0.00000   -0.26531   -0.24490      g  \n",
       "7      0.00000    0.00000    1.00000    1.00000    0.00000    0.00000      b  \n",
       "31     1.00000   -0.79141    1.00000    1.00000    1.00000    1.00000      b  \n",
       "\n",
       "[351 rows x 35 columns]"
      ],
      "text/html": "<div>\n<style scoped>\n    .dataframe tbody tr th:only-of-type {\n        vertical-align: middle;\n    }\n\n    .dataframe tbody tr th {\n        vertical-align: top;\n    }\n\n    .dataframe thead th {\n        text-align: right;\n    }\n</style>\n<table border=\"1\" class=\"dataframe\">\n  <thead>\n    <tr style=\"text-align: right;\">\n      <th></th>\n      <th>feature1</th>\n      <th>feature2</th>\n      <th>feature3</th>\n      <th>feature4</th>\n      <th>feature5</th>\n      <th>feature6</th>\n      <th>feature7</th>\n      <th>feature8</th>\n      <th>feature9</th>\n      <th>feature10</th>\n      <th>...</th>\n      <th>feature26</th>\n      <th>feature27</th>\n      <th>feature28</th>\n      <th>feature29</th>\n      <th>feature30</th>\n      <th>feature31</th>\n      <th>feature32</th>\n      <th>feature33</th>\n      <th>feature34</th>\n      <th>label</th>\n    </tr>\n  </thead>\n  <tbody>\n    <tr>\n      <th>230</th>\n      <td>0</td>\n      <td>0</td>\n      <td>0.00000</td>\n      <td>0.00000</td>\n      <td>0.00000</td>\n      <td>0.00000</td>\n      <td>0.00000</td>\n      <td>0.00000</td>\n      <td>0.00000</td>\n      <td>0.00000</td>\n      <td>...</td>\n      <td>0.00000</td>\n      <td>1.00000</td>\n      <td>1.00000</td>\n      <td>0.00000</td>\n      <td>0.00000</td>\n      <td>0.00000</td>\n      <td>0.00000</td>\n      <td>0.00000</td>\n      <td>0.00000</td>\n      <td>b</td>\n    </tr>\n    <tr>\n      <th>167</th>\n      <td>1</td>\n      <td>0</td>\n      <td>0.44444</td>\n      <td>0.44444</td>\n      <td>0.53695</td>\n      <td>0.90763</td>\n      <td>-0.22222</td>\n      <td>1.00000</td>\n      <td>-0.33333</td>\n      <td>0.88889</td>\n      <td>...</td>\n      <td>0.00000</td>\n      <td>0.92120</td>\n      <td>0.45019</td>\n      <td>0.57454</td>\n      <td>0.84353</td>\n      <td>0.22222</td>\n      <td>1.00000</td>\n      <td>-0.55556</td>\n      <td>1.00000</td>\n      <td>g</td>\n    </tr>\n    <tr>\n      <th>341</th>\n      <td>1</td>\n      <td>0</td>\n      <td>0.98002</td>\n      <td>0.00075</td>\n      <td>1.00000</td>\n      <td>0.00000</td>\n      <td>0.98982</td>\n      <td>-0.00075</td>\n      <td>0.94721</td>\n      <td>0.02394</td>\n      <td>...</td>\n      <td>0.08107</td>\n      <td>0.96709</td>\n      <td>0.07255</td>\n      <td>0.95701</td>\n      <td>0.08088</td>\n      <td>0.98190</td>\n      <td>0.08126</td>\n      <td>0.97247</td>\n      <td>0.08616</td>\n      <td>g</td>\n    </tr>\n    <tr>\n      <th>202</th>\n      <td>1</td>\n      <td>0</td>\n      <td>0.00000</td>\n      <td>0.00000</td>\n      <td>0.00000</td>\n      <td>0.00000</td>\n      <td>0.00000</td>\n      <td>0.00000</td>\n      <td>-0.85000</td>\n      <td>-1.00000</td>\n      <td>...</td>\n      <td>1.00000</td>\n      <td>-1.00000</td>\n      <td>-0.20000</td>\n      <td>1.00000</td>\n      <td>-1.00000</td>\n      <td>0.00000</td>\n      <td>1.00000</td>\n      <td>0.00000</td>\n      <td>0.00000</td>\n      <td>b</td>\n    </tr>\n    <tr>\n      <th>16</th>\n      <td>1</td>\n      <td>0</td>\n      <td>0.99645</td>\n      <td>0.06468</td>\n      <td>1.00000</td>\n      <td>-0.01236</td>\n      <td>0.97811</td>\n      <td>0.02498</td>\n      <td>0.96112</td>\n      <td>0.02312</td>\n      <td>...</td>\n      <td>0.13412</td>\n      <td>0.79476</td>\n      <td>0.13638</td>\n      <td>0.79110</td>\n      <td>0.15379</td>\n      <td>0.77122</td>\n      <td>0.15930</td>\n      <td>0.70941</td>\n      <td>0.12015</td>\n      <td>g</td>\n    </tr>\n    <tr>\n      <th>...</th>\n      <td>...</td>\n      <td>...</td>\n      <td>...</td>\n      <td>...</td>\n      <td>...</td>\n      <td>...</td>\n      <td>...</td>\n      <td>...</td>\n      <td>...</td>\n      <td>...</td>\n      <td>...</td>\n      <td>...</td>\n      <td>...</td>\n      <td>...</td>\n      <td>...</td>\n      <td>...</td>\n      <td>...</td>\n      <td>...</td>\n      <td>...</td>\n      <td>...</td>\n      <td>...</td>\n    </tr>\n    <tr>\n      <th>283</th>\n      <td>1</td>\n      <td>0</td>\n      <td>0.89835</td>\n      <td>0.35157</td>\n      <td>0.67333</td>\n      <td>0.62233</td>\n      <td>0.43898</td>\n      <td>0.94353</td>\n      <td>-0.03643</td>\n      <td>0.80510</td>\n      <td>...</td>\n      <td>-0.53620</td>\n      <td>0.07158</td>\n      <td>-0.51925</td>\n      <td>0.24321</td>\n      <td>-0.43478</td>\n      <td>0.36586</td>\n      <td>-0.30057</td>\n      <td>0.42805</td>\n      <td>0.13297</td>\n      <td>g</td>\n    </tr>\n    <tr>\n      <th>227</th>\n      <td>1</td>\n      <td>0</td>\n      <td>0.88804</td>\n      <td>0.38138</td>\n      <td>0.65926</td>\n      <td>0.69431</td>\n      <td>0.29148</td>\n      <td>0.87892</td>\n      <td>-0.06726</td>\n      <td>0.90135</td>\n      <td>...</td>\n      <td>-0.61055</td>\n      <td>0.30406</td>\n      <td>-0.48392</td>\n      <td>0.43227</td>\n      <td>-0.29838</td>\n      <td>0.47029</td>\n      <td>-0.09461</td>\n      <td>0.42152</td>\n      <td>0.12556</td>\n      <td>g</td>\n    </tr>\n    <tr>\n      <th>133</th>\n      <td>1</td>\n      <td>0</td>\n      <td>0.34694</td>\n      <td>0.20408</td>\n      <td>0.46939</td>\n      <td>0.24490</td>\n      <td>0.40816</td>\n      <td>0.20408</td>\n      <td>0.46939</td>\n      <td>0.44898</td>\n      <td>...</td>\n      <td>0.22449</td>\n      <td>-0.46579</td>\n      <td>0.14895</td>\n      <td>-0.59184</td>\n      <td>0.18367</td>\n      <td>-0.34694</td>\n      <td>0.00000</td>\n      <td>-0.26531</td>\n      <td>-0.24490</td>\n      <td>g</td>\n    </tr>\n    <tr>\n      <th>7</th>\n      <td>0</td>\n      <td>0</td>\n      <td>0.00000</td>\n      <td>0.00000</td>\n      <td>0.00000</td>\n      <td>0.00000</td>\n      <td>1.00000</td>\n      <td>-1.00000</td>\n      <td>0.00000</td>\n      <td>0.00000</td>\n      <td>...</td>\n      <td>1.00000</td>\n      <td>1.00000</td>\n      <td>1.00000</td>\n      <td>0.00000</td>\n      <td>0.00000</td>\n      <td>1.00000</td>\n      <td>1.00000</td>\n      <td>0.00000</td>\n      <td>0.00000</td>\n      <td>b</td>\n    </tr>\n    <tr>\n      <th>31</th>\n      <td>1</td>\n      <td>0</td>\n      <td>1.00000</td>\n      <td>-1.00000</td>\n      <td>1.00000</td>\n      <td>1.00000</td>\n      <td>1.00000</td>\n      <td>-1.00000</td>\n      <td>1.00000</td>\n      <td>-1.00000</td>\n      <td>...</td>\n      <td>0.00000</td>\n      <td>1.00000</td>\n      <td>1.00000</td>\n      <td>1.00000</td>\n      <td>-0.79141</td>\n      <td>1.00000</td>\n      <td>1.00000</td>\n      <td>1.00000</td>\n      <td>1.00000</td>\n      <td>b</td>\n    </tr>\n  </tbody>\n</table>\n<p>351 rows × 35 columns</p>\n</div>"
     },
     "metadata": {},
     "execution_count": 56
    }
   ],
   "source": [
    "dataset.sample(frac=1)"
   ]
  },
  {
   "cell_type": "code",
   "execution_count": 57,
   "metadata": {},
   "outputs": [
    {
     "output_type": "execute_result",
     "data": {
      "text/plain": [
       "feature1     0\n",
       "feature2     0\n",
       "feature3     0\n",
       "feature4     0\n",
       "feature5     0\n",
       "feature6     0\n",
       "feature7     0\n",
       "feature8     0\n",
       "feature9     0\n",
       "feature10    0\n",
       "feature11    0\n",
       "feature12    0\n",
       "feature13    0\n",
       "feature14    0\n",
       "feature15    0\n",
       "feature16    0\n",
       "feature17    0\n",
       "feature18    0\n",
       "feature19    0\n",
       "feature20    0\n",
       "feature21    0\n",
       "feature22    0\n",
       "feature23    0\n",
       "feature24    0\n",
       "feature25    0\n",
       "feature26    0\n",
       "feature27    0\n",
       "feature28    0\n",
       "feature29    0\n",
       "feature30    0\n",
       "feature31    0\n",
       "feature32    0\n",
       "feature33    0\n",
       "feature34    0\n",
       "label        0\n",
       "dtype: int64"
      ]
     },
     "metadata": {},
     "execution_count": 57
    }
   ],
   "source": [
    "dataset.isnull().sum()"
   ]
  },
  {
   "cell_type": "code",
   "execution_count": 115,
   "metadata": {},
   "outputs": [
    {
     "output_type": "execute_result",
     "data": {
      "text/plain": [
       "(351,)"
      ]
     },
     "metadata": {},
     "execution_count": 115
    }
   ],
   "source": [
    "#Splitting the data\n",
    "data = dataset.iloc[:,:-1]\n",
    "targets = dataset.iloc[:,-1]\n",
    "targets.shape"
   ]
  },
  {
   "cell_type": "code",
   "execution_count": 116,
   "metadata": {},
   "outputs": [
    {
     "output_type": "execute_result",
     "data": {
      "text/plain": [
       "(210,)"
      ]
     },
     "metadata": {},
     "execution_count": 116
    }
   ],
   "source": [
    "from sklearn.model_selection import train_test_split\n",
    "train_data,test_data,train_targets,test_targets = train_test_split(data,targets,test_size=.4)\n",
    "test_data.shape\n",
    "train_targets.shape"
   ]
  },
  {
   "cell_type": "code",
   "execution_count": 117,
   "metadata": {},
   "outputs": [
    {
     "output_type": "stream",
     "name": "stderr",
     "text": [
      "<ipython-input-117-0e838ed20661>:8: SettingWithCopyWarning: \nA value is trying to be set on a copy of a slice from a DataFrame\n\nSee the caveats in the documentation: https://pandas.pydata.org/pandas-docs/stable/user_guide/indexing.html#returning-a-view-versus-a-copy\n  train_data.dropna(how=\"all\",axis=1,inplace=True)\n<ipython-input-117-0e838ed20661>:9: SettingWithCopyWarning: \nA value is trying to be set on a copy of a slice from a DataFrame\n\nSee the caveats in the documentation: https://pandas.pydata.org/pandas-docs/stable/user_guide/indexing.html#returning-a-view-versus-a-copy\n  test_data.dropna(how=\"all\",axis=1,inplace=True)\n"
     ]
    }
   ],
   "source": [
    "mean = train_data.mean(axis=0)\n",
    "train_data -= mean\n",
    "std = train_data.std(axis=0)\n",
    "train_data /= std\n",
    "test_data -= mean\n",
    "test_data /= std\n",
    "\n",
    "train_data.dropna(how=\"all\",axis=1,inplace=True)\n",
    "test_data.dropna(how=\"all\",axis=1,inplace=True)"
   ]
  },
  {
   "cell_type": "code",
   "execution_count": 110,
   "metadata": {},
   "outputs": [
    {
     "output_type": "execute_result",
     "data": {
      "text/plain": [
       "     feature1  feature3  feature4  feature5  feature6  feature7  feature8  \\\n",
       "12    0.34987  0.761299 -0.510512  0.761227 -0.548889  0.963538 -0.599266   \n",
       "165   0.34987  0.761299  1.231667 -0.009822  1.970724 -1.130272  1.652271   \n",
       "47    0.34987  0.645053 -0.177062 -3.378077  0.281308 -1.949404  0.394329   \n",
       "131   0.34987 -0.010758 -0.077058 -0.601722 -0.372101 -0.045543 -0.234496   \n",
       "253   0.34987  0.506923  0.952524 -0.075471  1.459684 -0.752016  1.545496   \n",
       "..        ...       ...       ...       ...       ...       ...       ...   \n",
       "315   0.34987  0.504900  0.750488  0.106989  1.173186 -0.428584  1.257147   \n",
       "319   0.34987  0.438794 -0.067127  0.600022 -0.283020  0.793685 -0.259631   \n",
       "185   0.34987  0.420804  0.951766 -0.273599  1.425493 -0.960376  1.524446   \n",
       "239   0.34987 -0.059499  0.154040  0.154695 -0.474926  0.330492 -0.269443   \n",
       "175   0.34987  0.761299  0.176423  0.761227  0.221799  0.963560  0.502550   \n",
       "\n",
       "     feature9  feature10  feature11  ...  feature25  feature26  feature27  \\\n",
       "12   1.006810  -0.778776   0.858214  ...   0.795491  -0.834340   0.455438   \n",
       "165 -2.144257   1.484204  -2.418988  ...   0.941158  -0.309322   0.790847   \n",
       "47   0.356763  -1.675366   0.968656  ...   0.791740  -0.826065  -0.028358   \n",
       "131 -0.695130  -0.139649  -0.084441  ...  -0.324992   0.333912  -0.691200   \n",
       "253 -1.617380   1.492063  -2.050654  ...   0.288786  -1.014487   0.373308   \n",
       "..        ...        ...        ...  ...        ...        ...        ...   \n",
       "315 -0.984397   1.457500  -1.442393  ...  -0.921908  -1.417429  -0.736788   \n",
       "319  0.853824  -0.224637   0.738241  ...   0.789016   0.356438   0.670966   \n",
       "185 -1.906246   1.403562  -2.233400  ...   0.629841  -0.459919   0.489946   \n",
       "239  0.462806  -0.382753   0.430451  ...   0.564159  -0.061659   0.326934   \n",
       "175  1.006810  -0.267852   0.968656  ...   1.082605  -0.108004   0.934399   \n",
       "\n",
       "     feature28  feature29  feature30  feature31  feature32  feature33  \\\n",
       "12   -1.067525   0.502429  -1.490870   0.598796  -1.363603   0.629262   \n",
       "165   0.435786   0.632280   1.245295  -0.231424   1.820864  -0.864893   \n",
       "47   -1.063028   1.154476  -1.329714  -0.840754   0.386020  -0.754568   \n",
       "131   0.131643  -0.416622   0.126959  -0.305231  -0.035405  -0.301586   \n",
       "253  -0.431757   0.630929   0.216127   0.404457   0.765481   0.043688   \n",
       "..         ...        ...        ...        ...        ...        ...   \n",
       "315  -1.313574   0.025945  -1.248189   0.376694  -0.792044   0.590938   \n",
       "319   0.193633   0.918535   0.198424   0.901670   0.173156   1.010771   \n",
       "185   0.174581   0.472221   0.939663  -0.086160   1.249779  -0.643325   \n",
       "239  -0.005376   0.456546   0.111847   0.785198  -0.141292   0.638756   \n",
       "175   0.404856   1.154476   0.135190   1.173639   0.690959   1.318267   \n",
       "\n",
       "     feature34  \n",
       "12   -1.585464  \n",
       "165   1.931641  \n",
       "47    0.852908  \n",
       "131   0.079968  \n",
       "253   1.204636  \n",
       "..         ...  \n",
       "315  -0.380767  \n",
       "319   0.155506  \n",
       "185   1.467220  \n",
       "239  -0.188470  \n",
       "175   0.442174  \n",
       "\n",
       "[210 rows x 33 columns]"
      ],
      "text/html": "<div>\n<style scoped>\n    .dataframe tbody tr th:only-of-type {\n        vertical-align: middle;\n    }\n\n    .dataframe tbody tr th {\n        vertical-align: top;\n    }\n\n    .dataframe thead th {\n        text-align: right;\n    }\n</style>\n<table border=\"1\" class=\"dataframe\">\n  <thead>\n    <tr style=\"text-align: right;\">\n      <th></th>\n      <th>feature1</th>\n      <th>feature3</th>\n      <th>feature4</th>\n      <th>feature5</th>\n      <th>feature6</th>\n      <th>feature7</th>\n      <th>feature8</th>\n      <th>feature9</th>\n      <th>feature10</th>\n      <th>feature11</th>\n      <th>...</th>\n      <th>feature25</th>\n      <th>feature26</th>\n      <th>feature27</th>\n      <th>feature28</th>\n      <th>feature29</th>\n      <th>feature30</th>\n      <th>feature31</th>\n      <th>feature32</th>\n      <th>feature33</th>\n      <th>feature34</th>\n    </tr>\n  </thead>\n  <tbody>\n    <tr>\n      <th>12</th>\n      <td>0.34987</td>\n      <td>0.761299</td>\n      <td>-0.510512</td>\n      <td>0.761227</td>\n      <td>-0.548889</td>\n      <td>0.963538</td>\n      <td>-0.599266</td>\n      <td>1.006810</td>\n      <td>-0.778776</td>\n      <td>0.858214</td>\n      <td>...</td>\n      <td>0.795491</td>\n      <td>-0.834340</td>\n      <td>0.455438</td>\n      <td>-1.067525</td>\n      <td>0.502429</td>\n      <td>-1.490870</td>\n      <td>0.598796</td>\n      <td>-1.363603</td>\n      <td>0.629262</td>\n      <td>-1.585464</td>\n    </tr>\n    <tr>\n      <th>165</th>\n      <td>0.34987</td>\n      <td>0.761299</td>\n      <td>1.231667</td>\n      <td>-0.009822</td>\n      <td>1.970724</td>\n      <td>-1.130272</td>\n      <td>1.652271</td>\n      <td>-2.144257</td>\n      <td>1.484204</td>\n      <td>-2.418988</td>\n      <td>...</td>\n      <td>0.941158</td>\n      <td>-0.309322</td>\n      <td>0.790847</td>\n      <td>0.435786</td>\n      <td>0.632280</td>\n      <td>1.245295</td>\n      <td>-0.231424</td>\n      <td>1.820864</td>\n      <td>-0.864893</td>\n      <td>1.931641</td>\n    </tr>\n    <tr>\n      <th>47</th>\n      <td>0.34987</td>\n      <td>0.645053</td>\n      <td>-0.177062</td>\n      <td>-3.378077</td>\n      <td>0.281308</td>\n      <td>-1.949404</td>\n      <td>0.394329</td>\n      <td>0.356763</td>\n      <td>-1.675366</td>\n      <td>0.968656</td>\n      <td>...</td>\n      <td>0.791740</td>\n      <td>-0.826065</td>\n      <td>-0.028358</td>\n      <td>-1.063028</td>\n      <td>1.154476</td>\n      <td>-1.329714</td>\n      <td>-0.840754</td>\n      <td>0.386020</td>\n      <td>-0.754568</td>\n      <td>0.852908</td>\n    </tr>\n    <tr>\n      <th>131</th>\n      <td>0.34987</td>\n      <td>-0.010758</td>\n      <td>-0.077058</td>\n      <td>-0.601722</td>\n      <td>-0.372101</td>\n      <td>-0.045543</td>\n      <td>-0.234496</td>\n      <td>-0.695130</td>\n      <td>-0.139649</td>\n      <td>-0.084441</td>\n      <td>...</td>\n      <td>-0.324992</td>\n      <td>0.333912</td>\n      <td>-0.691200</td>\n      <td>0.131643</td>\n      <td>-0.416622</td>\n      <td>0.126959</td>\n      <td>-0.305231</td>\n      <td>-0.035405</td>\n      <td>-0.301586</td>\n      <td>0.079968</td>\n    </tr>\n    <tr>\n      <th>253</th>\n      <td>0.34987</td>\n      <td>0.506923</td>\n      <td>0.952524</td>\n      <td>-0.075471</td>\n      <td>1.459684</td>\n      <td>-0.752016</td>\n      <td>1.545496</td>\n      <td>-1.617380</td>\n      <td>1.492063</td>\n      <td>-2.050654</td>\n      <td>...</td>\n      <td>0.288786</td>\n      <td>-1.014487</td>\n      <td>0.373308</td>\n      <td>-0.431757</td>\n      <td>0.630929</td>\n      <td>0.216127</td>\n      <td>0.404457</td>\n      <td>0.765481</td>\n      <td>0.043688</td>\n      <td>1.204636</td>\n    </tr>\n    <tr>\n      <th>...</th>\n      <td>...</td>\n      <td>...</td>\n      <td>...</td>\n      <td>...</td>\n      <td>...</td>\n      <td>...</td>\n      <td>...</td>\n      <td>...</td>\n      <td>...</td>\n      <td>...</td>\n      <td>...</td>\n      <td>...</td>\n      <td>...</td>\n      <td>...</td>\n      <td>...</td>\n      <td>...</td>\n      <td>...</td>\n      <td>...</td>\n      <td>...</td>\n      <td>...</td>\n      <td>...</td>\n    </tr>\n    <tr>\n      <th>315</th>\n      <td>0.34987</td>\n      <td>0.504900</td>\n      <td>0.750488</td>\n      <td>0.106989</td>\n      <td>1.173186</td>\n      <td>-0.428584</td>\n      <td>1.257147</td>\n      <td>-0.984397</td>\n      <td>1.457500</td>\n      <td>-1.442393</td>\n      <td>...</td>\n      <td>-0.921908</td>\n      <td>-1.417429</td>\n      <td>-0.736788</td>\n      <td>-1.313574</td>\n      <td>0.025945</td>\n      <td>-1.248189</td>\n      <td>0.376694</td>\n      <td>-0.792044</td>\n      <td>0.590938</td>\n      <td>-0.380767</td>\n    </tr>\n    <tr>\n      <th>319</th>\n      <td>0.34987</td>\n      <td>0.438794</td>\n      <td>-0.067127</td>\n      <td>0.600022</td>\n      <td>-0.283020</td>\n      <td>0.793685</td>\n      <td>-0.259631</td>\n      <td>0.853824</td>\n      <td>-0.224637</td>\n      <td>0.738241</td>\n      <td>...</td>\n      <td>0.789016</td>\n      <td>0.356438</td>\n      <td>0.670966</td>\n      <td>0.193633</td>\n      <td>0.918535</td>\n      <td>0.198424</td>\n      <td>0.901670</td>\n      <td>0.173156</td>\n      <td>1.010771</td>\n      <td>0.155506</td>\n    </tr>\n    <tr>\n      <th>185</th>\n      <td>0.34987</td>\n      <td>0.420804</td>\n      <td>0.951766</td>\n      <td>-0.273599</td>\n      <td>1.425493</td>\n      <td>-0.960376</td>\n      <td>1.524446</td>\n      <td>-1.906246</td>\n      <td>1.403562</td>\n      <td>-2.233400</td>\n      <td>...</td>\n      <td>0.629841</td>\n      <td>-0.459919</td>\n      <td>0.489946</td>\n      <td>0.174581</td>\n      <td>0.472221</td>\n      <td>0.939663</td>\n      <td>-0.086160</td>\n      <td>1.249779</td>\n      <td>-0.643325</td>\n      <td>1.467220</td>\n    </tr>\n    <tr>\n      <th>239</th>\n      <td>0.34987</td>\n      <td>-0.059499</td>\n      <td>0.154040</td>\n      <td>0.154695</td>\n      <td>-0.474926</td>\n      <td>0.330492</td>\n      <td>-0.269443</td>\n      <td>0.462806</td>\n      <td>-0.382753</td>\n      <td>0.430451</td>\n      <td>...</td>\n      <td>0.564159</td>\n      <td>-0.061659</td>\n      <td>0.326934</td>\n      <td>-0.005376</td>\n      <td>0.456546</td>\n      <td>0.111847</td>\n      <td>0.785198</td>\n      <td>-0.141292</td>\n      <td>0.638756</td>\n      <td>-0.188470</td>\n    </tr>\n    <tr>\n      <th>175</th>\n      <td>0.34987</td>\n      <td>0.761299</td>\n      <td>0.176423</td>\n      <td>0.761227</td>\n      <td>0.221799</td>\n      <td>0.963560</td>\n      <td>0.502550</td>\n      <td>1.006810</td>\n      <td>-0.267852</td>\n      <td>0.968656</td>\n      <td>...</td>\n      <td>1.082605</td>\n      <td>-0.108004</td>\n      <td>0.934399</td>\n      <td>0.404856</td>\n      <td>1.154476</td>\n      <td>0.135190</td>\n      <td>1.173639</td>\n      <td>0.690959</td>\n      <td>1.318267</td>\n      <td>0.442174</td>\n    </tr>\n  </tbody>\n</table>\n<p>210 rows × 33 columns</p>\n</div>"
     },
     "metadata": {},
     "execution_count": 110
    }
   ],
   "source": [
    "train_data"
   ]
  },
  {
   "cell_type": "code",
   "execution_count": 118,
   "metadata": {},
   "outputs": [],
   "source": [
    "from sklearn.preprocessing import LabelEncoder\n",
    "label_encoder = LabelEncoder()\n",
    "train_targets = label_encoder.fit_transform(train_targets)\n",
    "test_targets = label_encoder.fit_transform(test_targets)"
   ]
  },
  {
   "cell_type": "code",
   "execution_count": 85,
   "metadata": {},
   "outputs": [],
   "source": [
    "model = models.Sequential()\n",
    "model.add(layers.Dense(16,activation='relu',input_shape=(train_data.shape[1],)))\n",
    "model.add(layers.Dense(16,activation='relu'))\n",
    "model.add(layers.Dense(1,activation='sigmoid'))"
   ]
  },
  {
   "cell_type": "code",
   "execution_count": 86,
   "metadata": {},
   "outputs": [],
   "source": [
    "model.compile(optimizer='rmsprop',loss='binary_crossentropy',metrics=['accuracy'])"
   ]
  },
  {
   "cell_type": "code",
   "execution_count": 87,
   "metadata": {
    "tags": []
   },
   "outputs": [
    {
     "output_type": "stream",
     "name": "stdout",
     "text": [
      "Epoch 1/100\n",
      "7/7 [==============================] - 1s 2ms/step - loss: 0.6693 - accuracy: 0.4916\n",
      "Epoch 2/100\n",
      "7/7 [==============================] - 0s 2ms/step - loss: 0.6130 - accuracy: 0.6684\n",
      "Epoch 3/100\n",
      "7/7 [==============================] - 0s 2ms/step - loss: 0.5553 - accuracy: 0.7761\n",
      "Epoch 4/100\n",
      "7/7 [==============================] - 0s 3ms/step - loss: 0.5206 - accuracy: 0.7962\n",
      "Epoch 5/100\n",
      "7/7 [==============================] - 0s 3ms/step - loss: 0.4651 - accuracy: 0.8750\n",
      "Epoch 6/100\n",
      "7/7 [==============================] - 0s 2ms/step - loss: 0.4544 - accuracy: 0.8361\n",
      "Epoch 7/100\n",
      "7/7 [==============================] - 0s 3ms/step - loss: 0.4438 - accuracy: 0.8241\n",
      "Epoch 8/100\n",
      "7/7 [==============================] - 0s 4ms/step - loss: 0.4072 - accuracy: 0.8531\n",
      "Epoch 9/100\n",
      "7/7 [==============================] - 0s 3ms/step - loss: 0.3682 - accuracy: 0.8666\n",
      "Epoch 10/100\n",
      "7/7 [==============================] - 0s 2ms/step - loss: 0.3752 - accuracy: 0.8684\n",
      "Epoch 11/100\n",
      "7/7 [==============================] - 0s 2ms/step - loss: 0.3525 - accuracy: 0.8720\n",
      "Epoch 12/100\n",
      "7/7 [==============================] - 0s 2ms/step - loss: 0.3358 - accuracy: 0.8700\n",
      "Epoch 13/100\n",
      "7/7 [==============================] - 0s 3ms/step - loss: 0.3132 - accuracy: 0.8894\n",
      "Epoch 14/100\n",
      "7/7 [==============================] - 0s 3ms/step - loss: 0.2754 - accuracy: 0.8991\n",
      "Epoch 15/100\n",
      "7/7 [==============================] - 0s 2ms/step - loss: 0.3128 - accuracy: 0.8959\n",
      "Epoch 16/100\n",
      "7/7 [==============================] - 0s 3ms/step - loss: 0.2587 - accuracy: 0.9045\n",
      "Epoch 17/100\n",
      "7/7 [==============================] - 0s 3ms/step - loss: 0.2398 - accuracy: 0.9240\n",
      "Epoch 18/100\n",
      "7/7 [==============================] - 0s 3ms/step - loss: 0.2516 - accuracy: 0.9141\n",
      "Epoch 19/100\n",
      "7/7 [==============================] - 0s 3ms/step - loss: 0.2267 - accuracy: 0.9326\n",
      "Epoch 20/100\n",
      "7/7 [==============================] - 0s 3ms/step - loss: 0.2375 - accuracy: 0.9099\n",
      "Epoch 21/100\n",
      "7/7 [==============================] - 0s 2ms/step - loss: 0.2253 - accuracy: 0.9022\n",
      "Epoch 22/100\n",
      "7/7 [==============================] - 0s 3ms/step - loss: 0.2388 - accuracy: 0.9108\n",
      "Epoch 23/100\n",
      "7/7 [==============================] - 0s 3ms/step - loss: 0.2072 - accuracy: 0.9313\n",
      "Epoch 24/100\n",
      "7/7 [==============================] - 0s 3ms/step - loss: 0.1906 - accuracy: 0.9273\n",
      "Epoch 25/100\n",
      "7/7 [==============================] - 0s 3ms/step - loss: 0.2169 - accuracy: 0.8931\n",
      "Epoch 26/100\n",
      "7/7 [==============================] - 0s 2ms/step - loss: 0.1970 - accuracy: 0.9311\n",
      "Epoch 27/100\n",
      "7/7 [==============================] - 0s 2ms/step - loss: 0.2021 - accuracy: 0.9019\n",
      "Epoch 28/100\n",
      "7/7 [==============================] - 0s 3ms/step - loss: 0.1665 - accuracy: 0.9315\n",
      "Epoch 29/100\n",
      "7/7 [==============================] - 0s 2ms/step - loss: 0.1802 - accuracy: 0.9359\n",
      "Epoch 30/100\n",
      "7/7 [==============================] - 0s 3ms/step - loss: 0.1673 - accuracy: 0.9341\n",
      "Epoch 31/100\n",
      "7/7 [==============================] - 0s 3ms/step - loss: 0.1756 - accuracy: 0.9302\n",
      "Epoch 32/100\n",
      "7/7 [==============================] - 0s 3ms/step - loss: 0.1586 - accuracy: 0.9422\n",
      "Epoch 33/100\n",
      "7/7 [==============================] - 0s 3ms/step - loss: 0.1704 - accuracy: 0.9366\n",
      "Epoch 34/100\n",
      "7/7 [==============================] - 0s 2ms/step - loss: 0.1574 - accuracy: 0.9405\n",
      "Epoch 35/100\n",
      "7/7 [==============================] - 0s 2ms/step - loss: 0.1300 - accuracy: 0.9618\n",
      "Epoch 36/100\n",
      "7/7 [==============================] - 0s 2ms/step - loss: 0.1384 - accuracy: 0.9651\n",
      "Epoch 37/100\n",
      "7/7 [==============================] - 0s 3ms/step - loss: 0.1141 - accuracy: 0.9720\n",
      "Epoch 38/100\n",
      "7/7 [==============================] - 0s 3ms/step - loss: 0.1322 - accuracy: 0.9502\n",
      "Epoch 39/100\n",
      "7/7 [==============================] - 0s 2ms/step - loss: 0.1452 - accuracy: 0.9510\n",
      "Epoch 40/100\n",
      "7/7 [==============================] - 0s 2ms/step - loss: 0.1270 - accuracy: 0.9614\n",
      "Epoch 41/100\n",
      "7/7 [==============================] - 0s 3ms/step - loss: 0.1163 - accuracy: 0.9624\n",
      "Epoch 42/100\n",
      "7/7 [==============================] - 0s 3ms/step - loss: 0.0914 - accuracy: 0.9689\n",
      "Epoch 43/100\n",
      "7/7 [==============================] - 0s 2ms/step - loss: 0.0997 - accuracy: 0.9617\n",
      "Epoch 44/100\n",
      "7/7 [==============================] - 0s 2ms/step - loss: 0.0802 - accuracy: 0.9763\n",
      "Epoch 45/100\n",
      "7/7 [==============================] - 0s 3ms/step - loss: 0.0983 - accuracy: 0.9607\n",
      "Epoch 46/100\n",
      "7/7 [==============================] - 0s 3ms/step - loss: 0.0853 - accuracy: 0.9792\n",
      "Epoch 47/100\n",
      "7/7 [==============================] - 0s 2ms/step - loss: 0.0959 - accuracy: 0.9725\n",
      "Epoch 48/100\n",
      "7/7 [==============================] - 0s 2ms/step - loss: 0.0906 - accuracy: 0.9753\n",
      "Epoch 49/100\n",
      "7/7 [==============================] - 0s 3ms/step - loss: 0.0906 - accuracy: 0.9684\n",
      "Epoch 50/100\n",
      "7/7 [==============================] - 0s 3ms/step - loss: 0.0750 - accuracy: 0.9750\n",
      "Epoch 51/100\n",
      "7/7 [==============================] - 0s 3ms/step - loss: 0.0816 - accuracy: 0.9759\n",
      "Epoch 52/100\n",
      "7/7 [==============================] - 0s 3ms/step - loss: 0.0835 - accuracy: 0.9767\n",
      "Epoch 53/100\n",
      "7/7 [==============================] - 0s 3ms/step - loss: 0.0978 - accuracy: 0.9610\n",
      "Epoch 54/100\n",
      "7/7 [==============================] - 0s 2ms/step - loss: 0.0728 - accuracy: 0.9861\n",
      "Epoch 55/100\n",
      "7/7 [==============================] - 0s 3ms/step - loss: 0.0822 - accuracy: 0.9746\n",
      "Epoch 56/100\n",
      "7/7 [==============================] - 0s 2ms/step - loss: 0.0847 - accuracy: 0.9792\n",
      "Epoch 57/100\n",
      "7/7 [==============================] - 0s 2ms/step - loss: 0.0808 - accuracy: 0.9715\n",
      "Epoch 58/100\n",
      "7/7 [==============================] - 0s 3ms/step - loss: 0.0863 - accuracy: 0.9690\n",
      "Epoch 59/100\n",
      "7/7 [==============================] - 0s 2ms/step - loss: 0.0701 - accuracy: 0.9791\n",
      "Epoch 60/100\n",
      "7/7 [==============================] - 0s 2ms/step - loss: 0.0692 - accuracy: 0.9766\n",
      "Epoch 61/100\n",
      "7/7 [==============================] - 0s 2ms/step - loss: 0.0739 - accuracy: 0.9739\n",
      "Epoch 62/100\n",
      "7/7 [==============================] - 0s 3ms/step - loss: 0.0680 - accuracy: 0.9826\n",
      "Epoch 63/100\n",
      "7/7 [==============================] - 0s 2ms/step - loss: 0.0538 - accuracy: 0.9915\n",
      "Epoch 64/100\n",
      "7/7 [==============================] - 0s 2ms/step - loss: 0.0629 - accuracy: 0.9879\n",
      "Epoch 65/100\n",
      "7/7 [==============================] - 0s 2ms/step - loss: 0.0577 - accuracy: 0.9963\n",
      "Epoch 66/100\n",
      "7/7 [==============================] - 0s 2ms/step - loss: 0.0585 - accuracy: 0.9902\n",
      "Epoch 67/100\n",
      "7/7 [==============================] - 0s 3ms/step - loss: 0.0511 - accuracy: 0.9962\n",
      "Epoch 68/100\n",
      "7/7 [==============================] - 0s 2ms/step - loss: 0.0659 - accuracy: 0.9843\n",
      "Epoch 69/100\n",
      "7/7 [==============================] - 0s 2ms/step - loss: 0.0623 - accuracy: 0.9880\n",
      "Epoch 70/100\n",
      "7/7 [==============================] - 0s 2ms/step - loss: 0.0537 - accuracy: 0.9925\n",
      "Epoch 71/100\n",
      "7/7 [==============================] - 0s 3ms/step - loss: 0.0586 - accuracy: 0.9866\n",
      "Epoch 72/100\n",
      "7/7 [==============================] - 0s 3ms/step - loss: 0.0669 - accuracy: 0.9824\n",
      "Epoch 73/100\n",
      "7/7 [==============================] - 0s 2ms/step - loss: 0.0459 - accuracy: 0.9913\n",
      "Epoch 74/100\n",
      "7/7 [==============================] - 0s 3ms/step - loss: 0.0488 - accuracy: 0.9902\n",
      "Epoch 75/100\n",
      "7/7 [==============================] - 0s 2ms/step - loss: 0.0456 - accuracy: 0.9920\n",
      "Epoch 76/100\n",
      "7/7 [==============================] - 0s 3ms/step - loss: 0.0399 - accuracy: 0.9928\n",
      "Epoch 77/100\n",
      "7/7 [==============================] - 0s 3ms/step - loss: 0.0357 - accuracy: 0.9955\n",
      "Epoch 78/100\n",
      "7/7 [==============================] - 0s 3ms/step - loss: 0.0384 - accuracy: 0.9938\n",
      "Epoch 79/100\n",
      "7/7 [==============================] - 0s 4ms/step - loss: 0.0437 - accuracy: 0.9882\n",
      "Epoch 80/100\n",
      "7/7 [==============================] - 0s 3ms/step - loss: 0.0368 - accuracy: 0.9913\n",
      "Epoch 81/100\n",
      "7/7 [==============================] - 0s 4ms/step - loss: 0.0307 - accuracy: 0.9948\n",
      "Epoch 82/100\n",
      "7/7 [==============================] - 0s 4ms/step - loss: 0.0305 - accuracy: 0.9946\n",
      "Epoch 83/100\n",
      "7/7 [==============================] - 0s 3ms/step - loss: 0.0493 - accuracy: 0.9824\n",
      "Epoch 84/100\n",
      "7/7 [==============================] - 0s 4ms/step - loss: 0.0281 - accuracy: 0.9962\n",
      "Epoch 85/100\n",
      "7/7 [==============================] - 0s 3ms/step - loss: 0.0265 - accuracy: 0.9938\n",
      "Epoch 86/100\n",
      "7/7 [==============================] - 0s 4ms/step - loss: 0.0344 - accuracy: 0.9905\n",
      "Epoch 87/100\n",
      "7/7 [==============================] - 0s 2ms/step - loss: 0.0235 - accuracy: 0.9955\n",
      "Epoch 88/100\n",
      "7/7 [==============================] - 0s 2ms/step - loss: 0.0449 - accuracy: 0.9824\n",
      "Epoch 89/100\n",
      "7/7 [==============================] - 0s 3ms/step - loss: 0.0279 - accuracy: 0.9933\n",
      "Epoch 90/100\n",
      "7/7 [==============================] - 0s 2ms/step - loss: 0.0374 - accuracy: 0.9824\n",
      "Epoch 91/100\n",
      "7/7 [==============================] - 0s 3ms/step - loss: 0.0292 - accuracy: 0.9925\n",
      "Epoch 92/100\n",
      "7/7 [==============================] - 0s 3ms/step - loss: 0.0327 - accuracy: 0.9882\n",
      "Epoch 93/100\n",
      "7/7 [==============================] - 0s 2ms/step - loss: 0.0319 - accuracy: 0.9913\n",
      "Epoch 94/100\n",
      "7/7 [==============================] - 0s 3ms/step - loss: 0.0212 - accuracy: 0.9948\n",
      "Epoch 95/100\n",
      "7/7 [==============================] - 0s 3ms/step - loss: 0.0200 - accuracy: 0.9952\n",
      "Epoch 96/100\n",
      "7/7 [==============================] - 0s 3ms/step - loss: 0.0243 - accuracy: 0.9905\n",
      "Epoch 97/100\n",
      "7/7 [==============================] - 0s 3ms/step - loss: 0.0216 - accuracy: 0.9939\n",
      "Epoch 98/100\n",
      "7/7 [==============================] - 0s 3ms/step - loss: 0.0264 - accuracy: 0.9931\n",
      "Epoch 99/100\n",
      "7/7 [==============================] - 0s 2ms/step - loss: 0.0226 - accuracy: 0.9982\n",
      "Epoch 100/100\n",
      "7/7 [==============================] - 0s 4ms/step - loss: 0.0157 - accuracy: 0.9974\n"
     ]
    }
   ],
   "source": [
    "history = model.fit(train_data,train_targets,epochs=100)"
   ]
  },
  {
   "cell_type": "code",
   "execution_count": 88,
   "metadata": {},
   "outputs": [
    {
     "output_type": "execute_result",
     "data": {
      "text/plain": [
       "dict_keys(['loss', 'accuracy'])"
      ]
     },
     "metadata": {},
     "execution_count": 88
    }
   ],
   "source": [
    "history_dict = history.history\n",
    "history_dict.keys()"
   ]
  },
  {
   "cell_type": "code",
   "execution_count": 89,
   "metadata": {},
   "outputs": [
    {
     "output_type": "display_data",
     "data": {
      "text/plain": "<Figure size 432x288 with 1 Axes>",
      "image/svg+xml": "<?xml version=\"1.0\" encoding=\"utf-8\" standalone=\"no\"?>\r\n<!DOCTYPE svg PUBLIC \"-//W3C//DTD SVG 1.1//EN\"\r\n  \"http://www.w3.org/Graphics/SVG/1.1/DTD/svg11.dtd\">\r\n<!-- Created with matplotlib (https://matplotlib.org/) -->\r\n<svg height=\"277.314375pt\" version=\"1.1\" viewBox=\"0 0 386.059375 277.314375\" width=\"386.059375pt\" xmlns=\"http://www.w3.org/2000/svg\" xmlns:xlink=\"http://www.w3.org/1999/xlink\">\r\n <metadata>\r\n  <rdf:RDF xmlns:cc=\"http://creativecommons.org/ns#\" xmlns:dc=\"http://purl.org/dc/elements/1.1/\" xmlns:rdf=\"http://www.w3.org/1999/02/22-rdf-syntax-ns#\">\r\n   <cc:Work>\r\n    <dc:type rdf:resource=\"http://purl.org/dc/dcmitype/StillImage\"/>\r\n    <dc:date>2021-04-09T18:53:32.660033</dc:date>\r\n    <dc:format>image/svg+xml</dc:format>\r\n    <dc:creator>\r\n     <cc:Agent>\r\n      <dc:title>Matplotlib v3.3.4, https://matplotlib.org/</dc:title>\r\n     </cc:Agent>\r\n    </dc:creator>\r\n   </cc:Work>\r\n  </rdf:RDF>\r\n </metadata>\r\n <defs>\r\n  <style type=\"text/css\">*{stroke-linecap:butt;stroke-linejoin:round;}</style>\r\n </defs>\r\n <g id=\"figure_1\">\r\n  <g id=\"patch_1\">\r\n   <path d=\"M 0 277.314375 \r\nL 386.059375 277.314375 \r\nL 386.059375 0 \r\nL 0 0 \r\nz\r\n\" style=\"fill:none;\"/>\r\n  </g>\r\n  <g id=\"axes_1\">\r\n   <g id=\"patch_2\">\r\n    <path d=\"M 44.059375 239.758125 \r\nL 378.859375 239.758125 \r\nL 378.859375 22.318125 \r\nL 44.059375 22.318125 \r\nz\r\n\" style=\"fill:#ffffff;\"/>\r\n   </g>\r\n   <g id=\"matplotlib.axis_1\">\r\n    <g id=\"xtick_1\">\r\n     <g id=\"line2d_1\">\r\n      <defs>\r\n       <path d=\"M 0 0 \r\nL 0 3.5 \r\n\" id=\"m233062f3a1\" style=\"stroke:#000000;stroke-width:0.8;\"/>\r\n      </defs>\r\n      <g>\r\n       <use style=\"stroke:#000000;stroke-width:0.8;\" x=\"56.203177\" xlink:href=\"#m233062f3a1\" y=\"239.758125\"/>\r\n      </g>\r\n     </g>\r\n     <g id=\"text_1\">\r\n      <!-- 0 -->\r\n      <g transform=\"translate(53.021927 254.356562)scale(0.1 -0.1)\">\r\n       <defs>\r\n        <path d=\"M 31.78125 66.40625 \r\nQ 24.171875 66.40625 20.328125 58.90625 \r\nQ 16.5 51.421875 16.5 36.375 \r\nQ 16.5 21.390625 20.328125 13.890625 \r\nQ 24.171875 6.390625 31.78125 6.390625 \r\nQ 39.453125 6.390625 43.28125 13.890625 \r\nQ 47.125 21.390625 47.125 36.375 \r\nQ 47.125 51.421875 43.28125 58.90625 \r\nQ 39.453125 66.40625 31.78125 66.40625 \r\nz\r\nM 31.78125 74.21875 \r\nQ 44.046875 74.21875 50.515625 64.515625 \r\nQ 56.984375 54.828125 56.984375 36.375 \r\nQ 56.984375 17.96875 50.515625 8.265625 \r\nQ 44.046875 -1.421875 31.78125 -1.421875 \r\nQ 19.53125 -1.421875 13.0625 8.265625 \r\nQ 6.59375 17.96875 6.59375 36.375 \r\nQ 6.59375 54.828125 13.0625 64.515625 \r\nQ 19.53125 74.21875 31.78125 74.21875 \r\nz\r\n\" id=\"DejaVuSans-48\"/>\r\n       </defs>\r\n       <use xlink:href=\"#DejaVuSans-48\"/>\r\n      </g>\r\n     </g>\r\n    </g>\r\n    <g id=\"xtick_2\">\r\n     <g id=\"line2d_2\">\r\n      <g>\r\n       <use style=\"stroke:#000000;stroke-width:0.8;\" x=\"117.69078\" xlink:href=\"#m233062f3a1\" y=\"239.758125\"/>\r\n      </g>\r\n     </g>\r\n     <g id=\"text_2\">\r\n      <!-- 20 -->\r\n      <g transform=\"translate(111.32828 254.356562)scale(0.1 -0.1)\">\r\n       <defs>\r\n        <path d=\"M 19.1875 8.296875 \r\nL 53.609375 8.296875 \r\nL 53.609375 0 \r\nL 7.328125 0 \r\nL 7.328125 8.296875 \r\nQ 12.9375 14.109375 22.625 23.890625 \r\nQ 32.328125 33.6875 34.8125 36.53125 \r\nQ 39.546875 41.84375 41.421875 45.53125 \r\nQ 43.3125 49.21875 43.3125 52.78125 \r\nQ 43.3125 58.59375 39.234375 62.25 \r\nQ 35.15625 65.921875 28.609375 65.921875 \r\nQ 23.96875 65.921875 18.8125 64.3125 \r\nQ 13.671875 62.703125 7.8125 59.421875 \r\nL 7.8125 69.390625 \r\nQ 13.765625 71.78125 18.9375 73 \r\nQ 24.125 74.21875 28.421875 74.21875 \r\nQ 39.75 74.21875 46.484375 68.546875 \r\nQ 53.21875 62.890625 53.21875 53.421875 \r\nQ 53.21875 48.921875 51.53125 44.890625 \r\nQ 49.859375 40.875 45.40625 35.40625 \r\nQ 44.1875 33.984375 37.640625 27.21875 \r\nQ 31.109375 20.453125 19.1875 8.296875 \r\nz\r\n\" id=\"DejaVuSans-50\"/>\r\n       </defs>\r\n       <use xlink:href=\"#DejaVuSans-50\"/>\r\n       <use x=\"63.623047\" xlink:href=\"#DejaVuSans-48\"/>\r\n      </g>\r\n     </g>\r\n    </g>\r\n    <g id=\"xtick_3\">\r\n     <g id=\"line2d_3\">\r\n      <g>\r\n       <use style=\"stroke:#000000;stroke-width:0.8;\" x=\"179.178383\" xlink:href=\"#m233062f3a1\" y=\"239.758125\"/>\r\n      </g>\r\n     </g>\r\n     <g id=\"text_3\">\r\n      <!-- 40 -->\r\n      <g transform=\"translate(172.815883 254.356562)scale(0.1 -0.1)\">\r\n       <defs>\r\n        <path d=\"M 37.796875 64.3125 \r\nL 12.890625 25.390625 \r\nL 37.796875 25.390625 \r\nz\r\nM 35.203125 72.90625 \r\nL 47.609375 72.90625 \r\nL 47.609375 25.390625 \r\nL 58.015625 25.390625 \r\nL 58.015625 17.1875 \r\nL 47.609375 17.1875 \r\nL 47.609375 0 \r\nL 37.796875 0 \r\nL 37.796875 17.1875 \r\nL 4.890625 17.1875 \r\nL 4.890625 26.703125 \r\nz\r\n\" id=\"DejaVuSans-52\"/>\r\n       </defs>\r\n       <use xlink:href=\"#DejaVuSans-52\"/>\r\n       <use x=\"63.623047\" xlink:href=\"#DejaVuSans-48\"/>\r\n      </g>\r\n     </g>\r\n    </g>\r\n    <g id=\"xtick_4\">\r\n     <g id=\"line2d_4\">\r\n      <g>\r\n       <use style=\"stroke:#000000;stroke-width:0.8;\" x=\"240.665987\" xlink:href=\"#m233062f3a1\" y=\"239.758125\"/>\r\n      </g>\r\n     </g>\r\n     <g id=\"text_4\">\r\n      <!-- 60 -->\r\n      <g transform=\"translate(234.303487 254.356562)scale(0.1 -0.1)\">\r\n       <defs>\r\n        <path d=\"M 33.015625 40.375 \r\nQ 26.375 40.375 22.484375 35.828125 \r\nQ 18.609375 31.296875 18.609375 23.390625 \r\nQ 18.609375 15.53125 22.484375 10.953125 \r\nQ 26.375 6.390625 33.015625 6.390625 \r\nQ 39.65625 6.390625 43.53125 10.953125 \r\nQ 47.40625 15.53125 47.40625 23.390625 \r\nQ 47.40625 31.296875 43.53125 35.828125 \r\nQ 39.65625 40.375 33.015625 40.375 \r\nz\r\nM 52.59375 71.296875 \r\nL 52.59375 62.3125 \r\nQ 48.875 64.0625 45.09375 64.984375 \r\nQ 41.3125 65.921875 37.59375 65.921875 \r\nQ 27.828125 65.921875 22.671875 59.328125 \r\nQ 17.53125 52.734375 16.796875 39.40625 \r\nQ 19.671875 43.65625 24.015625 45.921875 \r\nQ 28.375 48.1875 33.59375 48.1875 \r\nQ 44.578125 48.1875 50.953125 41.515625 \r\nQ 57.328125 34.859375 57.328125 23.390625 \r\nQ 57.328125 12.15625 50.6875 5.359375 \r\nQ 44.046875 -1.421875 33.015625 -1.421875 \r\nQ 20.359375 -1.421875 13.671875 8.265625 \r\nQ 6.984375 17.96875 6.984375 36.375 \r\nQ 6.984375 53.65625 15.1875 63.9375 \r\nQ 23.390625 74.21875 37.203125 74.21875 \r\nQ 40.921875 74.21875 44.703125 73.484375 \r\nQ 48.484375 72.75 52.59375 71.296875 \r\nz\r\n\" id=\"DejaVuSans-54\"/>\r\n       </defs>\r\n       <use xlink:href=\"#DejaVuSans-54\"/>\r\n       <use x=\"63.623047\" xlink:href=\"#DejaVuSans-48\"/>\r\n      </g>\r\n     </g>\r\n    </g>\r\n    <g id=\"xtick_5\">\r\n     <g id=\"line2d_5\">\r\n      <g>\r\n       <use style=\"stroke:#000000;stroke-width:0.8;\" x=\"302.15359\" xlink:href=\"#m233062f3a1\" y=\"239.758125\"/>\r\n      </g>\r\n     </g>\r\n     <g id=\"text_5\">\r\n      <!-- 80 -->\r\n      <g transform=\"translate(295.79109 254.356562)scale(0.1 -0.1)\">\r\n       <defs>\r\n        <path d=\"M 31.78125 34.625 \r\nQ 24.75 34.625 20.71875 30.859375 \r\nQ 16.703125 27.09375 16.703125 20.515625 \r\nQ 16.703125 13.921875 20.71875 10.15625 \r\nQ 24.75 6.390625 31.78125 6.390625 \r\nQ 38.8125 6.390625 42.859375 10.171875 \r\nQ 46.921875 13.96875 46.921875 20.515625 \r\nQ 46.921875 27.09375 42.890625 30.859375 \r\nQ 38.875 34.625 31.78125 34.625 \r\nz\r\nM 21.921875 38.8125 \r\nQ 15.578125 40.375 12.03125 44.71875 \r\nQ 8.5 49.078125 8.5 55.328125 \r\nQ 8.5 64.0625 14.71875 69.140625 \r\nQ 20.953125 74.21875 31.78125 74.21875 \r\nQ 42.671875 74.21875 48.875 69.140625 \r\nQ 55.078125 64.0625 55.078125 55.328125 \r\nQ 55.078125 49.078125 51.53125 44.71875 \r\nQ 48 40.375 41.703125 38.8125 \r\nQ 48.828125 37.15625 52.796875 32.3125 \r\nQ 56.78125 27.484375 56.78125 20.515625 \r\nQ 56.78125 9.90625 50.3125 4.234375 \r\nQ 43.84375 -1.421875 31.78125 -1.421875 \r\nQ 19.734375 -1.421875 13.25 4.234375 \r\nQ 6.78125 9.90625 6.78125 20.515625 \r\nQ 6.78125 27.484375 10.78125 32.3125 \r\nQ 14.796875 37.15625 21.921875 38.8125 \r\nz\r\nM 18.3125 54.390625 \r\nQ 18.3125 48.734375 21.84375 45.5625 \r\nQ 25.390625 42.390625 31.78125 42.390625 \r\nQ 38.140625 42.390625 41.71875 45.5625 \r\nQ 45.3125 48.734375 45.3125 54.390625 \r\nQ 45.3125 60.0625 41.71875 63.234375 \r\nQ 38.140625 66.40625 31.78125 66.40625 \r\nQ 25.390625 66.40625 21.84375 63.234375 \r\nQ 18.3125 60.0625 18.3125 54.390625 \r\nz\r\n\" id=\"DejaVuSans-56\"/>\r\n       </defs>\r\n       <use xlink:href=\"#DejaVuSans-56\"/>\r\n       <use x=\"63.623047\" xlink:href=\"#DejaVuSans-48\"/>\r\n      </g>\r\n     </g>\r\n    </g>\r\n    <g id=\"xtick_6\">\r\n     <g id=\"line2d_6\">\r\n      <g>\r\n       <use style=\"stroke:#000000;stroke-width:0.8;\" x=\"363.641193\" xlink:href=\"#m233062f3a1\" y=\"239.758125\"/>\r\n      </g>\r\n     </g>\r\n     <g id=\"text_6\">\r\n      <!-- 100 -->\r\n      <g transform=\"translate(354.097443 254.356562)scale(0.1 -0.1)\">\r\n       <defs>\r\n        <path d=\"M 12.40625 8.296875 \r\nL 28.515625 8.296875 \r\nL 28.515625 63.921875 \r\nL 10.984375 60.40625 \r\nL 10.984375 69.390625 \r\nL 28.421875 72.90625 \r\nL 38.28125 72.90625 \r\nL 38.28125 8.296875 \r\nL 54.390625 8.296875 \r\nL 54.390625 0 \r\nL 12.40625 0 \r\nz\r\n\" id=\"DejaVuSans-49\"/>\r\n       </defs>\r\n       <use xlink:href=\"#DejaVuSans-49\"/>\r\n       <use x=\"63.623047\" xlink:href=\"#DejaVuSans-48\"/>\r\n       <use x=\"127.246094\" xlink:href=\"#DejaVuSans-48\"/>\r\n      </g>\r\n     </g>\r\n    </g>\r\n    <g id=\"text_7\">\r\n     <!-- Loss -->\r\n     <g transform=\"translate(200.492188 268.034687)scale(0.1 -0.1)\">\r\n      <defs>\r\n       <path d=\"M 9.8125 72.90625 \r\nL 19.671875 72.90625 \r\nL 19.671875 8.296875 \r\nL 55.171875 8.296875 \r\nL 55.171875 0 \r\nL 9.8125 0 \r\nz\r\n\" id=\"DejaVuSans-76\"/>\r\n       <path d=\"M 30.609375 48.390625 \r\nQ 23.390625 48.390625 19.1875 42.75 \r\nQ 14.984375 37.109375 14.984375 27.296875 \r\nQ 14.984375 17.484375 19.15625 11.84375 \r\nQ 23.34375 6.203125 30.609375 6.203125 \r\nQ 37.796875 6.203125 41.984375 11.859375 \r\nQ 46.1875 17.53125 46.1875 27.296875 \r\nQ 46.1875 37.015625 41.984375 42.703125 \r\nQ 37.796875 48.390625 30.609375 48.390625 \r\nz\r\nM 30.609375 56 \r\nQ 42.328125 56 49.015625 48.375 \r\nQ 55.71875 40.765625 55.71875 27.296875 \r\nQ 55.71875 13.875 49.015625 6.21875 \r\nQ 42.328125 -1.421875 30.609375 -1.421875 \r\nQ 18.84375 -1.421875 12.171875 6.21875 \r\nQ 5.515625 13.875 5.515625 27.296875 \r\nQ 5.515625 40.765625 12.171875 48.375 \r\nQ 18.84375 56 30.609375 56 \r\nz\r\n\" id=\"DejaVuSans-111\"/>\r\n       <path d=\"M 44.28125 53.078125 \r\nL 44.28125 44.578125 \r\nQ 40.484375 46.53125 36.375 47.5 \r\nQ 32.28125 48.484375 27.875 48.484375 \r\nQ 21.1875 48.484375 17.84375 46.4375 \r\nQ 14.5 44.390625 14.5 40.28125 \r\nQ 14.5 37.15625 16.890625 35.375 \r\nQ 19.28125 33.59375 26.515625 31.984375 \r\nL 29.59375 31.296875 \r\nQ 39.15625 29.25 43.1875 25.515625 \r\nQ 47.21875 21.78125 47.21875 15.09375 \r\nQ 47.21875 7.46875 41.1875 3.015625 \r\nQ 35.15625 -1.421875 24.609375 -1.421875 \r\nQ 20.21875 -1.421875 15.453125 -0.5625 \r\nQ 10.6875 0.296875 5.421875 2 \r\nL 5.421875 11.28125 \r\nQ 10.40625 8.6875 15.234375 7.390625 \r\nQ 20.0625 6.109375 24.8125 6.109375 \r\nQ 31.15625 6.109375 34.5625 8.28125 \r\nQ 37.984375 10.453125 37.984375 14.40625 \r\nQ 37.984375 18.0625 35.515625 20.015625 \r\nQ 33.0625 21.96875 24.703125 23.78125 \r\nL 21.578125 24.515625 \r\nQ 13.234375 26.265625 9.515625 29.90625 \r\nQ 5.8125 33.546875 5.8125 39.890625 \r\nQ 5.8125 47.609375 11.28125 51.796875 \r\nQ 16.75 56 26.8125 56 \r\nQ 31.78125 56 36.171875 55.265625 \r\nQ 40.578125 54.546875 44.28125 53.078125 \r\nz\r\n\" id=\"DejaVuSans-115\"/>\r\n      </defs>\r\n      <use xlink:href=\"#DejaVuSans-76\"/>\r\n      <use x=\"53.962891\" xlink:href=\"#DejaVuSans-111\"/>\r\n      <use x=\"115.144531\" xlink:href=\"#DejaVuSans-115\"/>\r\n      <use x=\"167.244141\" xlink:href=\"#DejaVuSans-115\"/>\r\n     </g>\r\n    </g>\r\n   </g>\r\n   <g id=\"matplotlib.axis_2\">\r\n    <g id=\"ytick_1\">\r\n     <g id=\"line2d_7\">\r\n      <defs>\r\n       <path d=\"M 0 0 \r\nL -3.5 0 \r\n\" id=\"mc9fa4c85ef\" style=\"stroke:#000000;stroke-width:0.8;\"/>\r\n      </defs>\r\n      <g>\r\n       <use style=\"stroke:#000000;stroke-width:0.8;\" x=\"44.059375\" xlink:href=\"#mc9fa4c85ef\" y=\"234.579092\"/>\r\n      </g>\r\n     </g>\r\n     <g id=\"text_8\">\r\n      <!-- 0.0 -->\r\n      <g transform=\"translate(21.15625 238.378311)scale(0.1 -0.1)\">\r\n       <defs>\r\n        <path d=\"M 10.6875 12.40625 \r\nL 21 12.40625 \r\nL 21 0 \r\nL 10.6875 0 \r\nz\r\n\" id=\"DejaVuSans-46\"/>\r\n       </defs>\r\n       <use xlink:href=\"#DejaVuSans-48\"/>\r\n       <use x=\"63.623047\" xlink:href=\"#DejaVuSans-46\"/>\r\n       <use x=\"95.410156\" xlink:href=\"#DejaVuSans-48\"/>\r\n      </g>\r\n     </g>\r\n    </g>\r\n    <g id=\"ytick_2\">\r\n     <g id=\"line2d_8\">\r\n      <g>\r\n       <use style=\"stroke:#000000;stroke-width:0.8;\" x=\"44.059375\" xlink:href=\"#mc9fa4c85ef\" y=\"193.909962\"/>\r\n      </g>\r\n     </g>\r\n     <g id=\"text_9\">\r\n      <!-- 0.2 -->\r\n      <g transform=\"translate(21.15625 197.709181)scale(0.1 -0.1)\">\r\n       <use xlink:href=\"#DejaVuSans-48\"/>\r\n       <use x=\"63.623047\" xlink:href=\"#DejaVuSans-46\"/>\r\n       <use x=\"95.410156\" xlink:href=\"#DejaVuSans-50\"/>\r\n      </g>\r\n     </g>\r\n    </g>\r\n    <g id=\"ytick_3\">\r\n     <g id=\"line2d_9\">\r\n      <g>\r\n       <use style=\"stroke:#000000;stroke-width:0.8;\" x=\"44.059375\" xlink:href=\"#mc9fa4c85ef\" y=\"153.240832\"/>\r\n      </g>\r\n     </g>\r\n     <g id=\"text_10\">\r\n      <!-- 0.4 -->\r\n      <g transform=\"translate(21.15625 157.040051)scale(0.1 -0.1)\">\r\n       <use xlink:href=\"#DejaVuSans-48\"/>\r\n       <use x=\"63.623047\" xlink:href=\"#DejaVuSans-46\"/>\r\n       <use x=\"95.410156\" xlink:href=\"#DejaVuSans-52\"/>\r\n      </g>\r\n     </g>\r\n    </g>\r\n    <g id=\"ytick_4\">\r\n     <g id=\"line2d_10\">\r\n      <g>\r\n       <use style=\"stroke:#000000;stroke-width:0.8;\" x=\"44.059375\" xlink:href=\"#mc9fa4c85ef\" y=\"112.571703\"/>\r\n      </g>\r\n     </g>\r\n     <g id=\"text_11\">\r\n      <!-- 0.6 -->\r\n      <g transform=\"translate(21.15625 116.370921)scale(0.1 -0.1)\">\r\n       <use xlink:href=\"#DejaVuSans-48\"/>\r\n       <use x=\"63.623047\" xlink:href=\"#DejaVuSans-46\"/>\r\n       <use x=\"95.410156\" xlink:href=\"#DejaVuSans-54\"/>\r\n      </g>\r\n     </g>\r\n    </g>\r\n    <g id=\"ytick_5\">\r\n     <g id=\"line2d_11\">\r\n      <g>\r\n       <use style=\"stroke:#000000;stroke-width:0.8;\" x=\"44.059375\" xlink:href=\"#mc9fa4c85ef\" y=\"71.902573\"/>\r\n      </g>\r\n     </g>\r\n     <g id=\"text_12\">\r\n      <!-- 0.8 -->\r\n      <g transform=\"translate(21.15625 75.701791)scale(0.1 -0.1)\">\r\n       <use xlink:href=\"#DejaVuSans-48\"/>\r\n       <use x=\"63.623047\" xlink:href=\"#DejaVuSans-46\"/>\r\n       <use x=\"95.410156\" xlink:href=\"#DejaVuSans-56\"/>\r\n      </g>\r\n     </g>\r\n    </g>\r\n    <g id=\"ytick_6\">\r\n     <g id=\"line2d_12\">\r\n      <g>\r\n       <use style=\"stroke:#000000;stroke-width:0.8;\" x=\"44.059375\" xlink:href=\"#mc9fa4c85ef\" y=\"31.233443\"/>\r\n      </g>\r\n     </g>\r\n     <g id=\"text_13\">\r\n      <!-- 1.0 -->\r\n      <g transform=\"translate(21.15625 35.032661)scale(0.1 -0.1)\">\r\n       <use xlink:href=\"#DejaVuSans-49\"/>\r\n       <use x=\"63.623047\" xlink:href=\"#DejaVuSans-46\"/>\r\n       <use x=\"95.410156\" xlink:href=\"#DejaVuSans-48\"/>\r\n      </g>\r\n     </g>\r\n    </g>\r\n    <g id=\"text_14\">\r\n     <!-- acc_val -->\r\n     <g transform=\"translate(14.798438 149.513125)rotate(-90)scale(0.1 -0.1)\">\r\n      <defs>\r\n       <path d=\"M 34.28125 27.484375 \r\nQ 23.390625 27.484375 19.1875 25 \r\nQ 14.984375 22.515625 14.984375 16.5 \r\nQ 14.984375 11.71875 18.140625 8.90625 \r\nQ 21.296875 6.109375 26.703125 6.109375 \r\nQ 34.1875 6.109375 38.703125 11.40625 \r\nQ 43.21875 16.703125 43.21875 25.484375 \r\nL 43.21875 27.484375 \r\nz\r\nM 52.203125 31.203125 \r\nL 52.203125 0 \r\nL 43.21875 0 \r\nL 43.21875 8.296875 \r\nQ 40.140625 3.328125 35.546875 0.953125 \r\nQ 30.953125 -1.421875 24.3125 -1.421875 \r\nQ 15.921875 -1.421875 10.953125 3.296875 \r\nQ 6 8.015625 6 15.921875 \r\nQ 6 25.140625 12.171875 29.828125 \r\nQ 18.359375 34.515625 30.609375 34.515625 \r\nL 43.21875 34.515625 \r\nL 43.21875 35.40625 \r\nQ 43.21875 41.609375 39.140625 45 \r\nQ 35.0625 48.390625 27.6875 48.390625 \r\nQ 23 48.390625 18.546875 47.265625 \r\nQ 14.109375 46.140625 10.015625 43.890625 \r\nL 10.015625 52.203125 \r\nQ 14.9375 54.109375 19.578125 55.046875 \r\nQ 24.21875 56 28.609375 56 \r\nQ 40.484375 56 46.34375 49.84375 \r\nQ 52.203125 43.703125 52.203125 31.203125 \r\nz\r\n\" id=\"DejaVuSans-97\"/>\r\n       <path d=\"M 48.78125 52.59375 \r\nL 48.78125 44.1875 \r\nQ 44.96875 46.296875 41.140625 47.34375 \r\nQ 37.3125 48.390625 33.40625 48.390625 \r\nQ 24.65625 48.390625 19.8125 42.84375 \r\nQ 14.984375 37.3125 14.984375 27.296875 \r\nQ 14.984375 17.28125 19.8125 11.734375 \r\nQ 24.65625 6.203125 33.40625 6.203125 \r\nQ 37.3125 6.203125 41.140625 7.25 \r\nQ 44.96875 8.296875 48.78125 10.40625 \r\nL 48.78125 2.09375 \r\nQ 45.015625 0.34375 40.984375 -0.53125 \r\nQ 36.96875 -1.421875 32.421875 -1.421875 \r\nQ 20.0625 -1.421875 12.78125 6.34375 \r\nQ 5.515625 14.109375 5.515625 27.296875 \r\nQ 5.515625 40.671875 12.859375 48.328125 \r\nQ 20.21875 56 33.015625 56 \r\nQ 37.15625 56 41.109375 55.140625 \r\nQ 45.0625 54.296875 48.78125 52.59375 \r\nz\r\n\" id=\"DejaVuSans-99\"/>\r\n       <path d=\"M 50.984375 -16.609375 \r\nL 50.984375 -23.578125 \r\nL -0.984375 -23.578125 \r\nL -0.984375 -16.609375 \r\nz\r\n\" id=\"DejaVuSans-95\"/>\r\n       <path d=\"M 2.984375 54.6875 \r\nL 12.5 54.6875 \r\nL 29.59375 8.796875 \r\nL 46.6875 54.6875 \r\nL 56.203125 54.6875 \r\nL 35.6875 0 \r\nL 23.484375 0 \r\nz\r\n\" id=\"DejaVuSans-118\"/>\r\n       <path d=\"M 9.421875 75.984375 \r\nL 18.40625 75.984375 \r\nL 18.40625 0 \r\nL 9.421875 0 \r\nz\r\n\" id=\"DejaVuSans-108\"/>\r\n      </defs>\r\n      <use xlink:href=\"#DejaVuSans-97\"/>\r\n      <use x=\"61.279297\" xlink:href=\"#DejaVuSans-99\"/>\r\n      <use x=\"116.259766\" xlink:href=\"#DejaVuSans-99\"/>\r\n      <use x=\"171.240234\" xlink:href=\"#DejaVuSans-95\"/>\r\n      <use x=\"221.240234\" xlink:href=\"#DejaVuSans-118\"/>\r\n      <use x=\"280.419922\" xlink:href=\"#DejaVuSans-97\"/>\r\n      <use x=\"341.699219\" xlink:href=\"#DejaVuSans-108\"/>\r\n     </g>\r\n    </g>\r\n   </g>\r\n   <g id=\"line2d_13\">\r\n    <defs>\r\n     <path d=\"M 0 3 \r\nC 0.795609 3 1.55874 2.683901 2.12132 2.12132 \r\nC 2.683901 1.55874 3 0.795609 3 0 \r\nC 3 -0.795609 2.683901 -1.55874 2.12132 -2.12132 \r\nC 1.55874 -2.683901 0.795609 -3 0 -3 \r\nC -0.795609 -3 -1.55874 -2.683901 -2.12132 -2.12132 \r\nC -2.683901 -1.55874 -3 -0.795609 -3 0 \r\nC -3 0.795609 -2.683901 1.55874 -2.12132 2.12132 \r\nC -1.55874 2.683901 -0.795609 3 0 3 \r\nz\r\n\" id=\"m41cc2437d0\" style=\"stroke:#0000ff;\"/>\r\n    </defs>\r\n    <g clip-path=\"url(#p34eca15bf4)\">\r\n     <use style=\"fill:#0000ff;stroke:#0000ff;\" x=\"59.277557\" xlink:href=\"#m41cc2437d0\" y=\"98.745765\"/>\r\n     <use style=\"fill:#0000ff;stroke:#0000ff;\" x=\"62.351937\" xlink:href=\"#m41cc2437d0\" y=\"114.64618\"/>\r\n     <use style=\"fill:#0000ff;stroke:#0000ff;\" x=\"65.426317\" xlink:href=\"#m41cc2437d0\" y=\"124.034975\"/>\r\n     <use style=\"fill:#0000ff;stroke:#0000ff;\" x=\"68.500697\" xlink:href=\"#m41cc2437d0\" y=\"131.402242\"/>\r\n     <use style=\"fill:#0000ff;stroke:#0000ff;\" x=\"71.575077\" xlink:href=\"#m41cc2437d0\" y=\"137.585733\"/>\r\n     <use style=\"fill:#0000ff;stroke:#0000ff;\" x=\"74.649458\" xlink:href=\"#m41cc2437d0\" y=\"143.180321\"/>\r\n     <use style=\"fill:#0000ff;stroke:#0000ff;\" x=\"77.723838\" xlink:href=\"#m41cc2437d0\" y=\"148.682018\"/>\r\n     <use style=\"fill:#0000ff;stroke:#0000ff;\" x=\"80.798218\" xlink:href=\"#m41cc2437d0\" y=\"153.563396\"/>\r\n     <use style=\"fill:#0000ff;stroke:#0000ff;\" x=\"83.872598\" xlink:href=\"#m41cc2437d0\" y=\"157.834824\"/>\r\n     <use style=\"fill:#0000ff;stroke:#0000ff;\" x=\"86.946978\" xlink:href=\"#m41cc2437d0\" y=\"161.780596\"/>\r\n     <use style=\"fill:#0000ff;stroke:#0000ff;\" x=\"90.021358\" xlink:href=\"#m41cc2437d0\" y=\"165.367012\"/>\r\n     <use style=\"fill:#0000ff;stroke:#0000ff;\" x=\"93.095739\" xlink:href=\"#m41cc2437d0\" y=\"168.566947\"/>\r\n     <use style=\"fill:#0000ff;stroke:#0000ff;\" x=\"96.170119\" xlink:href=\"#m41cc2437d0\" y=\"171.454274\"/>\r\n     <use style=\"fill:#0000ff;stroke:#0000ff;\" x=\"99.244499\" xlink:href=\"#m41cc2437d0\" y=\"174.15725\"/>\r\n     <use style=\"fill:#0000ff;stroke:#0000ff;\" x=\"102.318879\" xlink:href=\"#m41cc2437d0\" y=\"176.621256\"/>\r\n     <use style=\"fill:#0000ff;stroke:#0000ff;\" x=\"105.393259\" xlink:href=\"#m41cc2437d0\" y=\"179.029053\"/>\r\n     <use style=\"fill:#0000ff;stroke:#0000ff;\" x=\"108.467639\" xlink:href=\"#m41cc2437d0\" y=\"181.081894\"/>\r\n     <use style=\"fill:#0000ff;stroke:#0000ff;\" x=\"111.54202\" xlink:href=\"#m41cc2437d0\" y=\"183.026901\"/>\r\n     <use style=\"fill:#0000ff;stroke:#0000ff;\" x=\"114.6164\" xlink:href=\"#m41cc2437d0\" y=\"184.936434\"/>\r\n     <use style=\"fill:#0000ff;stroke:#0000ff;\" x=\"117.69078\" xlink:href=\"#m41cc2437d0\" y=\"186.534971\"/>\r\n     <use style=\"fill:#0000ff;stroke:#0000ff;\" x=\"120.76516\" xlink:href=\"#m41cc2437d0\" y=\"188.247361\"/>\r\n     <use style=\"fill:#0000ff;stroke:#0000ff;\" x=\"123.83954\" xlink:href=\"#m41cc2437d0\" y=\"189.944397\"/>\r\n     <use style=\"fill:#0000ff;stroke:#0000ff;\" x=\"126.91392\" xlink:href=\"#m41cc2437d0\" y=\"191.531083\"/>\r\n     <use style=\"fill:#0000ff;stroke:#0000ff;\" x=\"129.988301\" xlink:href=\"#m41cc2437d0\" y=\"192.982164\"/>\r\n     <use style=\"fill:#0000ff;stroke:#0000ff;\" x=\"133.062681\" xlink:href=\"#m41cc2437d0\" y=\"194.280478\"/>\r\n     <use style=\"fill:#0000ff;stroke:#0000ff;\" x=\"136.137061\" xlink:href=\"#m41cc2437d0\" y=\"195.744261\"/>\r\n     <use style=\"fill:#0000ff;stroke:#0000ff;\" x=\"139.211441\" xlink:href=\"#m41cc2437d0\" y=\"197.149918\"/>\r\n     <use style=\"fill:#0000ff;stroke:#0000ff;\" x=\"142.285821\" xlink:href=\"#m41cc2437d0\" y=\"198.411276\"/>\r\n     <use style=\"fill:#0000ff;stroke:#0000ff;\" x=\"145.360201\" xlink:href=\"#m41cc2437d0\" y=\"199.504565\"/>\r\n     <use style=\"fill:#0000ff;stroke:#0000ff;\" x=\"148.434582\" xlink:href=\"#m41cc2437d0\" y=\"200.922109\"/>\r\n     <use style=\"fill:#0000ff;stroke:#0000ff;\" x=\"151.508962\" xlink:href=\"#m41cc2437d0\" y=\"201.959274\"/>\r\n     <use style=\"fill:#0000ff;stroke:#0000ff;\" x=\"154.583342\" xlink:href=\"#m41cc2437d0\" y=\"202.932532\"/>\r\n     <use style=\"fill:#0000ff;stroke:#0000ff;\" x=\"157.657722\" xlink:href=\"#m41cc2437d0\" y=\"203.952674\"/>\r\n     <use style=\"fill:#0000ff;stroke:#0000ff;\" x=\"160.732102\" xlink:href=\"#m41cc2437d0\" y=\"204.801316\"/>\r\n     <use style=\"fill:#0000ff;stroke:#0000ff;\" x=\"163.806482\" xlink:href=\"#m41cc2437d0\" y=\"205.887947\"/>\r\n     <use style=\"fill:#0000ff;stroke:#0000ff;\" x=\"166.880863\" xlink:href=\"#m41cc2437d0\" y=\"206.776614\"/>\r\n     <use style=\"fill:#0000ff;stroke:#0000ff;\" x=\"169.955243\" xlink:href=\"#m41cc2437d0\" y=\"207.497129\"/>\r\n     <use style=\"fill:#0000ff;stroke:#0000ff;\" x=\"173.029623\" xlink:href=\"#m41cc2437d0\" y=\"208.438174\"/>\r\n     <use style=\"fill:#0000ff;stroke:#0000ff;\" x=\"176.104003\" xlink:href=\"#m41cc2437d0\" y=\"209.174149\"/>\r\n     <use style=\"fill:#0000ff;stroke:#0000ff;\" x=\"179.178383\" xlink:href=\"#m41cc2437d0\" y=\"209.846114\"/>\r\n     <use style=\"fill:#0000ff;stroke:#0000ff;\" x=\"182.252763\" xlink:href=\"#m41cc2437d0\" y=\"210.533759\"/>\r\n     <use style=\"fill:#0000ff;stroke:#0000ff;\" x=\"185.327144\" xlink:href=\"#m41cc2437d0\" y=\"211.258762\"/>\r\n     <use style=\"fill:#0000ff;stroke:#0000ff;\" x=\"188.401524\" xlink:href=\"#m41cc2437d0\" y=\"211.998321\"/>\r\n     <use style=\"fill:#0000ff;stroke:#0000ff;\" x=\"191.475904\" xlink:href=\"#m41cc2437d0\" y=\"212.654668\"/>\r\n     <use style=\"fill:#0000ff;stroke:#0000ff;\" x=\"194.550284\" xlink:href=\"#m41cc2437d0\" y=\"213.275233\"/>\r\n     <use style=\"fill:#0000ff;stroke:#0000ff;\" x=\"197.624664\" xlink:href=\"#m41cc2437d0\" y=\"213.848822\"/>\r\n     <use style=\"fill:#0000ff;stroke:#0000ff;\" x=\"200.699044\" xlink:href=\"#m41cc2437d0\" y=\"214.574066\"/>\r\n     <use style=\"fill:#0000ff;stroke:#0000ff;\" x=\"203.773425\" xlink:href=\"#m41cc2437d0\" y=\"214.9339\"/>\r\n     <use style=\"fill:#0000ff;stroke:#0000ff;\" x=\"206.847805\" xlink:href=\"#m41cc2437d0\" y=\"215.566735\"/>\r\n     <use style=\"fill:#0000ff;stroke:#0000ff;\" x=\"209.922185\" xlink:href=\"#m41cc2437d0\" y=\"215.855818\"/>\r\n     <use style=\"fill:#0000ff;stroke:#0000ff;\" x=\"212.996565\" xlink:href=\"#m41cc2437d0\" y=\"216.473921\"/>\r\n     <use style=\"fill:#0000ff;stroke:#0000ff;\" x=\"216.070945\" xlink:href=\"#m41cc2437d0\" y=\"216.880232\"/>\r\n     <use style=\"fill:#0000ff;stroke:#0000ff;\" x=\"219.145325\" xlink:href=\"#m41cc2437d0\" y=\"217.407796\"/>\r\n     <use style=\"fill:#0000ff;stroke:#0000ff;\" x=\"222.219706\" xlink:href=\"#m41cc2437d0\" y=\"217.796705\"/>\r\n     <use style=\"fill:#0000ff;stroke:#0000ff;\" x=\"225.294086\" xlink:href=\"#m41cc2437d0\" y=\"218.355159\"/>\r\n     <use style=\"fill:#0000ff;stroke:#0000ff;\" x=\"228.368466\" xlink:href=\"#m41cc2437d0\" y=\"218.834059\"/>\r\n     <use style=\"fill:#0000ff;stroke:#0000ff;\" x=\"231.442846\" xlink:href=\"#m41cc2437d0\" y=\"219.10086\"/>\r\n     <use style=\"fill:#0000ff;stroke:#0000ff;\" x=\"234.517226\" xlink:href=\"#m41cc2437d0\" y=\"219.625659\"/>\r\n     <use style=\"fill:#0000ff;stroke:#0000ff;\" x=\"237.591606\" xlink:href=\"#m41cc2437d0\" y=\"220.016882\"/>\r\n     <use style=\"fill:#0000ff;stroke:#0000ff;\" x=\"240.665987\" xlink:href=\"#m41cc2437d0\" y=\"220.472913\"/>\r\n     <use style=\"fill:#0000ff;stroke:#0000ff;\" x=\"243.740367\" xlink:href=\"#m41cc2437d0\" y=\"220.80738\"/>\r\n     <use style=\"fill:#0000ff;stroke:#0000ff;\" x=\"246.814747\" xlink:href=\"#m41cc2437d0\" y=\"221.135964\"/>\r\n     <use style=\"fill:#0000ff;stroke:#0000ff;\" x=\"249.889127\" xlink:href=\"#m41cc2437d0\" y=\"221.348163\"/>\r\n     <use style=\"fill:#0000ff;stroke:#0000ff;\" x=\"252.963507\" xlink:href=\"#m41cc2437d0\" y=\"221.877696\"/>\r\n     <use style=\"fill:#0000ff;stroke:#0000ff;\" x=\"256.037887\" xlink:href=\"#m41cc2437d0\" y=\"222.253864\"/>\r\n     <use style=\"fill:#0000ff;stroke:#0000ff;\" x=\"259.112268\" xlink:href=\"#m41cc2437d0\" y=\"222.539817\"/>\r\n     <use style=\"fill:#0000ff;stroke:#0000ff;\" x=\"262.186648\" xlink:href=\"#m41cc2437d0\" y=\"222.760845\"/>\r\n     <use style=\"fill:#0000ff;stroke:#0000ff;\" x=\"265.261028\" xlink:href=\"#m41cc2437d0\" y=\"223.278235\"/>\r\n     <use style=\"fill:#0000ff;stroke:#0000ff;\" x=\"268.335408\" xlink:href=\"#m41cc2437d0\" y=\"223.448721\"/>\r\n     <use style=\"fill:#0000ff;stroke:#0000ff;\" x=\"271.409788\" xlink:href=\"#m41cc2437d0\" y=\"223.684773\"/>\r\n     <use style=\"fill:#0000ff;stroke:#0000ff;\" x=\"274.484168\" xlink:href=\"#m41cc2437d0\" y=\"224.005956\"/>\r\n     <use style=\"fill:#0000ff;stroke:#0000ff;\" x=\"277.558549\" xlink:href=\"#m41cc2437d0\" y=\"224.387936\"/>\r\n     <use style=\"fill:#0000ff;stroke:#0000ff;\" x=\"280.632929\" xlink:href=\"#m41cc2437d0\" y=\"224.66146\"/>\r\n     <use style=\"fill:#0000ff;stroke:#0000ff;\" x=\"283.707309\" xlink:href=\"#m41cc2437d0\" y=\"224.81565\"/>\r\n     <use style=\"fill:#0000ff;stroke:#0000ff;\" x=\"286.781689\" xlink:href=\"#m41cc2437d0\" y=\"225.130842\"/>\r\n     <use style=\"fill:#0000ff;stroke:#0000ff;\" x=\"289.856069\" xlink:href=\"#m41cc2437d0\" y=\"225.445571\"/>\r\n     <use style=\"fill:#0000ff;stroke:#0000ff;\" x=\"292.930449\" xlink:href=\"#m41cc2437d0\" y=\"225.707147\"/>\r\n     <use style=\"fill:#0000ff;stroke:#0000ff;\" x=\"296.00483\" xlink:href=\"#m41cc2437d0\" y=\"226.003742\"/>\r\n     <use style=\"fill:#0000ff;stroke:#0000ff;\" x=\"299.07921\" xlink:href=\"#m41cc2437d0\" y=\"226.269749\"/>\r\n     <use style=\"fill:#0000ff;stroke:#0000ff;\" x=\"302.15359\" xlink:href=\"#m41cc2437d0\" y=\"226.498004\"/>\r\n     <use style=\"fill:#0000ff;stroke:#0000ff;\" x=\"305.22797\" xlink:href=\"#m41cc2437d0\" y=\"226.713972\"/>\r\n     <use style=\"fill:#0000ff;stroke:#0000ff;\" x=\"308.30235\" xlink:href=\"#m41cc2437d0\" y=\"226.821523\"/>\r\n     <use style=\"fill:#0000ff;stroke:#0000ff;\" x=\"311.37673\" xlink:href=\"#m41cc2437d0\" y=\"227.175111\"/>\r\n     <use style=\"fill:#0000ff;stroke:#0000ff;\" x=\"314.451111\" xlink:href=\"#m41cc2437d0\" y=\"227.343272\"/>\r\n     <use style=\"fill:#0000ff;stroke:#0000ff;\" x=\"317.525491\" xlink:href=\"#m41cc2437d0\" y=\"227.515263\"/>\r\n     <use style=\"fill:#0000ff;stroke:#0000ff;\" x=\"320.599871\" xlink:href=\"#m41cc2437d0\" y=\"227.652641\"/>\r\n     <use style=\"fill:#0000ff;stroke:#0000ff;\" x=\"323.674251\" xlink:href=\"#m41cc2437d0\" y=\"227.842825\"/>\r\n     <use style=\"fill:#0000ff;stroke:#0000ff;\" x=\"326.748631\" xlink:href=\"#m41cc2437d0\" y=\"228.17522\"/>\r\n     <use style=\"fill:#0000ff;stroke:#0000ff;\" x=\"329.823011\" xlink:href=\"#m41cc2437d0\" y=\"228.231051\"/>\r\n     <use style=\"fill:#0000ff;stroke:#0000ff;\" x=\"332.897392\" xlink:href=\"#m41cc2437d0\" y=\"228.398984\"/>\r\n     <use style=\"fill:#0000ff;stroke:#0000ff;\" x=\"335.971772\" xlink:href=\"#m41cc2437d0\" y=\"228.51584\"/>\r\n     <use style=\"fill:#0000ff;stroke:#0000ff;\" x=\"339.046152\" xlink:href=\"#m41cc2437d0\" y=\"228.706501\"/>\r\n     <use style=\"fill:#0000ff;stroke:#0000ff;\" x=\"342.120532\" xlink:href=\"#m41cc2437d0\" y=\"228.80445\"/>\r\n     <use style=\"fill:#0000ff;stroke:#0000ff;\" x=\"345.194912\" xlink:href=\"#m41cc2437d0\" y=\"228.959935\"/>\r\n     <use style=\"fill:#0000ff;stroke:#0000ff;\" x=\"348.269292\" xlink:href=\"#m41cc2437d0\" y=\"229.154909\"/>\r\n     <use style=\"fill:#0000ff;stroke:#0000ff;\" x=\"351.343673\" xlink:href=\"#m41cc2437d0\" y=\"229.338175\"/>\r\n     <use style=\"fill:#0000ff;stroke:#0000ff;\" x=\"354.418053\" xlink:href=\"#m41cc2437d0\" y=\"229.506437\"/>\r\n     <use style=\"fill:#0000ff;stroke:#0000ff;\" x=\"357.492433\" xlink:href=\"#m41cc2437d0\" y=\"229.627128\"/>\r\n     <use style=\"fill:#0000ff;stroke:#0000ff;\" x=\"360.566813\" xlink:href=\"#m41cc2437d0\" y=\"229.756\"/>\r\n     <use style=\"fill:#0000ff;stroke:#0000ff;\" x=\"363.641193\" xlink:href=\"#m41cc2437d0\" y=\"229.874489\"/>\r\n    </g>\r\n   </g>\r\n   <g id=\"line2d_14\">\r\n    <path clip-path=\"url(#p34eca15bf4)\" d=\"M 59.277557 124.191448 \r\nL 62.351937 89.332196 \r\nL 65.426317 72.870889 \r\nL 68.500697 68.02932 \r\nL 71.575077 63.187763 \r\nL 74.649458 62.219445 \r\nL 77.723838 64.15607 \r\nL 80.798218 59.314513 \r\nL 83.872598 59.314513 \r\nL 86.946978 57.377888 \r\nL 90.021358 57.377888 \r\nL 93.095739 56.409569 \r\nL 96.170119 55.441263 \r\nL 99.244499 55.441263 \r\nL 102.318879 52.536319 \r\nL 105.393259 52.536319 \r\nL 108.467639 51.568013 \r\nL 111.54202 48.663069 \r\nL 114.6164 48.663069 \r\nL 117.69078 49.631387 \r\nL 120.76516 48.663069 \r\nL 123.83954 48.663069 \r\nL 126.91392 47.694762 \r\nL 129.988301 46.726444 \r\nL 133.062681 47.694762 \r\nL 136.137061 46.726444 \r\nL 139.211441 45.758137 \r\nL 142.285821 44.789819 \r\nL 145.360201 43.821512 \r\nL 148.434582 43.821512 \r\nL 151.508962 43.821512 \r\nL 154.583342 42.853193 \r\nL 157.657722 41.884887 \r\nL 160.732102 41.884887 \r\nL 163.806482 40.916568 \r\nL 166.880863 39.948262 \r\nL 169.955243 39.948262 \r\nL 173.029623 39.948262 \r\nL 176.104003 38.979943 \r\nL 179.178383 38.979943 \r\nL 182.252763 38.979943 \r\nL 185.327144 38.979943 \r\nL 188.401524 38.979943 \r\nL 191.475904 38.979943 \r\nL 194.550284 38.979943 \r\nL 197.624664 38.011637 \r\nL 200.699044 37.043318 \r\nL 203.773425 37.043318 \r\nL 206.847805 37.043318 \r\nL 209.922185 37.043318 \r\nL 212.996565 37.043318 \r\nL 216.070945 37.043318 \r\nL 219.145325 37.043318 \r\nL 222.219706 37.043318 \r\nL 225.294086 37.043318 \r\nL 228.368466 36.075012 \r\nL 231.442846 37.043318 \r\nL 234.517226 35.106693 \r\nL 237.591606 35.106693 \r\nL 240.665987 36.075012 \r\nL 243.740367 35.106693 \r\nL 246.814747 35.106693 \r\nL 249.889127 35.106693 \r\nL 252.963507 34.138386 \r\nL 256.037887 33.170068 \r\nL 259.112268 34.138386 \r\nL 262.186648 33.170068 \r\nL 265.261028 33.170068 \r\nL 268.335408 33.170068 \r\nL 271.409788 33.170068 \r\nL 274.484168 33.170068 \r\nL 277.558549 33.170068 \r\nL 280.632929 33.170068 \r\nL 283.707309 33.170068 \r\nL 286.781689 33.170068 \r\nL 289.856069 33.170068 \r\nL 292.930449 33.170068 \r\nL 296.00483 33.170068 \r\nL 299.07921 33.170068 \r\nL 302.15359 33.170068 \r\nL 305.22797 33.170068 \r\nL 308.30235 33.170068 \r\nL 311.37673 33.170068 \r\nL 314.451111 33.170068 \r\nL 317.525491 33.170068 \r\nL 320.599871 33.170068 \r\nL 323.674251 33.170068 \r\nL 326.748631 33.170068 \r\nL 329.823011 33.170068 \r\nL 332.897392 33.170068 \r\nL 335.971772 33.170068 \r\nL 339.046152 33.170068 \r\nL 342.120532 33.170068 \r\nL 345.194912 33.170068 \r\nL 348.269292 33.170068 \r\nL 351.343673 33.170068 \r\nL 354.418053 33.170068 \r\nL 357.492433 32.201761 \r\nL 360.566813 32.201761 \r\nL 363.641193 32.201761 \r\n\" style=\"fill:none;stroke:#0000ff;stroke-linecap:square;stroke-width:1.5;\"/>\r\n   </g>\r\n   <g id=\"patch_3\">\r\n    <path d=\"M 44.059375 239.758125 \r\nL 44.059375 22.318125 \r\n\" style=\"fill:none;stroke:#000000;stroke-linecap:square;stroke-linejoin:miter;stroke-width:0.8;\"/>\r\n   </g>\r\n   <g id=\"patch_4\">\r\n    <path d=\"M 378.859375 239.758125 \r\nL 378.859375 22.318125 \r\n\" style=\"fill:none;stroke:#000000;stroke-linecap:square;stroke-linejoin:miter;stroke-width:0.8;\"/>\r\n   </g>\r\n   <g id=\"patch_5\">\r\n    <path d=\"M 44.059375 239.758125 \r\nL 378.859375 239.758125 \r\n\" style=\"fill:none;stroke:#000000;stroke-linecap:square;stroke-linejoin:miter;stroke-width:0.8;\"/>\r\n   </g>\r\n   <g id=\"patch_6\">\r\n    <path d=\"M 44.059375 22.318125 \r\nL 378.859375 22.318125 \r\n\" style=\"fill:none;stroke:#000000;stroke-linecap:square;stroke-linejoin:miter;stroke-width:0.8;\"/>\r\n   </g>\r\n   <g id=\"text_15\">\r\n    <!-- Training and accuracy -->\r\n    <g transform=\"translate(145.615 16.318125)scale(0.12 -0.12)\">\r\n     <defs>\r\n      <path d=\"M -0.296875 72.90625 \r\nL 61.375 72.90625 \r\nL 61.375 64.59375 \r\nL 35.5 64.59375 \r\nL 35.5 0 \r\nL 25.59375 0 \r\nL 25.59375 64.59375 \r\nL -0.296875 64.59375 \r\nz\r\n\" id=\"DejaVuSans-84\"/>\r\n      <path d=\"M 41.109375 46.296875 \r\nQ 39.59375 47.171875 37.8125 47.578125 \r\nQ 36.03125 48 33.890625 48 \r\nQ 26.265625 48 22.1875 43.046875 \r\nQ 18.109375 38.09375 18.109375 28.8125 \r\nL 18.109375 0 \r\nL 9.078125 0 \r\nL 9.078125 54.6875 \r\nL 18.109375 54.6875 \r\nL 18.109375 46.1875 \r\nQ 20.953125 51.171875 25.484375 53.578125 \r\nQ 30.03125 56 36.53125 56 \r\nQ 37.453125 56 38.578125 55.875 \r\nQ 39.703125 55.765625 41.0625 55.515625 \r\nz\r\n\" id=\"DejaVuSans-114\"/>\r\n      <path d=\"M 9.421875 54.6875 \r\nL 18.40625 54.6875 \r\nL 18.40625 0 \r\nL 9.421875 0 \r\nz\r\nM 9.421875 75.984375 \r\nL 18.40625 75.984375 \r\nL 18.40625 64.59375 \r\nL 9.421875 64.59375 \r\nz\r\n\" id=\"DejaVuSans-105\"/>\r\n      <path d=\"M 54.890625 33.015625 \r\nL 54.890625 0 \r\nL 45.90625 0 \r\nL 45.90625 32.71875 \r\nQ 45.90625 40.484375 42.875 44.328125 \r\nQ 39.84375 48.1875 33.796875 48.1875 \r\nQ 26.515625 48.1875 22.3125 43.546875 \r\nQ 18.109375 38.921875 18.109375 30.90625 \r\nL 18.109375 0 \r\nL 9.078125 0 \r\nL 9.078125 54.6875 \r\nL 18.109375 54.6875 \r\nL 18.109375 46.1875 \r\nQ 21.34375 51.125 25.703125 53.5625 \r\nQ 30.078125 56 35.796875 56 \r\nQ 45.21875 56 50.046875 50.171875 \r\nQ 54.890625 44.34375 54.890625 33.015625 \r\nz\r\n\" id=\"DejaVuSans-110\"/>\r\n      <path d=\"M 45.40625 27.984375 \r\nQ 45.40625 37.75 41.375 43.109375 \r\nQ 37.359375 48.484375 30.078125 48.484375 \r\nQ 22.859375 48.484375 18.828125 43.109375 \r\nQ 14.796875 37.75 14.796875 27.984375 \r\nQ 14.796875 18.265625 18.828125 12.890625 \r\nQ 22.859375 7.515625 30.078125 7.515625 \r\nQ 37.359375 7.515625 41.375 12.890625 \r\nQ 45.40625 18.265625 45.40625 27.984375 \r\nz\r\nM 54.390625 6.78125 \r\nQ 54.390625 -7.171875 48.1875 -13.984375 \r\nQ 42 -20.796875 29.203125 -20.796875 \r\nQ 24.46875 -20.796875 20.265625 -20.09375 \r\nQ 16.0625 -19.390625 12.109375 -17.921875 \r\nL 12.109375 -9.1875 \r\nQ 16.0625 -11.328125 19.921875 -12.34375 \r\nQ 23.78125 -13.375 27.78125 -13.375 \r\nQ 36.625 -13.375 41.015625 -8.765625 \r\nQ 45.40625 -4.15625 45.40625 5.171875 \r\nL 45.40625 9.625 \r\nQ 42.625 4.78125 38.28125 2.390625 \r\nQ 33.9375 0 27.875 0 \r\nQ 17.828125 0 11.671875 7.65625 \r\nQ 5.515625 15.328125 5.515625 27.984375 \r\nQ 5.515625 40.671875 11.671875 48.328125 \r\nQ 17.828125 56 27.875 56 \r\nQ 33.9375 56 38.28125 53.609375 \r\nQ 42.625 51.21875 45.40625 46.390625 \r\nL 45.40625 54.6875 \r\nL 54.390625 54.6875 \r\nz\r\n\" id=\"DejaVuSans-103\"/>\r\n      <path id=\"DejaVuSans-32\"/>\r\n      <path d=\"M 45.40625 46.390625 \r\nL 45.40625 75.984375 \r\nL 54.390625 75.984375 \r\nL 54.390625 0 \r\nL 45.40625 0 \r\nL 45.40625 8.203125 \r\nQ 42.578125 3.328125 38.25 0.953125 \r\nQ 33.9375 -1.421875 27.875 -1.421875 \r\nQ 17.96875 -1.421875 11.734375 6.484375 \r\nQ 5.515625 14.40625 5.515625 27.296875 \r\nQ 5.515625 40.1875 11.734375 48.09375 \r\nQ 17.96875 56 27.875 56 \r\nQ 33.9375 56 38.25 53.625 \r\nQ 42.578125 51.265625 45.40625 46.390625 \r\nz\r\nM 14.796875 27.296875 \r\nQ 14.796875 17.390625 18.875 11.75 \r\nQ 22.953125 6.109375 30.078125 6.109375 \r\nQ 37.203125 6.109375 41.296875 11.75 \r\nQ 45.40625 17.390625 45.40625 27.296875 \r\nQ 45.40625 37.203125 41.296875 42.84375 \r\nQ 37.203125 48.484375 30.078125 48.484375 \r\nQ 22.953125 48.484375 18.875 42.84375 \r\nQ 14.796875 37.203125 14.796875 27.296875 \r\nz\r\n\" id=\"DejaVuSans-100\"/>\r\n      <path d=\"M 8.5 21.578125 \r\nL 8.5 54.6875 \r\nL 17.484375 54.6875 \r\nL 17.484375 21.921875 \r\nQ 17.484375 14.15625 20.5 10.265625 \r\nQ 23.53125 6.390625 29.59375 6.390625 \r\nQ 36.859375 6.390625 41.078125 11.03125 \r\nQ 45.3125 15.671875 45.3125 23.6875 \r\nL 45.3125 54.6875 \r\nL 54.296875 54.6875 \r\nL 54.296875 0 \r\nL 45.3125 0 \r\nL 45.3125 8.40625 \r\nQ 42.046875 3.421875 37.71875 1 \r\nQ 33.40625 -1.421875 27.6875 -1.421875 \r\nQ 18.265625 -1.421875 13.375 4.4375 \r\nQ 8.5 10.296875 8.5 21.578125 \r\nz\r\nM 31.109375 56 \r\nz\r\n\" id=\"DejaVuSans-117\"/>\r\n      <path d=\"M 32.171875 -5.078125 \r\nQ 28.375 -14.84375 24.75 -17.8125 \r\nQ 21.140625 -20.796875 15.09375 -20.796875 \r\nL 7.90625 -20.796875 \r\nL 7.90625 -13.28125 \r\nL 13.1875 -13.28125 \r\nQ 16.890625 -13.28125 18.9375 -11.515625 \r\nQ 21 -9.765625 23.484375 -3.21875 \r\nL 25.09375 0.875 \r\nL 2.984375 54.6875 \r\nL 12.5 54.6875 \r\nL 29.59375 11.921875 \r\nL 46.6875 54.6875 \r\nL 56.203125 54.6875 \r\nz\r\n\" id=\"DejaVuSans-121\"/>\r\n     </defs>\r\n     <use xlink:href=\"#DejaVuSans-84\"/>\r\n     <use x=\"46.333984\" xlink:href=\"#DejaVuSans-114\"/>\r\n     <use x=\"87.447266\" xlink:href=\"#DejaVuSans-97\"/>\r\n     <use x=\"148.726562\" xlink:href=\"#DejaVuSans-105\"/>\r\n     <use x=\"176.509766\" xlink:href=\"#DejaVuSans-110\"/>\r\n     <use x=\"239.888672\" xlink:href=\"#DejaVuSans-105\"/>\r\n     <use x=\"267.671875\" xlink:href=\"#DejaVuSans-110\"/>\r\n     <use x=\"331.050781\" xlink:href=\"#DejaVuSans-103\"/>\r\n     <use x=\"394.527344\" xlink:href=\"#DejaVuSans-32\"/>\r\n     <use x=\"426.314453\" xlink:href=\"#DejaVuSans-97\"/>\r\n     <use x=\"487.59375\" xlink:href=\"#DejaVuSans-110\"/>\r\n     <use x=\"550.972656\" xlink:href=\"#DejaVuSans-100\"/>\r\n     <use x=\"614.449219\" xlink:href=\"#DejaVuSans-32\"/>\r\n     <use x=\"646.236328\" xlink:href=\"#DejaVuSans-97\"/>\r\n     <use x=\"707.515625\" xlink:href=\"#DejaVuSans-99\"/>\r\n     <use x=\"762.496094\" xlink:href=\"#DejaVuSans-99\"/>\r\n     <use x=\"817.476562\" xlink:href=\"#DejaVuSans-117\"/>\r\n     <use x=\"880.855469\" xlink:href=\"#DejaVuSans-114\"/>\r\n     <use x=\"921.96875\" xlink:href=\"#DejaVuSans-97\"/>\r\n     <use x=\"983.248047\" xlink:href=\"#DejaVuSans-99\"/>\r\n     <use x=\"1038.228516\" xlink:href=\"#DejaVuSans-121\"/>\r\n    </g>\r\n   </g>\r\n   <g id=\"legend_1\">\r\n    <g id=\"patch_7\">\r\n     <path d=\"M 252.110938 147.21625 \r\nL 371.859375 147.21625 \r\nQ 373.859375 147.21625 373.859375 145.21625 \r\nL 373.859375 116.86 \r\nQ 373.859375 114.86 371.859375 114.86 \r\nL 252.110938 114.86 \r\nQ 250.110938 114.86 250.110938 116.86 \r\nL 250.110938 145.21625 \r\nQ 250.110938 147.21625 252.110938 147.21625 \r\nz\r\n\" style=\"fill:#ffffff;opacity:0.8;stroke:#cccccc;stroke-linejoin:miter;\"/>\r\n    </g>\r\n    <g id=\"line2d_15\"/>\r\n    <g id=\"line2d_16\">\r\n     <g>\r\n      <use style=\"fill:#0000ff;stroke:#0000ff;\" x=\"264.110937\" xlink:href=\"#m41cc2437d0\" y=\"122.958437\"/>\r\n     </g>\r\n    </g>\r\n    <g id=\"text_16\">\r\n     <!-- Training loss -->\r\n     <g transform=\"translate(282.110937 126.458437)scale(0.1 -0.1)\">\r\n      <use xlink:href=\"#DejaVuSans-84\"/>\r\n      <use x=\"46.333984\" xlink:href=\"#DejaVuSans-114\"/>\r\n      <use x=\"87.447266\" xlink:href=\"#DejaVuSans-97\"/>\r\n      <use x=\"148.726562\" xlink:href=\"#DejaVuSans-105\"/>\r\n      <use x=\"176.509766\" xlink:href=\"#DejaVuSans-110\"/>\r\n      <use x=\"239.888672\" xlink:href=\"#DejaVuSans-105\"/>\r\n      <use x=\"267.671875\" xlink:href=\"#DejaVuSans-110\"/>\r\n      <use x=\"331.050781\" xlink:href=\"#DejaVuSans-103\"/>\r\n      <use x=\"394.527344\" xlink:href=\"#DejaVuSans-32\"/>\r\n      <use x=\"426.314453\" xlink:href=\"#DejaVuSans-108\"/>\r\n      <use x=\"454.097656\" xlink:href=\"#DejaVuSans-111\"/>\r\n      <use x=\"515.279297\" xlink:href=\"#DejaVuSans-115\"/>\r\n      <use x=\"567.378906\" xlink:href=\"#DejaVuSans-115\"/>\r\n     </g>\r\n    </g>\r\n    <g id=\"line2d_17\">\r\n     <path d=\"M 254.110938 137.636562 \r\nL 274.110937 137.636562 \r\n\" style=\"fill:none;stroke:#0000ff;stroke-linecap:square;stroke-width:1.5;\"/>\r\n    </g>\r\n    <g id=\"line2d_18\"/>\r\n    <g id=\"text_17\">\r\n     <!-- Training accuracy -->\r\n     <g transform=\"translate(282.110937 141.136562)scale(0.1 -0.1)\">\r\n      <use xlink:href=\"#DejaVuSans-84\"/>\r\n      <use x=\"46.333984\" xlink:href=\"#DejaVuSans-114\"/>\r\n      <use x=\"87.447266\" xlink:href=\"#DejaVuSans-97\"/>\r\n      <use x=\"148.726562\" xlink:href=\"#DejaVuSans-105\"/>\r\n      <use x=\"176.509766\" xlink:href=\"#DejaVuSans-110\"/>\r\n      <use x=\"239.888672\" xlink:href=\"#DejaVuSans-105\"/>\r\n      <use x=\"267.671875\" xlink:href=\"#DejaVuSans-110\"/>\r\n      <use x=\"331.050781\" xlink:href=\"#DejaVuSans-103\"/>\r\n      <use x=\"394.527344\" xlink:href=\"#DejaVuSans-32\"/>\r\n      <use x=\"426.314453\" xlink:href=\"#DejaVuSans-97\"/>\r\n      <use x=\"487.59375\" xlink:href=\"#DejaVuSans-99\"/>\r\n      <use x=\"542.574219\" xlink:href=\"#DejaVuSans-99\"/>\r\n      <use x=\"597.554688\" xlink:href=\"#DejaVuSans-117\"/>\r\n      <use x=\"660.933594\" xlink:href=\"#DejaVuSans-114\"/>\r\n      <use x=\"702.046875\" xlink:href=\"#DejaVuSans-97\"/>\r\n      <use x=\"763.326172\" xlink:href=\"#DejaVuSans-99\"/>\r\n      <use x=\"818.306641\" xlink:href=\"#DejaVuSans-121\"/>\r\n     </g>\r\n    </g>\r\n   </g>\r\n  </g>\r\n </g>\r\n <defs>\r\n  <clipPath id=\"p34eca15bf4\">\r\n   <rect height=\"217.44\" width=\"334.8\" x=\"44.059375\" y=\"22.318125\"/>\r\n  </clipPath>\r\n </defs>\r\n</svg>\r\n",
      "image/png": "[encoded data removed]"
     },
     "metadata": {
      "needs_background": "light"
     }
    }
   ],
   "source": [
    "import matplotlib.pyplot as plt\n",
    "loss_val = history_dict['loss']\n",
    "acc_val = history_dict['accuracy']\n",
    "epochs = range(1,len(acc_val)+1)\n",
    "plt.plot(epochs,loss_val,'bo',label='Training loss')\n",
    "plt.plot(epochs,acc_val,'b',label='Training accuracy')\n",
    "plt.title(\"Training and accuracy\")\n",
    "plt.xlabel('Loss')\n",
    "plt.ylabel('acc_val')\n",
    "plt.legend()\n",
    "plt.show()"
   ]
  },
  {
   "cell_type": "code",
   "execution_count": 90,
   "metadata": {},
   "outputs": [
    {
     "output_type": "stream",
     "name": "stdout",
     "text": [
      "5/5 [==============================] - 0s 2ms/step - loss: 0.2375 - accuracy: 0.9220\n",
      "loss is:0.23753727972507477  and accuracy is: 0.9219858050346375\n"
     ]
    }
   ],
   "source": [
    "loss, accuracy = model.evaluate(test_data,test_targets)\n",
    "print(f\"loss is:{loss}  and accuracy is: {accuracy}\")\n"
   ]
  },
  {
   "cell_type": "code",
   "execution_count": 91,
   "metadata": {},
   "outputs": [
    {
     "output_type": "execute_result",
     "data": {
      "text/plain": [
       "(141, 1)"
      ]
     },
     "metadata": {},
     "execution_count": 91
    }
   ],
   "source": [
    "predict = model.predict(test_data)\n",
    "predict.shape"
   ]
  },
  {
   "cell_type": "code",
   "execution_count": 92,
   "metadata": {},
   "outputs": [],
   "source": [
    "predict = predict.reshape(141)"
   ]
  },
  {
   "cell_type": "code",
   "execution_count": 93,
   "metadata": {},
   "outputs": [
    {
     "output_type": "execute_result",
     "data": {
      "text/plain": [
       "     Actual  Prediction\n",
       "0         1         1.0\n",
       "1         1         1.0\n",
       "2         1         1.0\n",
       "3         1         1.0\n",
       "4         0         0.0\n",
       "..      ...         ...\n",
       "136       1         1.0\n",
       "137       1         1.0\n",
       "138       1         1.0\n",
       "139       1         1.0\n",
       "140       0         0.0\n",
       "\n",
       "[141 rows x 2 columns]"
      ],
      "text/html": "<div>\n<style scoped>\n    .dataframe tbody tr th:only-of-type {\n        vertical-align: middle;\n    }\n\n    .dataframe tbody tr th {\n        vertical-align: top;\n    }\n\n    .dataframe thead th {\n        text-align: right;\n    }\n</style>\n<table border=\"1\" class=\"dataframe\">\n  <thead>\n    <tr style=\"text-align: right;\">\n      <th></th>\n      <th>Actual</th>\n      <th>Prediction</th>\n    </tr>\n  </thead>\n  <tbody>\n    <tr>\n      <th>0</th>\n      <td>1</td>\n      <td>1.0</td>\n    </tr>\n    <tr>\n      <th>1</th>\n      <td>1</td>\n      <td>1.0</td>\n    </tr>\n    <tr>\n      <th>2</th>\n      <td>1</td>\n      <td>1.0</td>\n    </tr>\n    <tr>\n      <th>3</th>\n      <td>1</td>\n      <td>1.0</td>\n    </tr>\n    <tr>\n      <th>4</th>\n      <td>0</td>\n      <td>0.0</td>\n    </tr>\n    <tr>\n      <th>...</th>\n      <td>...</td>\n      <td>...</td>\n    </tr>\n    <tr>\n      <th>136</th>\n      <td>1</td>\n      <td>1.0</td>\n    </tr>\n    <tr>\n      <th>137</th>\n      <td>1</td>\n      <td>1.0</td>\n    </tr>\n    <tr>\n      <th>138</th>\n      <td>1</td>\n      <td>1.0</td>\n    </tr>\n    <tr>\n      <th>139</th>\n      <td>1</td>\n      <td>1.0</td>\n    </tr>\n    <tr>\n      <th>140</th>\n      <td>0</td>\n      <td>0.0</td>\n    </tr>\n  </tbody>\n</table>\n<p>141 rows × 2 columns</p>\n</div>"
     },
     "metadata": {},
     "execution_count": 93
    }
   ],
   "source": [
    "output_df = pd.DataFrame({'Actual':test_targets,'Prediction':np.round(predict)})\n",
    "output_df"
   ]
  },
  {
   "cell_type": "code",
   "execution_count": 94,
   "metadata": {},
   "outputs": [
    {
     "output_type": "execute_result",
     "data": {
      "text/plain": [
       "(141,)"
      ]
     },
     "metadata": {},
     "execution_count": 94
    }
   ],
   "source": [
    "filt = (output_df.loc[:,'Actual'] == output_df.loc[:,'Prediction'])\n",
    "filt.shape"
   ]
  },
  {
   "cell_type": "code",
   "execution_count": 95,
   "metadata": {},
   "outputs": [
    {
     "output_type": "stream",
     "name": "stdout",
     "text": [
      "accuracy is : 92.19858156028369 %\n"
     ]
    }
   ],
   "source": [
    "print(f\"accuracy is :\",output_df[filt].shape[0]/output_df.shape[0]*100,\"%\")"
   ]
  }
 ],
 "metadata": {
  "kernelspec": {
   "name": "python382jvsc74a57bd0796a5f3ea0fd0200b0eb6589d246ae57b21d705b17540414461c2808eddeb672",
   "display_name": "Python 3.8.2 64-bit"
  },
  "language_info": {
   "codemirror_mode": {
    "name": "ipython",
    "version": 3
   },
   "file_extension": ".py",
   "mimetype": "text/x-python",
   "name": "python",
   "nbconvert_exporter": "python",
   "pygments_lexer": "ipython3",
   "version": "3.8.2-final"
  },
  "metadata": {
   "interpreter": {
    "hash": "796a5f3ea0fd0200b0eb6589d246ae57b21d705b17540414461c2808eddeb672"
   }
  }
 },
 "nbformat": 4,
 "nbformat_minor": 2
}