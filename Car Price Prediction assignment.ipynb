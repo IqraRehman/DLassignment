{
 "cells": [
  {
   "cell_type": "markdown",
   "metadata": {},
   "source": [
    "# Car Price Prediction::"
   ]
  },
  {
   "cell_type": "markdown",
   "metadata": {},
   "source": [
    "Download dataset from this link:\n",
    "\n",
    "https://www.kaggle.com/hellbuoy/car-price-prediction"
   ]
  },
  {
   "cell_type": "markdown",
   "metadata": {},
   "source": [
    "# Problem Statement::"
   ]
  },
  {
   "cell_type": "markdown",
   "metadata": {},
   "source": [
    "A Chinese automobile company Geely Auto aspires to enter the US market by setting up their manufacturing unit there and producing cars locally to give competition to their US and European counterparts.\n",
    "\n",
    "They have contracted an automobile consulting company to understand the factors on which the pricing of cars depends. Specifically, they want to understand the factors affecting the pricing of cars in the American market, since those may be very different from the Chinese market. The company wants to know:\n",
    "\n",
    "Which variables are significant in predicting the price of a car\n",
    "How well those variables describe the price of a car\n",
    "Based on various market surveys, the consulting firm has gathered a large data set of different types of cars across the America market.\n",
    "\n",
    "# task::\n",
    "We are required to model the price of cars with the available independent variables. It will be used by the management to understand how exactly the prices vary with the independent variables. They can accordingly manipulate the design of the cars, the business strategy etc. to meet certain price levels. Further, the model will be a good way for management to understand the pricing dynamics of a new market."
   ]
  },
  {
   "cell_type": "markdown",
   "metadata": {},
   "source": [
    "# WORKFLOW ::"
   ]
  },
  {
   "cell_type": "markdown",
   "metadata": {},
   "source": [
    "1.Load Data\n",
    "\n",
    "2.Check Missing Values ( If Exist ; Fill each record with mean of its feature )\n",
    "\n",
    "3.Split into 50% Training(Samples,Labels) , 30% Test(Samples,Labels) and 20% Validation Data(Samples,Labels).\n",
    "\n",
    "4.Model : input Layer (No. of features ), 3 hidden layers including 10,8,6 unit & Output Layer with activation function relu/tanh (check by experiment).\n",
    "\n",
    "5.Compilation Step (Note : Its a Regression problem , select loss , metrics according to it)\n",
    "6.Train the Model with Epochs (100) and validate it\n",
    "\n",
    "7.If the model gets overfit tune your model by changing the units , No. of layers , activation function , epochs , add dropout layer or add Regularizer according to the need .\n",
    "\n",
    "8.Evaluation Step\n",
    "\n",
    "9.Prediction"
   ]
  },
  {
   "cell_type": "code",
   "execution_count": 1,
   "metadata": {},
   "outputs": [],
   "source": [
    "import numpy as np\n",
    "import pandas as pd\n",
    "from tensorflow.keras import models,layers\n",
    "from tensorflow.keras import regularizers"
   ]
  },
  {
   "cell_type": "code",
   "execution_count": 3,
   "metadata": {},
   "outputs": [
    {
     "output_type": "execute_result",
     "data": {
      "text/plain": [
       "   car_ID  symboling                   CarName fueltype aspiration doornumber  \\\n",
       "0       1          3        alfa-romero giulia      gas        std        two   \n",
       "1       2          3       alfa-romero stelvio      gas        std        two   \n",
       "2       3          1  alfa-romero Quadrifoglio      gas        std        two   \n",
       "3       4          2               audi 100 ls      gas        std       four   \n",
       "4       5          2                audi 100ls      gas        std       four   \n",
       "\n",
       "       carbody drivewheel enginelocation  wheelbase  ...  enginesize  \\\n",
       "0  convertible        rwd          front       88.6  ...         130   \n",
       "1  convertible        rwd          front       88.6  ...         130   \n",
       "2    hatchback        rwd          front       94.5  ...         152   \n",
       "3        sedan        fwd          front       99.8  ...         109   \n",
       "4        sedan        4wd          front       99.4  ...         136   \n",
       "\n",
       "   fuelsystem  boreratio  stroke compressionratio horsepower  peakrpm citympg  \\\n",
       "0        mpfi       3.47    2.68              9.0        111     5000      21   \n",
       "1        mpfi       3.47    2.68              9.0        111     5000      21   \n",
       "2        mpfi       2.68    3.47              9.0        154     5000      19   \n",
       "3        mpfi       3.19    3.40             10.0        102     5500      24   \n",
       "4        mpfi       3.19    3.40              8.0        115     5500      18   \n",
       "\n",
       "   highwaympg    price  \n",
       "0          27  13495.0  \n",
       "1          27  16500.0  \n",
       "2          26  16500.0  \n",
       "3          30  13950.0  \n",
       "4          22  17450.0  \n",
       "\n",
       "[5 rows x 26 columns]"
      ],
      "text/html": "<div>\n<style scoped>\n    .dataframe tbody tr th:only-of-type {\n        vertical-align: middle;\n    }\n\n    .dataframe tbody tr th {\n        vertical-align: top;\n    }\n\n    .dataframe thead th {\n        text-align: right;\n    }\n</style>\n<table border=\"1\" class=\"dataframe\">\n  <thead>\n    <tr style=\"text-align: right;\">\n      <th></th>\n      <th>car_ID</th>\n      <th>symboling</th>\n      <th>CarName</th>\n      <th>fueltype</th>\n      <th>aspiration</th>\n      <th>doornumber</th>\n      <th>carbody</th>\n      <th>drivewheel</th>\n      <th>enginelocation</th>\n      <th>wheelbase</th>\n      <th>...</th>\n      <th>enginesize</th>\n      <th>fuelsystem</th>\n      <th>boreratio</th>\n      <th>stroke</th>\n      <th>compressionratio</th>\n      <th>horsepower</th>\n      <th>peakrpm</th>\n      <th>citympg</th>\n      <th>highwaympg</th>\n      <th>price</th>\n    </tr>\n  </thead>\n  <tbody>\n    <tr>\n      <th>0</th>\n      <td>1</td>\n      <td>3</td>\n      <td>alfa-romero giulia</td>\n      <td>gas</td>\n      <td>std</td>\n      <td>two</td>\n      <td>convertible</td>\n      <td>rwd</td>\n      <td>front</td>\n      <td>88.6</td>\n      <td>...</td>\n      <td>130</td>\n      <td>mpfi</td>\n      <td>3.47</td>\n      <td>2.68</td>\n      <td>9.0</td>\n      <td>111</td>\n      <td>5000</td>\n      <td>21</td>\n      <td>27</td>\n      <td>13495.0</td>\n    </tr>\n    <tr>\n      <th>1</th>\n      <td>2</td>\n      <td>3</td>\n      <td>alfa-romero stelvio</td>\n      <td>gas</td>\n      <td>std</td>\n      <td>two</td>\n      <td>convertible</td>\n      <td>rwd</td>\n      <td>front</td>\n      <td>88.6</td>\n      <td>...</td>\n      <td>130</td>\n      <td>mpfi</td>\n      <td>3.47</td>\n      <td>2.68</td>\n      <td>9.0</td>\n      <td>111</td>\n      <td>5000</td>\n      <td>21</td>\n      <td>27</td>\n      <td>16500.0</td>\n    </tr>\n    <tr>\n      <th>2</th>\n      <td>3</td>\n      <td>1</td>\n      <td>alfa-romero Quadrifoglio</td>\n      <td>gas</td>\n      <td>std</td>\n      <td>two</td>\n      <td>hatchback</td>\n      <td>rwd</td>\n      <td>front</td>\n      <td>94.5</td>\n      <td>...</td>\n      <td>152</td>\n      <td>mpfi</td>\n      <td>2.68</td>\n      <td>3.47</td>\n      <td>9.0</td>\n      <td>154</td>\n      <td>5000</td>\n      <td>19</td>\n      <td>26</td>\n      <td>16500.0</td>\n    </tr>\n    <tr>\n      <th>3</th>\n      <td>4</td>\n      <td>2</td>\n      <td>audi 100 ls</td>\n      <td>gas</td>\n      <td>std</td>\n      <td>four</td>\n      <td>sedan</td>\n      <td>fwd</td>\n      <td>front</td>\n      <td>99.8</td>\n      <td>...</td>\n      <td>109</td>\n      <td>mpfi</td>\n      <td>3.19</td>\n      <td>3.40</td>\n      <td>10.0</td>\n      <td>102</td>\n      <td>5500</td>\n      <td>24</td>\n      <td>30</td>\n      <td>13950.0</td>\n    </tr>\n    <tr>\n      <th>4</th>\n      <td>5</td>\n      <td>2</td>\n      <td>audi 100ls</td>\n      <td>gas</td>\n      <td>std</td>\n      <td>four</td>\n      <td>sedan</td>\n      <td>4wd</td>\n      <td>front</td>\n      <td>99.4</td>\n      <td>...</td>\n      <td>136</td>\n      <td>mpfi</td>\n      <td>3.19</td>\n      <td>3.40</td>\n      <td>8.0</td>\n      <td>115</td>\n      <td>5500</td>\n      <td>18</td>\n      <td>22</td>\n      <td>17450.0</td>\n    </tr>\n  </tbody>\n</table>\n<p>5 rows × 26 columns</p>\n</div>"
     },
     "metadata": {},
     "execution_count": 3
    }
   ],
   "source": [
    "dataset = pd.read_csv('CarPrice_Assignment.csv')\n",
    "dataset.head()"
   ]
  },
  {
   "cell_type": "code",
   "execution_count": 4,
   "metadata": {},
   "outputs": [],
   "source": [
    "dataset.drop(['CarName','car_ID'],axis=1,inplace=True)"
   ]
  },
  {
   "cell_type": "code",
   "execution_count": 6,
   "metadata": {},
   "outputs": [],
   "source": [
    "from sklearn.preprocessing import LabelEncoder\n",
    "labelencoder = LabelEncoder()\n",
    "dataset['fueltype']=labelencoder.fit_transform(dataset['fueltype'])\n",
    "dataset['aspiration']=labelencoder.fit_transform(dataset['aspiration'])\n",
    "dataset['doornumber'] = dataset['doornumber'].map({'two':2,'four':4})\n",
    "dataset['carbody']=labelencoder.fit_transform(dataset['carbody'])\n",
    "dataset['drivewheel']=labelencoder.fit_transform(dataset['drivewheel'])\n",
    "dataset['enginelocation']=labelencoder.fit_transform(dataset['enginelocation'])\n",
    "dataset['enginetype']=labelencoder.fit_transform(dataset['enginetype'])\n",
    "dataset['fuelsystem']=labelencoder.fit_transform(dataset['fuelsystem'])\n",
    "dataset['cylindernumber'] = labelencoder.fit_transform(dataset['cylindernumber'])\n"
   ]
  },
  {
   "cell_type": "code",
   "execution_count": 7,
   "metadata": {},
   "outputs": [
    {
     "output_type": "stream",
     "name": "stdout",
     "text": [
      "(103, 23)\n",
      "(63, 23)\n",
      "C:\\Users\\Fujitsu\\AppData\\Local\\Programs\\Python\\Python38\\lib\\site-packages\\pandas\\core\\frame.py:4305: SettingWithCopyWarning: \n",
      "A value is trying to be set on a copy of a slice from a DataFrame\n",
      "\n",
      "See the caveats in the documentation: https://pandas.pydata.org/pandas-docs/stable/user_guide/indexing.html#returning-a-view-versus-a-copy\n",
      "  return super().drop(\n"
     ]
    }
   ],
   "source": [
    "train_data= dataset.iloc[:103]\n",
    "train_targets=dataset.price.iloc[:103]\n",
    "train_targets=np.asarray(train_targets)\n",
    "train_data.drop('price',axis=1,inplace=True)\n",
    "\n",
    "\n",
    "print(train_data.shape)\n",
    "\n",
    "test_data=dataset.iloc[103:166]\n",
    "test_targets=dataset.price.iloc[103:166]\n",
    "test_targets=np.asarray(test_targets)\n",
    "test_data.drop('price',axis=1,inplace=True)\n",
    "\n",
    "\n",
    "print(test_data.shape)"
   ]
  },
  {
   "cell_type": "code",
   "execution_count": 8,
   "metadata": {},
   "outputs": [],
   "source": [
    "val_data=dataset.iloc[166:]\n",
    "val_data.drop('price',axis=1,inplace=True)\n",
    "\n",
    "val_targets=dataset.price.iloc[166:]\n",
    "val_targets=np.asarray(val_targets)"
   ]
  },
  {
   "cell_type": "code",
   "execution_count": 15,
   "metadata": {
    "tags": []
   },
   "outputs": [
    {
     "output_type": "stream",
     "name": "stdout",
     "text": [
      "Epoch 1/100\n",
      "7/7 [==============================] - 1s 48ms/step - loss: 317899780.0000 - mae: 14756.8931 - val_loss: 199517552.0000 - val_mae: 13461.0322\n",
      "Epoch 2/100\n",
      "7/7 [==============================] - 0s 12ms/step - loss: 299158886.0000 - mae: 14229.1113 - val_loss: 197490576.0000 - val_mae: 13386.5029\n",
      "Epoch 3/100\n",
      "7/7 [==============================] - 0s 11ms/step - loss: 242775385.0000 - mae: 12990.8239 - val_loss: 195984928.0000 - val_mae: 13330.8018\n",
      "Epoch 4/100\n",
      "7/7 [==============================] - 0s 12ms/step - loss: 231433645.0000 - mae: 12586.2693 - val_loss: 194580128.0000 - val_mae: 13278.8955\n",
      "Epoch 5/100\n",
      "7/7 [==============================] - 0s 11ms/step - loss: 284899794.0000 - mae: 14120.4225 - val_loss: 193370896.0000 - val_mae: 13234.5996\n",
      "Epoch 6/100\n",
      "7/7 [==============================] - 0s 11ms/step - loss: 255595780.0000 - mae: 13383.6274 - val_loss: 192381248.0000 - val_mae: 13200.0322\n",
      "Epoch 7/100\n",
      "7/7 [==============================] - 0s 11ms/step - loss: 281314068.0000 - mae: 13848.5121 - val_loss: 191512080.0000 - val_mae: 13170.7832\n",
      "Epoch 8/100\n",
      "7/7 [==============================] - 0s 12ms/step - loss: 282409584.0000 - mae: 14128.8195 - val_loss: 191093632.0000 - val_mae: 13157.4180\n",
      "Epoch 9/100\n",
      "7/7 [==============================] - 0s 11ms/step - loss: 243262770.0000 - mae: 13221.2982 - val_loss: 190945392.0000 - val_mae: 13152.0830\n",
      "Epoch 10/100\n",
      "7/7 [==============================] - 0s 13ms/step - loss: 271179840.0000 - mae: 13491.4281 - val_loss: 190778944.0000 - val_mae: 13145.6562\n",
      "Epoch 11/100\n",
      "7/7 [==============================] - 0s 11ms/step - loss: 288383596.0000 - mae: 13977.8400 - val_loss: 190617488.0000 - val_mae: 13139.4346\n",
      "Epoch 12/100\n",
      "7/7 [==============================] - 0s 11ms/step - loss: 273724798.0000 - mae: 13859.6177 - val_loss: 190431760.0000 - val_mae: 13132.2920\n",
      "Epoch 13/100\n",
      "7/7 [==============================] - 0s 11ms/step - loss: 260383746.0000 - mae: 13661.4747 - val_loss: 190220688.0000 - val_mae: 13124.1807\n",
      "Epoch 14/100\n",
      "7/7 [==============================] - 0s 12ms/step - loss: 316423684.0000 - mae: 14522.6700 - val_loss: 189952400.0000 - val_mae: 13113.9014\n",
      "Epoch 15/100\n",
      "7/7 [==============================] - 0s 13ms/step - loss: 256810316.0000 - mae: 13167.2216 - val_loss: 189683888.0000 - val_mae: 13103.6309\n",
      "Epoch 16/100\n",
      "7/7 [==============================] - 0s 12ms/step - loss: 293879030.0000 - mae: 14239.2140 - val_loss: 189393632.0000 - val_mae: 13092.5303\n",
      "Epoch 17/100\n",
      "7/7 [==============================] - 0s 11ms/step - loss: 275059468.0000 - mae: 13736.0350 - val_loss: 188998896.0000 - val_mae: 13077.4395\n",
      "Epoch 18/100\n",
      "7/7 [==============================] - 0s 13ms/step - loss: 275077376.0000 - mae: 13332.5592 - val_loss: 188617520.0000 - val_mae: 13062.8555\n",
      "Epoch 19/100\n",
      "7/7 [==============================] - 0s 12ms/step - loss: 249136692.0000 - mae: 12997.0568 - val_loss: 188200064.0000 - val_mae: 13046.8496\n",
      "Epoch 20/100\n",
      "7/7 [==============================] - 0s 11ms/step - loss: 252580002.0000 - mae: 13031.7185 - val_loss: 187847168.0000 - val_mae: 13033.3076\n",
      "Epoch 21/100\n",
      "7/7 [==============================] - 0s 12ms/step - loss: 248377926.0000 - mae: 12843.1277 - val_loss: 187370016.0000 - val_mae: 13015.8857\n",
      "Epoch 22/100\n",
      "7/7 [==============================] - 0s 58ms/step - loss: 204614967.0000 - mae: 11710.0043 - val_loss: 183426160.0000 - val_mae: 12866.2021\n",
      "Epoch 23/100\n",
      "7/7 [==============================] - 0s 14ms/step - loss: 291091958.0000 - mae: 13991.7784 - val_loss: 180821408.0000 - val_mae: 12765.5850\n",
      "Epoch 24/100\n",
      "7/7 [==============================] - 0s 14ms/step - loss: 225678610.0000 - mae: 12186.1893 - val_loss: 177618560.0000 - val_mae: 12640.8037\n",
      "Epoch 25/100\n",
      "7/7 [==============================] - 0s 13ms/step - loss: 271013298.0000 - mae: 13133.2893 - val_loss: 174834288.0000 - val_mae: 12531.2021\n",
      "Epoch 26/100\n",
      "7/7 [==============================] - 0s 12ms/step - loss: 251171788.0000 - mae: 12638.1117 - val_loss: 172463072.0000 - val_mae: 12437.2676\n",
      "Epoch 27/100\n",
      "7/7 [==============================] - 0s 11ms/step - loss: 217951080.0000 - mae: 11985.0006 - val_loss: 169522080.0000 - val_mae: 12320.2178\n",
      "Epoch 28/100\n",
      "7/7 [==============================] - 0s 12ms/step - loss: 239408652.0000 - mae: 12389.5736 - val_loss: 166816512.0000 - val_mae: 12211.3906\n",
      "Epoch 29/100\n",
      "7/7 [==============================] - 0s 13ms/step - loss: 212462012.0000 - mae: 11927.9968 - val_loss: 164133392.0000 - val_mae: 12103.0752\n",
      "Epoch 30/100\n",
      "7/7 [==============================] - 0s 18ms/step - loss: 245132990.0000 - mae: 12474.9595 - val_loss: 161070352.0000 - val_mae: 11978.3467\n",
      "Epoch 31/100\n",
      "7/7 [==============================] - 0s 12ms/step - loss: 252596006.0000 - mae: 12993.2625 - val_loss: 158396032.0000 - val_mae: 11868.0479\n",
      "Epoch 32/100\n",
      "7/7 [==============================] - 0s 11ms/step - loss: 274976422.0000 - mae: 13241.8706 - val_loss: 156267120.0000 - val_mae: 11779.3955\n",
      "Epoch 33/100\n",
      "7/7 [==============================] - 0s 13ms/step - loss: 203691652.0000 - mae: 11499.6847 - val_loss: 153686720.0000 - val_mae: 11670.4482\n",
      "Epoch 34/100\n",
      "7/7 [==============================] - 0s 10ms/step - loss: 274823208.0000 - mae: 12693.7302 - val_loss: 151741920.0000 - val_mae: 11587.8232\n",
      "Epoch 35/100\n",
      "7/7 [==============================] - 0s 12ms/step - loss: 216258298.0000 - mae: 11535.6938 - val_loss: 148613152.0000 - val_mae: 11453.5156\n",
      "Epoch 36/100\n",
      "7/7 [==============================] - 0s 11ms/step - loss: 259433068.0000 - mae: 12659.7791 - val_loss: 145975216.0000 - val_mae: 11338.8818\n",
      "Epoch 37/100\n",
      "7/7 [==============================] - 0s 11ms/step - loss: 194410084.0000 - mae: 10906.6328 - val_loss: 142572752.0000 - val_mae: 11189.3535\n",
      "Epoch 38/100\n",
      "7/7 [==============================] - 0s 13ms/step - loss: 244927586.0000 - mae: 12364.7209 - val_loss: 139832832.0000 - val_mae: 11067.8867\n",
      "Epoch 39/100\n",
      "7/7 [==============================] - 0s 11ms/step - loss: 203683488.0000 - mae: 10887.1108 - val_loss: 136925152.0000 - val_mae: 10937.0801\n",
      "Epoch 40/100\n",
      "7/7 [==============================] - 0s 11ms/step - loss: 227552358.0000 - mae: 11314.7935 - val_loss: 133975856.0000 - val_mae: 10802.7959\n",
      "Epoch 41/100\n",
      "7/7 [==============================] - 0s 12ms/step - loss: 229333306.0000 - mae: 11501.7853 - val_loss: 130931648.0000 - val_mae: 10662.3330\n",
      "Epoch 42/100\n",
      "7/7 [==============================] - 0s 12ms/step - loss: 204058592.0000 - mae: 10918.3256 - val_loss: 127757472.0000 - val_mae: 10514.1006\n",
      "Epoch 43/100\n",
      "7/7 [==============================] - 0s 12ms/step - loss: 217076064.0000 - mae: 10780.5808 - val_loss: 124165368.0000 - val_mae: 10343.7549\n",
      "Epoch 44/100\n",
      "7/7 [==============================] - 0s 13ms/step - loss: 189962712.0000 - mae: 10583.6770 - val_loss: 120550896.0000 - val_mae: 10169.3730\n",
      "Epoch 45/100\n",
      "7/7 [==============================] - 0s 13ms/step - loss: 175546436.0000 - mae: 10099.7579 - val_loss: 116834488.0000 - val_mae: 9987.1895\n",
      "Epoch 46/100\n",
      "7/7 [==============================] - 0s 13ms/step - loss: 197217646.0000 - mae: 10830.5341 - val_loss: 113500304.0000 - val_mae: 9820.7246\n",
      "Epoch 47/100\n",
      "7/7 [==============================] - 0s 11ms/step - loss: 187354674.0000 - mae: 10272.6364 - val_loss: 110150968.0000 - val_mae: 9650.8311\n",
      "Epoch 48/100\n",
      "7/7 [==============================] - 0s 11ms/step - loss: 163351742.0000 - mae: 8936.0479 - val_loss: 105829320.0000 - val_mae: 9427.2031\n",
      "Epoch 49/100\n",
      "7/7 [==============================] - 0s 13ms/step - loss: 214600070.0000 - mae: 10509.2974 - val_loss: 102794424.0000 - val_mae: 9266.7656\n",
      "Epoch 50/100\n",
      "7/7 [==============================] - 0s 12ms/step - loss: 249981048.0000 - mae: 11435.4275 - val_loss: 99752392.0000 - val_mae: 9103.1357\n",
      "Epoch 51/100\n",
      "7/7 [==============================] - 0s 12ms/step - loss: 208950222.0000 - mae: 10423.9084 - val_loss: 95624248.0000 - val_mae: 8876.6553\n",
      "Epoch 52/100\n",
      "7/7 [==============================] - 0s 11ms/step - loss: 190095442.0000 - mae: 10131.8771 - val_loss: 92374592.0000 - val_mae: 8693.9902\n",
      "Epoch 53/100\n",
      "7/7 [==============================] - 0s 11ms/step - loss: 163874001.0000 - mae: 9199.2057 - val_loss: 88491072.0000 - val_mae: 8470.9600\n",
      "Epoch 54/100\n",
      "7/7 [==============================] - 0s 11ms/step - loss: 156396556.0000 - mae: 8846.4561 - val_loss: 84857512.0000 - val_mae: 8256.7686\n",
      "Epoch 55/100\n",
      "7/7 [==============================] - 0s 12ms/step - loss: 191300978.0000 - mae: 10021.6840 - val_loss: 80988456.0000 - val_mae: 8022.5190\n",
      "Epoch 56/100\n",
      "7/7 [==============================] - 0s 11ms/step - loss: 198786064.0000 - mae: 10029.3901 - val_loss: 76928024.0000 - val_mae: 7769.4150\n",
      "Epoch 57/100\n",
      "7/7 [==============================] - 0s 11ms/step - loss: 157937459.0000 - mae: 8465.6773 - val_loss: 73477408.0000 - val_mae: 7547.3301\n",
      "Epoch 58/100\n",
      "7/7 [==============================] - 0s 11ms/step - loss: 174934662.0000 - mae: 9111.3203 - val_loss: 70597016.0000 - val_mae: 7357.1099\n",
      "Epoch 59/100\n",
      "7/7 [==============================] - 0s 11ms/step - loss: 165020271.5000 - mae: 8863.6001 - val_loss: 67378560.0000 - val_mae: 7138.8252\n",
      "Epoch 60/100\n",
      "7/7 [==============================] - 0s 13ms/step - loss: 136933834.0000 - mae: 8547.9355 - val_loss: 63857580.0000 - val_mae: 6891.9785\n",
      "Epoch 61/100\n",
      "7/7 [==============================] - 0s 11ms/step - loss: 157677164.0000 - mae: 8977.7281 - val_loss: 59668144.0000 - val_mae: 6586.5786\n",
      "Epoch 62/100\n",
      "7/7 [==============================] - 0s 11ms/step - loss: 148551412.0000 - mae: 8691.5912 - val_loss: 56809812.0000 - val_mae: 6370.1685\n",
      "Epoch 63/100\n",
      "7/7 [==============================] - 0s 12ms/step - loss: 144669488.0000 - mae: 9048.2585 - val_loss: 54543500.0000 - val_mae: 6193.1484\n",
      "Epoch 64/100\n",
      "7/7 [==============================] - 0s 12ms/step - loss: 141575268.2500 - mae: 7915.7513 - val_loss: 51166660.0000 - val_mae: 5919.3823\n",
      "Epoch 65/100\n",
      "7/7 [==============================] - 0s 12ms/step - loss: 151640121.0000 - mae: 9111.4667 - val_loss: 48457352.0000 - val_mae: 5690.4253\n",
      "Epoch 66/100\n",
      "7/7 [==============================] - 0s 12ms/step - loss: 166257358.0000 - mae: 9071.3313 - val_loss: 46636188.0000 - val_mae: 5531.5371\n",
      "Epoch 67/100\n",
      "7/7 [==============================] - 0s 11ms/step - loss: 175405644.0000 - mae: 9528.5201 - val_loss: 44382040.0000 - val_mae: 5330.0874\n",
      "Epoch 68/100\n",
      "7/7 [==============================] - 0s 13ms/step - loss: 162100827.0000 - mae: 8991.3365 - val_loss: 42453372.0000 - val_mae: 5163.6484\n",
      "Epoch 69/100\n",
      "7/7 [==============================] - 0s 11ms/step - loss: 122796547.0000 - mae: 7885.7158 - val_loss: 39206228.0000 - val_mae: 4888.5898\n",
      "Epoch 70/100\n",
      "7/7 [==============================] - 0s 11ms/step - loss: 161942740.0000 - mae: 9258.9100 - val_loss: 37846404.0000 - val_mae: 4775.6748\n",
      "Epoch 71/100\n",
      "7/7 [==============================] - 0s 11ms/step - loss: 142022097.0000 - mae: 9048.8645 - val_loss: 36786400.0000 - val_mae: 4693.3428\n",
      "Epoch 72/100\n",
      "7/7 [==============================] - 0s 11ms/step - loss: 157377708.0000 - mae: 8614.9661 - val_loss: 35825136.0000 - val_mae: 4619.1611\n",
      "Epoch 73/100\n",
      "7/7 [==============================] - 0s 12ms/step - loss: 156522682.0000 - mae: 8627.8547 - val_loss: 34408636.0000 - val_mae: 4510.6187\n",
      "Epoch 74/100\n",
      "7/7 [==============================] - 0s 12ms/step - loss: 143409974.0000 - mae: 8530.5284 - val_loss: 33013484.0000 - val_mae: 4406.4365\n",
      "Epoch 75/100\n",
      "7/7 [==============================] - 0s 11ms/step - loss: 133466797.0000 - mae: 8344.4061 - val_loss: 31352004.0000 - val_mae: 4278.5273\n",
      "Epoch 76/100\n",
      "7/7 [==============================] - 0s 19ms/step - loss: 136570354.0000 - mae: 8110.9866 - val_loss: 29716752.0000 - val_mae: 4146.2153\n",
      "Epoch 77/100\n",
      "7/7 [==============================] - 0s 12ms/step - loss: 136718128.0000 - mae: 8918.1992 - val_loss: 27998450.0000 - val_mae: 4002.3994\n",
      "Epoch 78/100\n",
      "7/7 [==============================] - 0s 12ms/step - loss: 126717148.0000 - mae: 8062.6994 - val_loss: 27590610.0000 - val_mae: 3971.6770\n",
      "Epoch 79/100\n",
      "7/7 [==============================] - 0s 33ms/step - loss: 120402575.0000 - mae: 8061.8572 - val_loss: 26323954.0000 - val_mae: 3874.0537\n",
      "Epoch 80/100\n",
      "7/7 [==============================] - 0s 12ms/step - loss: 142486044.0000 - mae: 8900.7257 - val_loss: 26186792.0000 - val_mae: 3862.5881\n",
      "Epoch 81/100\n",
      "7/7 [==============================] - 0s 13ms/step - loss: 141637353.0000 - mae: 8619.8041 - val_loss: 25659436.0000 - val_mae: 3820.0457\n",
      "Epoch 82/100\n",
      "7/7 [==============================] - 0s 12ms/step - loss: 137959185.0000 - mae: 8695.6271 - val_loss: 25091932.0000 - val_mae: 3773.0295\n",
      "Epoch 83/100\n",
      "7/7 [==============================] - 0s 12ms/step - loss: 122583436.0000 - mae: 8365.9011 - val_loss: 25080478.0000 - val_mae: 3771.7356\n",
      "Epoch 84/100\n",
      "7/7 [==============================] - 0s 12ms/step - loss: 154495904.0000 - mae: 9378.8654 - val_loss: 25162328.0000 - val_mae: 3778.2371\n",
      "Epoch 85/100\n",
      "7/7 [==============================] - 0s 11ms/step - loss: 145282413.0000 - mae: 8978.9121 - val_loss: 24628070.0000 - val_mae: 3733.0552\n",
      "Epoch 86/100\n",
      "7/7 [==============================] - 0s 11ms/step - loss: 187423448.0000 - mae: 9564.1344 - val_loss: 25651896.0000 - val_mae: 3817.9480\n",
      "Epoch 87/100\n",
      "7/7 [==============================] - 0s 12ms/step - loss: 120697014.0000 - mae: 7733.7346 - val_loss: 25289390.0000 - val_mae: 3788.0393\n",
      "Epoch 88/100\n",
      "7/7 [==============================] - 0s 12ms/step - loss: 134392594.0000 - mae: 8101.7518 - val_loss: 23956126.0000 - val_mae: 3679.4456\n",
      "Epoch 89/100\n",
      "7/7 [==============================] - 0s 11ms/step - loss: 96013347.5000 - mae: 7448.8798 - val_loss: 23578228.0000 - val_mae: 3648.4551\n",
      "Epoch 90/100\n",
      "7/7 [==============================] - 0s 11ms/step - loss: 122016980.0000 - mae: 8618.0787 - val_loss: 24230270.0000 - val_mae: 3700.3237\n",
      "Epoch 91/100\n",
      "7/7 [==============================] - 0s 11ms/step - loss: 149593991.0000 - mae: 8563.4537 - val_loss: 23777032.0000 - val_mae: 3664.0305\n",
      "Epoch 92/100\n",
      "7/7 [==============================] - 0s 11ms/step - loss: 130769588.0000 - mae: 8238.0007 - val_loss: 23095086.0000 - val_mae: 3607.5642\n",
      "Epoch 93/100\n",
      "7/7 [==============================] - 0s 12ms/step - loss: 96579113.0000 - mae: 7168.2502 - val_loss: 21531556.0000 - val_mae: 3479.5842\n",
      "Epoch 94/100\n",
      "7/7 [==============================] - 0s 11ms/step - loss: 96714131.5000 - mae: 7492.0842 - val_loss: 21346150.0000 - val_mae: 3465.0339\n",
      "Epoch 95/100\n",
      "7/7 [==============================] - 0s 12ms/step - loss: 125713833.0000 - mae: 8153.7576 - val_loss: 21673072.0000 - val_mae: 3489.2925\n",
      "Epoch 96/100\n",
      "7/7 [==============================] - 0s 14ms/step - loss: 136726445.0000 - mae: 8538.6616 - val_loss: 21309660.0000 - val_mae: 3461.6418\n",
      "Epoch 97/100\n",
      "7/7 [==============================] - 0s 11ms/step - loss: 139880630.0000 - mae: 8619.3758 - val_loss: 21383782.0000 - val_mae: 3466.9871\n",
      "Epoch 98/100\n",
      "7/7 [==============================] - 0s 13ms/step - loss: 218668310.0000 - mae: 10243.6927 - val_loss: 22730884.0000 - val_mae: 3575.1863\n",
      "Epoch 99/100\n",
      "7/7 [==============================] - 0s 12ms/step - loss: 145590026.0000 - mae: 8459.2887 - val_loss: 21667110.0000 - val_mae: 3487.5681\n",
      "Epoch 100/100\n",
      "7/7 [==============================] - 0s 12ms/step - loss: 108527932.0000 - mae: 7640.6840 - val_loss: 21651194.0000 - val_mae: 3486.1956\n"
     ]
    }
   ],
   "source": [
    "model = models.Sequential()\n",
    "model.add(layers.Dense(10, activation='relu',input_shape=(train_data.iloc[1].shape)))\n",
    "model.add(layers.Dropout(0.5))\n",
    "\n",
    "#model.add(layers.Dropout(0.5))\n",
    "\n",
    "model.add(layers.Dense(5,kernel_regularizer=regularizers.l2(0.01),activation='relu'))\n",
    "\n",
    "model.add(layers.Dense(1))\n",
    "model.compile(optimizer='rmsprop', loss='mse', metrics=['mae'])\n",
    "his=model.fit(train_data,train_targets,epochs=100,batch_size=16,validation_data=(val_data,val_targets))"
   ]
  },
  {
   "cell_type": "code",
   "execution_count": 16,
   "metadata": {},
   "outputs": [
    {
     "output_type": "stream",
     "name": "stdout",
     "text": [
      "2/2 [==============================] - 0s 3ms/step - loss: 45140504.0000 - mae: 4473.7554\n"
     ]
    },
    {
     "output_type": "execute_result",
     "data": {
      "text/plain": [
       "[45140504.0, 4473.75537109375]"
      ]
     },
     "metadata": {},
     "execution_count": 16
    }
   ],
   "source": [
    "model.evaluate(test_data,test_targets)"
   ]
  },
  {
   "cell_type": "code",
   "execution_count": 17,
   "metadata": {},
   "outputs": [
    {
     "output_type": "execute_result",
     "data": {
      "text/plain": [
       "array([11266.508], dtype=float32)"
      ]
     },
     "metadata": {},
     "execution_count": 17
    }
   ],
   "source": [
    "pred = model.predict(test_data)\n",
    "pred[3]"
   ]
  }
 ],
 "metadata": {
  "kernelspec": {
   "name": "python382jvsc74a57bd0796a5f3ea0fd0200b0eb6589d246ae57b21d705b17540414461c2808eddeb672",
   "display_name": "Python 3.8.2 64-bit"
  },
  "language_info": {
   "codemirror_mode": {
    "name": "ipython",
    "version": 3
   },
   "file_extension": ".py",
   "mimetype": "text/x-python",
   "name": "python",
   "nbconvert_exporter": "python",
   "pygments_lexer": "ipython3",
   "version": "3.8.2-final"
  },
  "metadata": {
   "interpreter": {
    "hash": "796a5f3ea0fd0200b0eb6589d246ae57b21d705b17540414461c2808eddeb672"
   }
  }
 },
 "nbformat": 4,
 "nbformat_minor": 2
}