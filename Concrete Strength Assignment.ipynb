{
 "cells": [
  {
   "cell_type": "markdown",
   "metadata": {},
   "source": [
    "# Assignment: Compresive Strength Concrete Problem\n",
    "\n",
    "\n",
    "### Abstract: \n",
    "\n",
    "Concrete is the most important material in civil engineering. The concrete compressive strength (concrete strength to bear the load) is a highly nonlinear function of age and ingredients.  <br><br>\n",
    "\n",
    "<table border=\"1\"  cellpadding=\"6\" bordercolor=\"red\">\n",
    "\t<tbody>\n",
    "        <tr>\n",
    "\t\t<td bgcolor=\"#DDEEFF\"><p class=\"normal\"><b>Data Set Characteristics:&nbsp;&nbsp;</b></p></td>\n",
    "\t\t<td><p class=\"normal\">Multivariate</p></td>\n",
    "\t\t<td bgcolor=\"#DDEEFF\"><p class=\"normal\"><b>Number of Instances:</b></p></td>\n",
    "\t\t<td><p class=\"normal\">1030</p></td>\n",
    "\t\t<td bgcolor=\"#DDEEFF\"><p class=\"normal\"><b>Area:</b></p></td>\n",
    "\t\t<td><p class=\"normal\">Physical</p></td>\n",
    "        </tr>\n",
    "     </tbody>\n",
    "    </table>\n",
    "<table border=\"1\" cellpadding=\"6\">\n",
    "    <tbody>\n",
    "        <tr>\n",
    "            <td bgcolor=\"#DDEEFF\"><p class=\"normal\"><b>Attribute Characteristics:</b></p></td>\n",
    "            <td><p class=\"normal\">Real</p></td>\n",
    "            <td bgcolor=\"#DDEEFF\"><p class=\"normal\"><b>Number of Attributes:</b></p></td>\n",
    "            <td><p class=\"normal\">9</p></td>\n",
    "            <td bgcolor=\"#DDEEFF\"><p class=\"normal\"><b>Date Donated</b></p></td>\n",
    "            <td><p class=\"normal\">2007-08-03</p></td>\n",
    "        </tr>\n",
    "     </tbody>\n",
    "    </table>\n",
    "<table border=\"1\" cellpadding=\"6\">\t\n",
    "    <tbody>\n",
    "    <tr>\n",
    "\t\t<td bgcolor=\"#DDEEFF\"><p class=\"normal\"><b>Associated Tasks:</b></p></td>\n",
    "\t\t<td><p class=\"normal\">Regression</p></td>\n",
    "\t\t<td bgcolor=\"#DDEEFF\"><p class=\"normal\"><b>Missing Values?</b></p></td>\n",
    "\t\t<td><p class=\"normal\">N/A</p></td>\n",
    "\t\t<td bgcolor=\"#DDEEFF\"><p class=\"normal\"><b>Number of Web Hits:</b></p></td>\n",
    "\t\t<td><p class=\"normal\">231464</p></td>\n",
    "\t</tr>\n",
    "    </tbody>\n",
    "    </table>"
   ]
  },
  {
   "cell_type": "markdown",
   "metadata": {},
   "source": [
    "###  Description:\n",
    "| Features Name | Data Type | Measurement | Description |\n",
    "| -- | -- | -- | -- |\n",
    "Cement (component 1) | quantitative | kg in a m3 mixture | Input Variable\n",
    "Blast Furnace Slag (component 2) | quantitative | kg in a m3 mixture | Input Variable\n",
    "Fly Ash (component 3) | quantitative | kg in a m3 mixture | Input Variable\n",
    "Water (component 4) | quantitative | kg in a m3 mixture | Input Variable\n",
    "Superplasticizer (component 5) | quantitative | kg in a m3 mixture | Input Variable\n",
    "Coarse Aggregate (component 6) | quantitative | kg in a m3 mixture | Input Variable\n",
    "Fine Aggregate (component 7) | quantitative | kg in a m3 mixture | Input Variable\n",
    "Age | quantitative | Day (1~365) | Input Variable\n",
    "Concrete compressive strength | quantitative | MPa | Output Variable\n",
    "\n",
    "### WORKFLOW :\n",
    "- Load Data\n",
    "- Check Missing Values ( If Exist ; Fill each record with mean of its feature )\n",
    "- Standardized the Input Variables. **Hint**: Centeralized the data\n",
    "- Split into 50% Training(Samples,Labels) , 30% Test(Samples,Labels) and 20% Validation Data(Samples,Labels).\n",
    "- Model : input Layer (No. of features ), 3 hidden layers including 10,8,6 unit & Output Layer with activation function relu/tanh (check by experiment).\n",
    "- Compilation Step (Note : Its a Regression problem , select loss , metrics according to it)\n",
    "- Train the Model with Epochs (100) and validate it\n",
    "- If the model gets overfit tune your model by changing the units , No. of layers , activation function , epochs , add dropout layer or add Regularizer according to the need .\n",
    "- Evaluation Step\n",
    "- Prediction\n"
   ]
  },
  {
   "cell_type": "markdown",
   "metadata": {},
   "source": [
    "# Load Data:\n",
    "[Click Here to Download DataSet](https://github.com/ramsha275/ML_Datasets/blob/main/compresive_strength_concrete.csv)"
   ]
  },
  {
   "cell_type": "code",
   "execution_count": 1,
   "metadata": {},
   "outputs": [],
   "source": [
    "import numpy as np\n",
    "import pandas as pd\n",
    "from tensorflow.keras import models, layers\n",
    "from sklearn.model_selection import train_test_split"
   ]
  },
  {
   "cell_type": "code",
   "execution_count": 30,
   "metadata": {},
   "outputs": [
    {
     "output_type": "execute_result",
     "data": {
      "text/plain": [
       "   Cement (component 1)(kg in a m^3 mixture)  ...  Concrete compressive strength(MPa, megapascals) \n",
       "0                                      540.0  ...                                             79.99\n",
       "1                                      540.0  ...                                             61.89\n",
       "2                                      332.5  ...                                             40.27\n",
       "3                                      332.5  ...                                             41.05\n",
       "4                                      198.6  ...                                             44.30\n",
       "\n",
       "[5 rows x 9 columns]"
      ],
      "text/html": "<div>\n<style scoped>\n    .dataframe tbody tr th:only-of-type {\n        vertical-align: middle;\n    }\n\n    .dataframe tbody tr th {\n        vertical-align: top;\n    }\n\n    .dataframe thead th {\n        text-align: right;\n    }\n</style>\n<table border=\"1\" class=\"dataframe\">\n  <thead>\n    <tr style=\"text-align: right;\">\n      <th></th>\n      <th>Cement (component 1)(kg in a m^3 mixture)</th>\n      <th>Blast Furnace Slag (component 2)(kg in a m^3 mixture)</th>\n      <th>Fly Ash (component 3)(kg in a m^3 mixture)</th>\n      <th>Water  (component 4)(kg in a m^3 mixture)</th>\n      <th>Superplasticizer (component 5)(kg in a m^3 mixture)</th>\n      <th>Coarse Aggregate  (component 6)(kg in a m^3 mixture)</th>\n      <th>Fine Aggregate (component 7)(kg in a m^3 mixture)</th>\n      <th>Age (day)</th>\n      <th>Concrete compressive strength(MPa, megapascals)</th>\n    </tr>\n  </thead>\n  <tbody>\n    <tr>\n      <th>0</th>\n      <td>540.0</td>\n      <td>0.0</td>\n      <td>0.0</td>\n      <td>162.0</td>\n      <td>2.5</td>\n      <td>1040.0</td>\n      <td>676.0</td>\n      <td>28</td>\n      <td>79.99</td>\n    </tr>\n    <tr>\n      <th>1</th>\n      <td>540.0</td>\n      <td>0.0</td>\n      <td>0.0</td>\n      <td>162.0</td>\n      <td>2.5</td>\n      <td>1055.0</td>\n      <td>676.0</td>\n      <td>28</td>\n      <td>61.89</td>\n    </tr>\n    <tr>\n      <th>2</th>\n      <td>332.5</td>\n      <td>142.5</td>\n      <td>0.0</td>\n      <td>228.0</td>\n      <td>0.0</td>\n      <td>932.0</td>\n      <td>594.0</td>\n      <td>270</td>\n      <td>40.27</td>\n    </tr>\n    <tr>\n      <th>3</th>\n      <td>332.5</td>\n      <td>142.5</td>\n      <td>0.0</td>\n      <td>228.0</td>\n      <td>0.0</td>\n      <td>932.0</td>\n      <td>594.0</td>\n      <td>365</td>\n      <td>41.05</td>\n    </tr>\n    <tr>\n      <th>4</th>\n      <td>198.6</td>\n      <td>132.4</td>\n      <td>0.0</td>\n      <td>192.0</td>\n      <td>0.0</td>\n      <td>978.4</td>\n      <td>825.5</td>\n      <td>360</td>\n      <td>44.30</td>\n    </tr>\n  </tbody>\n</table>\n</div>"
     },
     "metadata": {},
     "execution_count": 30
    }
   ],
   "source": [
    "dataset = pd.read_csv('ML_Datasets/compresive_strength_concrete.csv')\n",
    "dataset.head()"
   ]
  },
  {
   "cell_type": "code",
   "execution_count": 31,
   "metadata": {},
   "outputs": [
    {
     "output_type": "execute_result",
     "data": {
      "text/plain": [
       "Cement (component 1)(kg in a m^3 mixture)                0\n",
       "Blast Furnace Slag (component 2)(kg in a m^3 mixture)    0\n",
       "Fly Ash (component 3)(kg in a m^3 mixture)               0\n",
       "Water  (component 4)(kg in a m^3 mixture)                0\n",
       "Superplasticizer (component 5)(kg in a m^3 mixture)      0\n",
       "Coarse Aggregate  (component 6)(kg in a m^3 mixture)     0\n",
       "Fine Aggregate (component 7)(kg in a m^3 mixture)        0\n",
       "Age (day)                                                0\n",
       "Concrete compressive strength(MPa, megapascals)          0\n",
       "dtype: int64"
      ]
     },
     "metadata": {},
     "execution_count": 31
    }
   ],
   "source": [
    "dataset.isnull().sum()"
   ]
  },
  {
   "cell_type": "code",
   "execution_count": 32,
   "metadata": {},
   "outputs": [
    {
     "output_type": "stream",
     "name": "stdout",
     "text": [
      "<class 'pandas.core.frame.DataFrame'>\nRangeIndex: 1030 entries, 0 to 1029\nData columns (total 9 columns):\n #   Column                                                 Non-Null Count  Dtype  \n---  ------                                                 --------------  -----  \n 0   Cement (component 1)(kg in a m^3 mixture)              1030 non-null   float64\n 1   Blast Furnace Slag (component 2)(kg in a m^3 mixture)  1030 non-null   float64\n 2   Fly Ash (component 3)(kg in a m^3 mixture)             1030 non-null   float64\n 3   Water  (component 4)(kg in a m^3 mixture)              1030 non-null   float64\n 4   Superplasticizer (component 5)(kg in a m^3 mixture)    1030 non-null   float64\n 5   Coarse Aggregate  (component 6)(kg in a m^3 mixture)   1030 non-null   float64\n 6   Fine Aggregate (component 7)(kg in a m^3 mixture)      1030 non-null   float64\n 7   Age (day)                                              1030 non-null   int64  \n 8   Concrete compressive strength(MPa, megapascals)        1030 non-null   float64\ndtypes: float64(8), int64(1)\nmemory usage: 72.5 KB\n"
     ]
    }
   ],
   "source": [
    "dataset.info()"
   ]
  },
  {
   "cell_type": "code",
   "execution_count": 33,
   "metadata": {},
   "outputs": [
    {
     "output_type": "execute_result",
     "data": {
      "text/plain": [
       "(1030,)"
      ]
     },
     "metadata": {},
     "execution_count": 33
    }
   ],
   "source": [
    "data = dataset.iloc[:,:]\n",
    "targets = dataset.iloc[:,-1]\n",
    "targets.shape"
   ]
  },
  {
   "cell_type": "code",
   "execution_count": 66,
   "metadata": {},
   "outputs": [
    {
     "output_type": "execute_result",
     "data": {
      "text/plain": [
       "(515, 9)"
      ]
     },
     "metadata": {},
     "execution_count": 66
    }
   ],
   "source": [
    "train_data, test_data, train_labels, test_labels = train_test_split(data, targets, test_size=.5)\n",
    "test_data.shape"
   ]
  },
  {
   "cell_type": "code",
   "execution_count": 67,
   "metadata": {},
   "outputs": [],
   "source": [
    "test_data, validation_data, test_labels, validation_labels = train_test_split(test_data, test_labels, test_size=.4)\n",
    "#validation_data.shape"
   ]
  },
  {
   "cell_type": "code",
   "execution_count": 68,
   "metadata": {},
   "outputs": [
    {
     "output_type": "execute_result",
     "data": {
      "text/plain": [
       "(309, 9)"
      ]
     },
     "metadata": {},
     "execution_count": 68
    }
   ],
   "source": [
    "test_data.shape"
   ]
  },
  {
   "cell_type": "code",
   "execution_count": 69,
   "metadata": {},
   "outputs": [],
   "source": [
    "mean = train_data.mean(axis=0)\n",
    "train_data -= mean\n",
    "std = train_data.std(axis=0)\n",
    "train_data /= std\n",
    "test_data -= mean\n",
    "test_data/= std"
   ]
  },
  {
   "cell_type": "code",
   "execution_count": 76,
   "metadata": {},
   "outputs": [],
   "source": [
    "model = models.Sequential()\n",
    "model.add(layers.Dense(10,activation='relu',input_shape = (train_data.shape[1],)))\n",
    "model.add(layers.Dense(10,activation='relu'))\n",
    "model.add(layers.Dense(8,activation='relu'))\n",
    "model.add(layers.Dense(6,activation='relu'))\n",
    "model.add(layers.Dense(1,activation='relu'))"
   ]
  },
  {
   "cell_type": "code",
   "execution_count": 77,
   "metadata": {},
   "outputs": [],
   "source": [
    "model.compile(optimizer='rmsprop',loss='mse',metrics=['mae'])"
   ]
  },
  {
   "cell_type": "code",
   "execution_count": 79,
   "metadata": {},
   "outputs": [
    {
     "output_type": "stream",
     "name": "stdout",
     "text": [
      "Epoch 1/100\n",
      "17/17 [==============================] - 0s 14ms/step - loss: 4.9329 - mae: 1.7183 - val_loss: 71207288.0000 - val_mae: 8423.8428\n",
      "Epoch 2/100\n",
      "17/17 [==============================] - 0s 6ms/step - loss: 4.7343 - mae: 1.6986 - val_loss: 72164288.0000 - val_mae: 8480.8584\n",
      "Epoch 3/100\n",
      "17/17 [==============================] - 0s 6ms/step - loss: 4.6674 - mae: 1.6736 - val_loss: 67679000.0000 - val_mae: 8212.8271\n",
      "Epoch 4/100\n",
      "17/17 [==============================] - 0s 7ms/step - loss: 4.4722 - mae: 1.6459 - val_loss: 64190592.0000 - val_mae: 7998.2847\n",
      "Epoch 5/100\n",
      "17/17 [==============================] - 0s 7ms/step - loss: 4.3786 - mae: 1.6220 - val_loss: 68260168.0000 - val_mae: 8247.0908\n",
      "Epoch 6/100\n",
      "17/17 [==============================] - 0s 7ms/step - loss: 4.3090 - mae: 1.5967 - val_loss: 65443852.0000 - val_mae: 8075.2246\n",
      "Epoch 7/100\n",
      "17/17 [==============================] - 0s 6ms/step - loss: 4.1859 - mae: 1.5707 - val_loss: 61778148.0000 - val_mae: 7846.0669\n",
      "Epoch 8/100\n",
      "17/17 [==============================] - 0s 7ms/step - loss: 3.9980 - mae: 1.5386 - val_loss: 62619260.0000 - val_mae: 7899.1982\n",
      "Epoch 9/100\n",
      "17/17 [==============================] - 0s 6ms/step - loss: 3.9009 - mae: 1.5331 - val_loss: 64666564.0000 - val_mae: 8027.4893\n",
      "Epoch 10/100\n",
      "17/17 [==============================] - 0s 6ms/step - loss: 3.8412 - mae: 1.5092 - val_loss: 62823632.0000 - val_mae: 7911.9331\n",
      "Epoch 11/100\n",
      "17/17 [==============================] - 0s 7ms/step - loss: 3.7260 - mae: 1.4717 - val_loss: 61693096.0000 - val_mae: 7840.7373\n",
      "Epoch 12/100\n",
      "17/17 [==============================] - 0s 7ms/step - loss: 3.6441 - mae: 1.4546 - val_loss: 59439472.0000 - val_mae: 7695.2183\n",
      "Epoch 13/100\n",
      "17/17 [==============================] - 0s 7ms/step - loss: 3.5533 - mae: 1.4423 - val_loss: 56960700.0000 - val_mae: 7532.6558\n",
      "Epoch 14/100\n",
      "17/17 [==============================] - 0s 8ms/step - loss: 3.3859 - mae: 1.4136 - val_loss: 55600296.0000 - val_mae: 7442.2954\n",
      "Epoch 15/100\n",
      "17/17 [==============================] - 0s 7ms/step - loss: 3.3110 - mae: 1.3961 - val_loss: 51507048.0000 - val_mae: 7163.0239\n",
      "Epoch 16/100\n",
      "17/17 [==============================] - 0s 6ms/step - loss: 3.2684 - mae: 1.4105 - val_loss: 54119168.0000 - val_mae: 7342.1206\n",
      "Epoch 17/100\n",
      "17/17 [==============================] - 0s 6ms/step - loss: 3.1585 - mae: 1.3725 - val_loss: 54558760.0000 - val_mae: 7372.3823\n",
      "Epoch 18/100\n",
      "17/17 [==============================] - 0s 6ms/step - loss: 3.1539 - mae: 1.3509 - val_loss: 52396816.0000 - val_mae: 7224.8530\n",
      "Epoch 19/100\n",
      "17/17 [==============================] - 0s 6ms/step - loss: 3.0145 - mae: 1.3254 - val_loss: 50585716.0000 - val_mae: 7098.0376\n",
      "Epoch 20/100\n",
      "17/17 [==============================] - 0s 6ms/step - loss: 2.8986 - mae: 1.2972 - val_loss: 51488540.0000 - val_mae: 7161.2246\n",
      "Epoch 21/100\n",
      "17/17 [==============================] - 0s 7ms/step - loss: 2.8359 - mae: 1.2785 - val_loss: 46600176.0000 - val_mae: 6811.7285\n",
      "Epoch 22/100\n",
      "17/17 [==============================] - 0s 6ms/step - loss: 2.8376 - mae: 1.2946 - val_loss: 48632004.0000 - val_mae: 6959.6924\n",
      "Epoch 23/100\n",
      "17/17 [==============================] - 0s 7ms/step - loss: 2.6975 - mae: 1.2641 - val_loss: 45043136.0000 - val_mae: 6697.6152\n",
      "Epoch 24/100\n",
      "17/17 [==============================] - 0s 10ms/step - loss: 2.5746 - mae: 1.2343 - val_loss: 45976124.0000 - val_mae: 6766.3652\n",
      "Epoch 25/100\n",
      "17/17 [==============================] - 0s 7ms/step - loss: 2.5560 - mae: 1.2282 - val_loss: 46954768.0000 - val_mae: 6838.6934\n",
      "Epoch 26/100\n",
      "17/17 [==============================] - 0s 7ms/step - loss: 2.4633 - mae: 1.1881 - val_loss: 46084500.0000 - val_mae: 6774.3232\n",
      "Epoch 27/100\n",
      "17/17 [==============================] - 0s 6ms/step - loss: 2.3990 - mae: 1.1871 - val_loss: 45055712.0000 - val_mae: 6698.5874\n",
      "Epoch 28/100\n",
      "17/17 [==============================] - 0s 11ms/step - loss: 2.3410 - mae: 1.1721 - val_loss: 43120912.0000 - val_mae: 6553.1265\n",
      "Epoch 29/100\n",
      "17/17 [==============================] - 0s 7ms/step - loss: 2.2158 - mae: 1.1395 - val_loss: 40525520.0000 - val_mae: 6352.8730\n",
      "Epoch 30/100\n",
      "17/17 [==============================] - 0s 6ms/step - loss: 2.1586 - mae: 1.1127 - val_loss: 41818736.0000 - val_mae: 6453.2739\n",
      "Epoch 31/100\n",
      "17/17 [==============================] - 0s 6ms/step - loss: 2.1396 - mae: 1.1081 - val_loss: 40764156.0000 - val_mae: 6371.4248\n",
      "Epoch 32/100\n",
      "17/17 [==============================] - 0s 5ms/step - loss: 2.0059 - mae: 1.0779 - val_loss: 39857380.0000 - val_mae: 6299.8154\n",
      "Epoch 33/100\n",
      "17/17 [==============================] - 0s 6ms/step - loss: 1.9590 - mae: 1.0672 - val_loss: 39390248.0000 - val_mae: 6263.1235\n",
      "Epoch 34/100\n",
      "17/17 [==============================] - 0s 6ms/step - loss: 1.8853 - mae: 1.0318 - val_loss: 35932308.0000 - val_mae: 5981.7104\n",
      "Epoch 35/100\n",
      "17/17 [==============================] - 0s 5ms/step - loss: 1.7815 - mae: 1.0177 - val_loss: 35535924.0000 - val_mae: 5948.8242\n",
      "Epoch 36/100\n",
      "17/17 [==============================] - 0s 6ms/step - loss: 1.7838 - mae: 1.0221 - val_loss: 37542092.0000 - val_mae: 6114.1377\n",
      "Epoch 37/100\n",
      "17/17 [==============================] - 0s 6ms/step - loss: 1.7034 - mae: 0.9833 - val_loss: 36501296.0000 - val_mae: 6029.5967\n",
      "Epoch 38/100\n",
      "17/17 [==============================] - 0s 6ms/step - loss: 1.5954 - mae: 0.9461 - val_loss: 36554188.0000 - val_mae: 6032.8535\n",
      "Epoch 39/100\n",
      "17/17 [==============================] - 0s 6ms/step - loss: 1.5432 - mae: 0.9331 - val_loss: 36123984.0000 - val_mae: 5997.8530\n",
      "Epoch 40/100\n",
      "17/17 [==============================] - 0s 6ms/step - loss: 1.4502 - mae: 0.8975 - val_loss: 31743314.0000 - val_mae: 5622.1646\n",
      "Epoch 41/100\n",
      "17/17 [==============================] - 0s 6ms/step - loss: 1.4509 - mae: 0.9124 - val_loss: 33392174.0000 - val_mae: 5766.6475\n",
      "Epoch 42/100\n",
      "17/17 [==============================] - 0s 6ms/step - loss: 1.3191 - mae: 0.8608 - val_loss: 32240402.0000 - val_mae: 5665.8472\n",
      "Epoch 43/100\n",
      "17/17 [==============================] - 0s 7ms/step - loss: 1.3100 - mae: 0.8599 - val_loss: 31032794.0000 - val_mae: 5558.9800\n",
      "Epoch 44/100\n",
      "17/17 [==============================] - 0s 6ms/step - loss: 1.2170 - mae: 0.8278 - val_loss: 30942926.0000 - val_mae: 5550.7275\n",
      "Epoch 45/100\n",
      "17/17 [==============================] - 0s 5ms/step - loss: 1.1636 - mae: 0.8137 - val_loss: 29722232.0000 - val_mae: 5440.0513\n",
      "Epoch 46/100\n",
      "17/17 [==============================] - 0s 6ms/step - loss: 1.1759 - mae: 0.8078 - val_loss: 31427864.0000 - val_mae: 5594.3042\n",
      "Epoch 47/100\n",
      "17/17 [==============================] - 0s 6ms/step - loss: 1.0483 - mae: 0.7534 - val_loss: 30864730.0000 - val_mae: 5544.3872\n",
      "Epoch 48/100\n",
      "17/17 [==============================] - 0s 9ms/step - loss: 1.1028 - mae: 0.7825 - val_loss: 29942530.0000 - val_mae: 5460.9229\n",
      "Epoch 49/100\n",
      "17/17 [==============================] - 0s 8ms/step - loss: 0.9935 - mae: 0.7409 - val_loss: 29799998.0000 - val_mae: 5447.7388\n",
      "Epoch 50/100\n",
      "17/17 [==============================] - 0s 7ms/step - loss: 0.9045 - mae: 0.6989 - val_loss: 28835852.0000 - val_mae: 5358.5244\n",
      "Epoch 51/100\n",
      "17/17 [==============================] - 0s 7ms/step - loss: 0.8909 - mae: 0.7124 - val_loss: 28536052.0000 - val_mae: 5330.3066\n",
      "Epoch 52/100\n",
      "17/17 [==============================] - 0s 6ms/step - loss: 0.8772 - mae: 0.7044 - val_loss: 26715042.0000 - val_mae: 5157.9902\n",
      "Epoch 53/100\n",
      "17/17 [==============================] - 0s 5ms/step - loss: 0.8107 - mae: 0.6689 - val_loss: 27710112.0000 - val_mae: 5252.8804\n",
      "Epoch 54/100\n",
      "17/17 [==============================] - 0s 6ms/step - loss: 0.8217 - mae: 0.6710 - val_loss: 26523480.0000 - val_mae: 5138.8833\n",
      "Epoch 55/100\n",
      "17/17 [==============================] - 0s 6ms/step - loss: 0.7655 - mae: 0.6277 - val_loss: 27503500.0000 - val_mae: 5233.7832\n",
      "Epoch 56/100\n",
      "17/17 [==============================] - 0s 6ms/step - loss: 0.7115 - mae: 0.6246 - val_loss: 26166610.0000 - val_mae: 5104.7017\n",
      "Epoch 57/100\n",
      "17/17 [==============================] - 0s 6ms/step - loss: 0.6981 - mae: 0.5962 - val_loss: 26364852.0000 - val_mae: 5123.5396\n",
      "Epoch 58/100\n",
      "17/17 [==============================] - 0s 6ms/step - loss: 0.6755 - mae: 0.6115 - val_loss: 25605784.0000 - val_mae: 5049.5947\n",
      "Epoch 59/100\n",
      "17/17 [==============================] - 0s 6ms/step - loss: 0.6299 - mae: 0.5894 - val_loss: 25575226.0000 - val_mae: 5046.6050\n",
      "Epoch 60/100\n",
      "17/17 [==============================] - 0s 6ms/step - loss: 0.6180 - mae: 0.5696 - val_loss: 25265054.0000 - val_mae: 5015.9565\n",
      "Epoch 61/100\n",
      "17/17 [==============================] - 0s 6ms/step - loss: 0.5866 - mae: 0.5644 - val_loss: 24568088.0000 - val_mae: 4945.9282\n",
      "Epoch 62/100\n",
      "17/17 [==============================] - 0s 6ms/step - loss: 0.5848 - mae: 0.5535 - val_loss: 25329960.0000 - val_mae: 5022.5503\n",
      "Epoch 63/100\n",
      "17/17 [==============================] - 0s 6ms/step - loss: 0.5689 - mae: 0.5506 - val_loss: 25379518.0000 - val_mae: 5027.3052\n",
      "Epoch 64/100\n",
      "17/17 [==============================] - 0s 6ms/step - loss: 0.5291 - mae: 0.5324 - val_loss: 23318166.0000 - val_mae: 4819.0322\n",
      "Epoch 65/100\n",
      "17/17 [==============================] - 0s 6ms/step - loss: 0.4968 - mae: 0.5160 - val_loss: 23481850.0000 - val_mae: 4835.7129\n",
      "Epoch 66/100\n",
      "17/17 [==============================] - 0s 6ms/step - loss: 0.4961 - mae: 0.5109 - val_loss: 24141496.0000 - val_mae: 4903.2954\n",
      "Epoch 67/100\n",
      "17/17 [==============================] - 0s 5ms/step - loss: 0.4814 - mae: 0.4991 - val_loss: 23450162.0000 - val_mae: 4833.0020\n",
      "Epoch 68/100\n",
      "17/17 [==============================] - 0s 6ms/step - loss: 0.4493 - mae: 0.4817 - val_loss: 23089172.0000 - val_mae: 4795.3892\n",
      "Epoch 69/100\n",
      "17/17 [==============================] - 0s 6ms/step - loss: 0.4121 - mae: 0.4566 - val_loss: 22734238.0000 - val_mae: 4758.2700\n",
      "Epoch 70/100\n",
      "17/17 [==============================] - 0s 5ms/step - loss: 0.4432 - mae: 0.4793 - val_loss: 22486202.0000 - val_mae: 4732.4888\n",
      "Epoch 71/100\n",
      "17/17 [==============================] - 0s 6ms/step - loss: 0.4167 - mae: 0.4537 - val_loss: 23323972.0000 - val_mae: 4819.8574\n",
      "Epoch 72/100\n",
      "17/17 [==============================] - 0s 6ms/step - loss: 0.3698 - mae: 0.4368 - val_loss: 23552972.0000 - val_mae: 4843.6709\n",
      "Epoch 73/100\n",
      "17/17 [==============================] - 0s 6ms/step - loss: 0.4281 - mae: 0.4628 - val_loss: 22087168.0000 - val_mae: 4690.5015\n",
      "Epoch 74/100\n",
      "17/17 [==============================] - 0s 6ms/step - loss: 0.3702 - mae: 0.4305 - val_loss: 22997618.0000 - val_mae: 4786.0605\n",
      "Epoch 75/100\n",
      "17/17 [==============================] - 0s 6ms/step - loss: 0.3508 - mae: 0.4189 - val_loss: 22909666.0000 - val_mae: 4776.4365\n",
      "Epoch 76/100\n",
      "17/17 [==============================] - 0s 5ms/step - loss: 0.3634 - mae: 0.4258 - val_loss: 22452392.0000 - val_mae: 4728.7637\n",
      "Epoch 77/100\n",
      "17/17 [==============================] - 0s 6ms/step - loss: 0.3535 - mae: 0.4343 - val_loss: 21914018.0000 - val_mae: 4671.8525\n",
      "Epoch 78/100\n",
      "17/17 [==============================] - 0s 6ms/step - loss: 0.3402 - mae: 0.4202 - val_loss: 22424908.0000 - val_mae: 4726.4521\n",
      "Epoch 79/100\n",
      "17/17 [==============================] - 0s 9ms/step - loss: 0.3140 - mae: 0.3896 - val_loss: 21929678.0000 - val_mae: 4674.0171\n",
      "Epoch 80/100\n",
      "17/17 [==============================] - 0s 6ms/step - loss: 0.3282 - mae: 0.4110 - val_loss: 21931720.0000 - val_mae: 4674.1890\n",
      "Epoch 81/100\n",
      "17/17 [==============================] - 0s 6ms/step - loss: 0.3138 - mae: 0.3942 - val_loss: 20782932.0000 - val_mae: 4549.9253\n",
      "Epoch 82/100\n",
      "17/17 [==============================] - 0s 6ms/step - loss: 0.2995 - mae: 0.3972 - val_loss: 21171780.0000 - val_mae: 4592.5122\n",
      "Epoch 83/100\n",
      "17/17 [==============================] - 0s 5ms/step - loss: 0.2975 - mae: 0.3873 - val_loss: 20897852.0000 - val_mae: 4562.7920\n",
      "Epoch 84/100\n",
      "17/17 [==============================] - 0s 6ms/step - loss: 0.2776 - mae: 0.3789 - val_loss: 21235940.0000 - val_mae: 4599.2524\n",
      "Epoch 85/100\n",
      "17/17 [==============================] - 0s 6ms/step - loss: 0.2700 - mae: 0.3729 - val_loss: 20656362.0000 - val_mae: 4536.4028\n",
      "Epoch 86/100\n",
      "17/17 [==============================] - 0s 6ms/step - loss: 0.2900 - mae: 0.3912 - val_loss: 20270126.0000 - val_mae: 4493.5342\n",
      "Epoch 87/100\n",
      "17/17 [==============================] - 0s 6ms/step - loss: 0.2467 - mae: 0.3497 - val_loss: 21669240.0000 - val_mae: 4646.4150\n",
      "Epoch 88/100\n",
      "17/17 [==============================] - 0s 6ms/step - loss: 0.2677 - mae: 0.3669 - val_loss: 19280638.0000 - val_mae: 4382.4565\n",
      "Epoch 89/100\n",
      "17/17 [==============================] - 0s 7ms/step - loss: 0.2533 - mae: 0.3495 - val_loss: 19832494.0000 - val_mae: 4444.8262\n",
      "Epoch 90/100\n",
      "17/17 [==============================] - 0s 6ms/step - loss: 0.2477 - mae: 0.3529 - val_loss: 19759186.0000 - val_mae: 4436.6143\n",
      "Epoch 91/100\n",
      "17/17 [==============================] - 0s 6ms/step - loss: 0.2191 - mae: 0.3269 - val_loss: 21537030.0000 - val_mae: 4631.4395\n",
      "Epoch 92/100\n",
      "17/17 [==============================] - 0s 6ms/step - loss: 0.2404 - mae: 0.3512 - val_loss: 19971278.0000 - val_mae: 4460.7808\n",
      "Epoch 93/100\n",
      "17/17 [==============================] - 0s 6ms/step - loss: 0.2427 - mae: 0.3560 - val_loss: 19658114.0000 - val_mae: 4425.7495\n",
      "Epoch 94/100\n",
      "17/17 [==============================] - 1s 46ms/step - loss: 0.2344 - mae: 0.3512 - val_loss: 19391060.0000 - val_mae: 4395.5972\n",
      "Epoch 95/100\n",
      "17/17 [==============================] - 0s 7ms/step - loss: 0.2242 - mae: 0.3393 - val_loss: 19705380.0000 - val_mae: 4430.8408\n",
      "Epoch 96/100\n",
      "17/17 [==============================] - 0s 7ms/step - loss: 0.2036 - mae: 0.3195 - val_loss: 20074862.0000 - val_mae: 4471.6411\n",
      "Epoch 97/100\n",
      "17/17 [==============================] - 0s 9ms/step - loss: 0.2124 - mae: 0.3228 - val_loss: 19307366.0000 - val_mae: 4385.9980\n",
      "Epoch 98/100\n",
      "17/17 [==============================] - 0s 7ms/step - loss: 0.2041 - mae: 0.3229 - val_loss: 19325848.0000 - val_mae: 4387.9561\n",
      "Epoch 99/100\n",
      "17/17 [==============================] - 0s 7ms/step - loss: 0.2124 - mae: 0.3236 - val_loss: 19512978.0000 - val_mae: 4409.5830\n",
      "Epoch 100/100\n",
      "17/17 [==============================] - 0s 6ms/step - loss: 0.2041 - mae: 0.3211 - val_loss: 19200392.0000 - val_mae: 4373.7378\n"
     ]
    },
    {
     "output_type": "execute_result",
     "data": {
      "text/plain": [
       "<tensorflow.python.keras.callbacks.History at 0x241c3994040>"
      ]
     },
     "metadata": {},
     "execution_count": 79
    }
   ],
   "source": [
    "model.fit(train_data,train_labels,epochs=100,validation_data=(val_data,val_labels))"
   ]
  },
  {
   "cell_type": "code",
   "execution_count": 81,
   "metadata": {},
   "outputs": [
    {
     "output_type": "stream",
     "name": "stdout",
     "text": [
      "10/10 [==============================] - 0s 2ms/step - loss: 0.2057 - mae: 0.3754\n"
     ]
    }
   ],
   "source": [
    "test_mse_secore,test_mae_secore = model.evaluate(test_data,test_labels)"
   ]
  },
  {
   "cell_type": "code",
   "execution_count": 83,
   "metadata": {},
   "outputs": [
    {
     "output_type": "execute_result",
     "data": {
      "text/plain": [
       "(309, 1)"
      ]
     },
     "metadata": {},
     "execution_count": 83
    }
   ],
   "source": [
    "predict = model.predict(test_data)\n",
    "predict.shape"
   ]
  },
  {
   "cell_type": "code",
   "execution_count": 85,
   "metadata": {},
   "outputs": [],
   "source": [
    "predict = predict.reshape(309)"
   ]
  },
  {
   "cell_type": "code",
   "execution_count": 88,
   "metadata": {},
   "outputs": [
    {
     "output_type": "execute_result",
     "data": {
      "text/plain": [
       "      Actual  Prediction\n",
       "135    66.00        65.0\n",
       "442    44.64        44.0\n",
       "469    44.28        44.0\n",
       "543    10.22        11.0\n",
       "157    77.30        77.0\n",
       "...      ...         ...\n",
       "1013   40.87        40.0\n",
       "902    56.61        56.0\n",
       "126    60.29        60.0\n",
       "712    21.48        22.0\n",
       "230    30.39        30.0\n",
       "\n",
       "[309 rows x 2 columns]"
      ],
      "text/html": "<div>\n<style scoped>\n    .dataframe tbody tr th:only-of-type {\n        vertical-align: middle;\n    }\n\n    .dataframe tbody tr th {\n        vertical-align: top;\n    }\n\n    .dataframe thead th {\n        text-align: right;\n    }\n</style>\n<table border=\"1\" class=\"dataframe\">\n  <thead>\n    <tr style=\"text-align: right;\">\n      <th></th>\n      <th>Actual</th>\n      <th>Prediction</th>\n    </tr>\n  </thead>\n  <tbody>\n    <tr>\n      <th>135</th>\n      <td>66.00</td>\n      <td>65.0</td>\n    </tr>\n    <tr>\n      <th>442</th>\n      <td>44.64</td>\n      <td>44.0</td>\n    </tr>\n    <tr>\n      <th>469</th>\n      <td>44.28</td>\n      <td>44.0</td>\n    </tr>\n    <tr>\n      <th>543</th>\n      <td>10.22</td>\n      <td>11.0</td>\n    </tr>\n    <tr>\n      <th>157</th>\n      <td>77.30</td>\n      <td>77.0</td>\n    </tr>\n    <tr>\n      <th>...</th>\n      <td>...</td>\n      <td>...</td>\n    </tr>\n    <tr>\n      <th>1013</th>\n      <td>40.87</td>\n      <td>40.0</td>\n    </tr>\n    <tr>\n      <th>902</th>\n      <td>56.61</td>\n      <td>56.0</td>\n    </tr>\n    <tr>\n      <th>126</th>\n      <td>60.29</td>\n      <td>60.0</td>\n    </tr>\n    <tr>\n      <th>712</th>\n      <td>21.48</td>\n      <td>22.0</td>\n    </tr>\n    <tr>\n      <th>230</th>\n      <td>30.39</td>\n      <td>30.0</td>\n    </tr>\n  </tbody>\n</table>\n<p>309 rows × 2 columns</p>\n</div>"
     },
     "metadata": {},
     "execution_count": 88
    }
   ],
   "source": [
    "output_df = pd.DataFrame({'Actual':test_labels,'Prediction':np.round(predict)})\n",
    "output_df"
   ]
  },
  {
   "cell_type": "code",
   "execution_count": 89,
   "metadata": {},
   "outputs": [
    {
     "output_type": "execute_result",
     "data": {
      "text/plain": [
       "(309,)"
      ]
     },
     "metadata": {},
     "execution_count": 89
    }
   ],
   "source": [
    "filt = (output_df.loc[:,'Actual'] == output_df.loc[:,'Prediction'])\n",
    "filt.shape"
   ]
  },
  {
   "cell_type": "code",
   "execution_count": 90,
   "metadata": {},
   "outputs": [],
   "source": [
    "\n"
   ]
  }
 ],
 "metadata": {
  "kernelspec": {
   "name": "python382jvsc74a57bd0796a5f3ea0fd0200b0eb6589d246ae57b21d705b17540414461c2808eddeb672",
   "display_name": "Python 3.8.2 64-bit"
  },
  "language_info": {
   "codemirror_mode": {
    "name": "ipython",
    "version": 3
   },
   "file_extension": ".py",
   "mimetype": "text/x-python",
   "name": "python",
   "nbconvert_exporter": "python",
   "pygments_lexer": "ipython3",
   "version": "3.8.2-final"
  },
  "metadata": {
   "interpreter": {
    "hash": "796a5f3ea0fd0200b0eb6589d246ae57b21d705b17540414461c2808eddeb672"
   }
  }
 },
 "nbformat": 4,
 "nbformat_minor": 2
}